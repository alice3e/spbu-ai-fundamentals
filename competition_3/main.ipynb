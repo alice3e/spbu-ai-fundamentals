{
 "cells": [
  {
   "cell_type": "code",
   "execution_count": 1,
   "id": "9464b831",
   "metadata": {},
   "outputs": [],
   "source": [
    "import pandas as pd\n",
    "import numpy as np\n",
    "import matplotlib.pyplot as plt\n",
    "import seaborn as sns\n",
    "\n",
    "# Устанавливаем стиль для графиков \n",
    "sns.set_style('whitegrid')\n",
    "%matplotlib inline "
   ]
  },
  {
   "cell_type": "code",
   "execution_count": 2,
   "id": "52f18e13",
   "metadata": {},
   "outputs": [
    {
     "name": "stdout",
     "output_type": "stream",
     "text": [
      "Данные успешно загружены.\n",
      "Размер тренировочного набора: (24359, 22)\n",
      "Размер тестового набора: (16229, 21)\n"
     ]
    }
   ],
   "source": [
    "train_df = pd.read_csv('train.csv')\n",
    "test_df = pd.read_csv('test.csv')\n",
    "\n",
    "print(\"Данные успешно загружены.\")\n",
    "print(f\"Размер тренировочного набора: {train_df.shape}\")\n",
    "print(f\"Размер тестового набора: {test_df.shape}\")"
   ]
  },
  {
   "cell_type": "code",
   "execution_count": 3,
   "id": "48128f07",
   "metadata": {},
   "outputs": [
    {
     "data": {
      "text/html": [
       "<div>\n",
       "<style scoped>\n",
       "    .dataframe tbody tr th:only-of-type {\n",
       "        vertical-align: middle;\n",
       "    }\n",
       "\n",
       "    .dataframe tbody tr th {\n",
       "        vertical-align: top;\n",
       "    }\n",
       "\n",
       "    .dataframe thead th {\n",
       "        text-align: right;\n",
       "    }\n",
       "</style>\n",
       "<table border=\"1\" class=\"dataframe\">\n",
       "  <thead>\n",
       "    <tr style=\"text-align: right;\">\n",
       "      <th></th>\n",
       "      <th>id</th>\n",
       "      <th>title</th>\n",
       "      <th>text</th>\n",
       "      <th>label</th>\n",
       "      <th>Unnamed: 4</th>\n",
       "      <th>Unnamed: 5</th>\n",
       "      <th>Unnamed: 6</th>\n",
       "      <th>Unnamed: 7</th>\n",
       "      <th>Unnamed: 8</th>\n",
       "      <th>Unnamed: 9</th>\n",
       "      <th>...</th>\n",
       "      <th>Unnamed: 12</th>\n",
       "      <th>Unnamed: 13</th>\n",
       "      <th>Unnamed: 14</th>\n",
       "      <th>Unnamed: 15</th>\n",
       "      <th>Unnamed: 16</th>\n",
       "      <th>Unnamed: 17</th>\n",
       "      <th>Unnamed: 18</th>\n",
       "      <th>Unnamed: 19</th>\n",
       "      <th>Unnamed: 20</th>\n",
       "      <th>Unnamed: 21</th>\n",
       "    </tr>\n",
       "  </thead>\n",
       "  <tbody>\n",
       "    <tr>\n",
       "      <th>0</th>\n",
       "      <td>1</td>\n",
       "      <td>Regional African body says ready to work close...</td>\n",
       "      <td>JOHANNESBURG (Reuters) - The Southern African ...</td>\n",
       "      <td>1.0</td>\n",
       "      <td>NaN</td>\n",
       "      <td>NaN</td>\n",
       "      <td>NaN</td>\n",
       "      <td>NaN</td>\n",
       "      <td>NaN</td>\n",
       "      <td>NaN</td>\n",
       "      <td>...</td>\n",
       "      <td>NaN</td>\n",
       "      <td>NaN</td>\n",
       "      <td>NaN</td>\n",
       "      <td>NaN</td>\n",
       "      <td>NaN</td>\n",
       "      <td>NaN</td>\n",
       "      <td>NaN</td>\n",
       "      <td>NaN</td>\n",
       "      <td>NaN</td>\n",
       "      <td>NaN</td>\n",
       "    </tr>\n",
       "    <tr>\n",
       "      <th>1</th>\n",
       "      <td>2</td>\n",
       "      <td>New Report Says Trump Destroyed Scaramucci’s ...</td>\n",
       "      <td>Donald Trump s new pick for Communications Dir...</td>\n",
       "      <td>0.0</td>\n",
       "      <td>NaN</td>\n",
       "      <td>NaN</td>\n",
       "      <td>NaN</td>\n",
       "      <td>NaN</td>\n",
       "      <td>NaN</td>\n",
       "      <td>NaN</td>\n",
       "      <td>...</td>\n",
       "      <td>NaN</td>\n",
       "      <td>NaN</td>\n",
       "      <td>NaN</td>\n",
       "      <td>NaN</td>\n",
       "      <td>NaN</td>\n",
       "      <td>NaN</td>\n",
       "      <td>NaN</td>\n",
       "      <td>NaN</td>\n",
       "      <td>NaN</td>\n",
       "      <td>NaN</td>\n",
       "    </tr>\n",
       "    <tr>\n",
       "      <th>2</th>\n",
       "      <td>3</td>\n",
       "      <td>Hamas chief in Gaza says Palestinian unity dea...</td>\n",
       "      <td>GAZA (Reuters) - Palestinian Islamist group Ha...</td>\n",
       "      <td>1.0</td>\n",
       "      <td>NaN</td>\n",
       "      <td>NaN</td>\n",
       "      <td>NaN</td>\n",
       "      <td>NaN</td>\n",
       "      <td>NaN</td>\n",
       "      <td>NaN</td>\n",
       "      <td>...</td>\n",
       "      <td>NaN</td>\n",
       "      <td>NaN</td>\n",
       "      <td>NaN</td>\n",
       "      <td>NaN</td>\n",
       "      <td>NaN</td>\n",
       "      <td>NaN</td>\n",
       "      <td>NaN</td>\n",
       "      <td>NaN</td>\n",
       "      <td>NaN</td>\n",
       "      <td>NaN</td>\n",
       "    </tr>\n",
       "    <tr>\n",
       "      <th>3</th>\n",
       "      <td>4</td>\n",
       "      <td>Police fire tear gas at Congo opposition leade...</td>\n",
       "      <td>KINSHASA (Reuters) - Police fired tear gas to ...</td>\n",
       "      <td>1.0</td>\n",
       "      <td>NaN</td>\n",
       "      <td>NaN</td>\n",
       "      <td>NaN</td>\n",
       "      <td>NaN</td>\n",
       "      <td>NaN</td>\n",
       "      <td>NaN</td>\n",
       "      <td>...</td>\n",
       "      <td>NaN</td>\n",
       "      <td>NaN</td>\n",
       "      <td>NaN</td>\n",
       "      <td>NaN</td>\n",
       "      <td>NaN</td>\n",
       "      <td>NaN</td>\n",
       "      <td>NaN</td>\n",
       "      <td>NaN</td>\n",
       "      <td>NaN</td>\n",
       "      <td>NaN</td>\n",
       "    </tr>\n",
       "    <tr>\n",
       "      <th>4</th>\n",
       "      <td>5</td>\n",
       "      <td>PRESIDENT TRUMP Hits Back At Activist Judge On...</td>\n",
       "      <td>Judge Orrick in California ruled against Presi...</td>\n",
       "      <td>0.0</td>\n",
       "      <td>NaN</td>\n",
       "      <td>NaN</td>\n",
       "      <td>NaN</td>\n",
       "      <td>NaN</td>\n",
       "      <td>NaN</td>\n",
       "      <td>NaN</td>\n",
       "      <td>...</td>\n",
       "      <td>NaN</td>\n",
       "      <td>NaN</td>\n",
       "      <td>NaN</td>\n",
       "      <td>NaN</td>\n",
       "      <td>NaN</td>\n",
       "      <td>NaN</td>\n",
       "      <td>NaN</td>\n",
       "      <td>NaN</td>\n",
       "      <td>NaN</td>\n",
       "      <td>NaN</td>\n",
       "    </tr>\n",
       "  </tbody>\n",
       "</table>\n",
       "<p>5 rows × 22 columns</p>\n",
       "</div>"
      ],
      "text/plain": [
       "   id                                              title  \\\n",
       "0   1  Regional African body says ready to work close...   \n",
       "1   2   New Report Says Trump Destroyed Scaramucci’s ...   \n",
       "2   3  Hamas chief in Gaza says Palestinian unity dea...   \n",
       "3   4  Police fire tear gas at Congo opposition leade...   \n",
       "4   5  PRESIDENT TRUMP Hits Back At Activist Judge On...   \n",
       "\n",
       "                                                text  label  Unnamed: 4  \\\n",
       "0  JOHANNESBURG (Reuters) - The Southern African ...    1.0         NaN   \n",
       "1  Donald Trump s new pick for Communications Dir...    0.0         NaN   \n",
       "2  GAZA (Reuters) - Palestinian Islamist group Ha...    1.0         NaN   \n",
       "3  KINSHASA (Reuters) - Police fired tear gas to ...    1.0         NaN   \n",
       "4  Judge Orrick in California ruled against Presi...    0.0         NaN   \n",
       "\n",
       "   Unnamed: 5  Unnamed: 6  Unnamed: 7  Unnamed: 8  Unnamed: 9  ...  \\\n",
       "0         NaN         NaN         NaN         NaN         NaN  ...   \n",
       "1         NaN         NaN         NaN         NaN         NaN  ...   \n",
       "2         NaN         NaN         NaN         NaN         NaN  ...   \n",
       "3         NaN         NaN         NaN         NaN         NaN  ...   \n",
       "4         NaN         NaN         NaN         NaN         NaN  ...   \n",
       "\n",
       "   Unnamed: 12  Unnamed: 13  Unnamed: 14  Unnamed: 15  Unnamed: 16  \\\n",
       "0          NaN          NaN          NaN          NaN          NaN   \n",
       "1          NaN          NaN          NaN          NaN          NaN   \n",
       "2          NaN          NaN          NaN          NaN          NaN   \n",
       "3          NaN          NaN          NaN          NaN          NaN   \n",
       "4          NaN          NaN          NaN          NaN          NaN   \n",
       "\n",
       "   Unnamed: 17  Unnamed: 18  Unnamed: 19  Unnamed: 20  Unnamed: 21  \n",
       "0          NaN          NaN          NaN          NaN          NaN  \n",
       "1          NaN          NaN          NaN          NaN          NaN  \n",
       "2          NaN          NaN          NaN          NaN          NaN  \n",
       "3          NaN          NaN          NaN          NaN          NaN  \n",
       "4          NaN          NaN          NaN          NaN          NaN  \n",
       "\n",
       "[5 rows x 22 columns]"
      ]
     },
     "metadata": {},
     "output_type": "display_data"
    },
    {
     "name": "stdout",
     "output_type": "stream",
     "text": [
      "<class 'pandas.core.frame.DataFrame'>\n",
      "RangeIndex: 24359 entries, 0 to 24358\n",
      "Data columns (total 22 columns):\n",
      " #   Column       Non-Null Count  Dtype  \n",
      "---  ------       --------------  -----  \n",
      " 0   id           24359 non-null  int64  \n",
      " 1   title        24359 non-null  object \n",
      " 2   text         24355 non-null  object \n",
      " 3   label        24347 non-null  float64\n",
      " 4   Unnamed: 4   0 non-null      float64\n",
      " 5   Unnamed: 5   0 non-null      float64\n",
      " 6   Unnamed: 6   0 non-null      float64\n",
      " 7   Unnamed: 7   0 non-null      float64\n",
      " 8   Unnamed: 8   0 non-null      float64\n",
      " 9   Unnamed: 9   0 non-null      float64\n",
      " 10  Unnamed: 10  0 non-null      float64\n",
      " 11  Unnamed: 11  0 non-null      float64\n",
      " 12  Unnamed: 12  0 non-null      float64\n",
      " 13  Unnamed: 13  0 non-null      float64\n",
      " 14  Unnamed: 14  0 non-null      float64\n",
      " 15  Unnamed: 15  0 non-null      float64\n",
      " 16  Unnamed: 16  0 non-null      float64\n",
      " 17  Unnamed: 17  0 non-null      float64\n",
      " 18  Unnamed: 18  0 non-null      float64\n",
      " 19  Unnamed: 19  0 non-null      float64\n",
      " 20  Unnamed: 20  0 non-null      float64\n",
      " 21  Unnamed: 21  0 non-null      float64\n",
      "dtypes: float64(19), int64(1), object(2)\n",
      "memory usage: 4.1+ MB\n"
     ]
    },
    {
     "data": {
      "text/html": [
       "<div>\n",
       "<style scoped>\n",
       "    .dataframe tbody tr th:only-of-type {\n",
       "        vertical-align: middle;\n",
       "    }\n",
       "\n",
       "    .dataframe tbody tr th {\n",
       "        vertical-align: top;\n",
       "    }\n",
       "\n",
       "    .dataframe thead th {\n",
       "        text-align: right;\n",
       "    }\n",
       "</style>\n",
       "<table border=\"1\" class=\"dataframe\">\n",
       "  <thead>\n",
       "    <tr style=\"text-align: right;\">\n",
       "      <th></th>\n",
       "      <th>id</th>\n",
       "      <th>title</th>\n",
       "      <th>text</th>\n",
       "      <th>label</th>\n",
       "      <th>Unnamed: 4</th>\n",
       "      <th>Unnamed: 5</th>\n",
       "      <th>Unnamed: 6</th>\n",
       "      <th>Unnamed: 7</th>\n",
       "      <th>Unnamed: 8</th>\n",
       "      <th>Unnamed: 9</th>\n",
       "      <th>...</th>\n",
       "      <th>Unnamed: 12</th>\n",
       "      <th>Unnamed: 13</th>\n",
       "      <th>Unnamed: 14</th>\n",
       "      <th>Unnamed: 15</th>\n",
       "      <th>Unnamed: 16</th>\n",
       "      <th>Unnamed: 17</th>\n",
       "      <th>Unnamed: 18</th>\n",
       "      <th>Unnamed: 19</th>\n",
       "      <th>Unnamed: 20</th>\n",
       "      <th>Unnamed: 21</th>\n",
       "    </tr>\n",
       "  </thead>\n",
       "  <tbody>\n",
       "    <tr>\n",
       "      <th>count</th>\n",
       "      <td>24359.000000</td>\n",
       "      <td>24359</td>\n",
       "      <td>24355</td>\n",
       "      <td>24347.000000</td>\n",
       "      <td>0.0</td>\n",
       "      <td>0.0</td>\n",
       "      <td>0.0</td>\n",
       "      <td>0.0</td>\n",
       "      <td>0.0</td>\n",
       "      <td>0.0</td>\n",
       "      <td>...</td>\n",
       "      <td>0.0</td>\n",
       "      <td>0.0</td>\n",
       "      <td>0.0</td>\n",
       "      <td>0.0</td>\n",
       "      <td>0.0</td>\n",
       "      <td>0.0</td>\n",
       "      <td>0.0</td>\n",
       "      <td>0.0</td>\n",
       "      <td>0.0</td>\n",
       "      <td>0.0</td>\n",
       "    </tr>\n",
       "    <tr>\n",
       "      <th>unique</th>\n",
       "      <td>NaN</td>\n",
       "      <td>24070</td>\n",
       "      <td>24354</td>\n",
       "      <td>NaN</td>\n",
       "      <td>NaN</td>\n",
       "      <td>NaN</td>\n",
       "      <td>NaN</td>\n",
       "      <td>NaN</td>\n",
       "      <td>NaN</td>\n",
       "      <td>NaN</td>\n",
       "      <td>...</td>\n",
       "      <td>NaN</td>\n",
       "      <td>NaN</td>\n",
       "      <td>NaN</td>\n",
       "      <td>NaN</td>\n",
       "      <td>NaN</td>\n",
       "      <td>NaN</td>\n",
       "      <td>NaN</td>\n",
       "      <td>NaN</td>\n",
       "      <td>NaN</td>\n",
       "      <td>NaN</td>\n",
       "    </tr>\n",
       "    <tr>\n",
       "      <th>top</th>\n",
       "      <td>NaN</td>\n",
       "      <td>no title</td>\n",
       "      <td>In its 109-year history, only one F.B.I. direc...</td>\n",
       "      <td>NaN</td>\n",
       "      <td>NaN</td>\n",
       "      <td>NaN</td>\n",
       "      <td>NaN</td>\n",
       "      <td>NaN</td>\n",
       "      <td>NaN</td>\n",
       "      <td>NaN</td>\n",
       "      <td>...</td>\n",
       "      <td>NaN</td>\n",
       "      <td>NaN</td>\n",
       "      <td>NaN</td>\n",
       "      <td>NaN</td>\n",
       "      <td>NaN</td>\n",
       "      <td>NaN</td>\n",
       "      <td>NaN</td>\n",
       "      <td>NaN</td>\n",
       "      <td>NaN</td>\n",
       "      <td>NaN</td>\n",
       "    </tr>\n",
       "    <tr>\n",
       "      <th>freq</th>\n",
       "      <td>NaN</td>\n",
       "      <td>104</td>\n",
       "      <td>2</td>\n",
       "      <td>NaN</td>\n",
       "      <td>NaN</td>\n",
       "      <td>NaN</td>\n",
       "      <td>NaN</td>\n",
       "      <td>NaN</td>\n",
       "      <td>NaN</td>\n",
       "      <td>NaN</td>\n",
       "      <td>...</td>\n",
       "      <td>NaN</td>\n",
       "      <td>NaN</td>\n",
       "      <td>NaN</td>\n",
       "      <td>NaN</td>\n",
       "      <td>NaN</td>\n",
       "      <td>NaN</td>\n",
       "      <td>NaN</td>\n",
       "      <td>NaN</td>\n",
       "      <td>NaN</td>\n",
       "      <td>NaN</td>\n",
       "    </tr>\n",
       "    <tr>\n",
       "      <th>mean</th>\n",
       "      <td>12180.887803</td>\n",
       "      <td>NaN</td>\n",
       "      <td>NaN</td>\n",
       "      <td>0.544051</td>\n",
       "      <td>NaN</td>\n",
       "      <td>NaN</td>\n",
       "      <td>NaN</td>\n",
       "      <td>NaN</td>\n",
       "      <td>NaN</td>\n",
       "      <td>NaN</td>\n",
       "      <td>...</td>\n",
       "      <td>NaN</td>\n",
       "      <td>NaN</td>\n",
       "      <td>NaN</td>\n",
       "      <td>NaN</td>\n",
       "      <td>NaN</td>\n",
       "      <td>NaN</td>\n",
       "      <td>NaN</td>\n",
       "      <td>NaN</td>\n",
       "      <td>NaN</td>\n",
       "      <td>NaN</td>\n",
       "    </tr>\n",
       "    <tr>\n",
       "      <th>std</th>\n",
       "      <td>7032.154475</td>\n",
       "      <td>NaN</td>\n",
       "      <td>NaN</td>\n",
       "      <td>0.498066</td>\n",
       "      <td>NaN</td>\n",
       "      <td>NaN</td>\n",
       "      <td>NaN</td>\n",
       "      <td>NaN</td>\n",
       "      <td>NaN</td>\n",
       "      <td>NaN</td>\n",
       "      <td>...</td>\n",
       "      <td>NaN</td>\n",
       "      <td>NaN</td>\n",
       "      <td>NaN</td>\n",
       "      <td>NaN</td>\n",
       "      <td>NaN</td>\n",
       "      <td>NaN</td>\n",
       "      <td>NaN</td>\n",
       "      <td>NaN</td>\n",
       "      <td>NaN</td>\n",
       "      <td>NaN</td>\n",
       "    </tr>\n",
       "    <tr>\n",
       "      <th>min</th>\n",
       "      <td>1.000000</td>\n",
       "      <td>NaN</td>\n",
       "      <td>NaN</td>\n",
       "      <td>0.000000</td>\n",
       "      <td>NaN</td>\n",
       "      <td>NaN</td>\n",
       "      <td>NaN</td>\n",
       "      <td>NaN</td>\n",
       "      <td>NaN</td>\n",
       "      <td>NaN</td>\n",
       "      <td>...</td>\n",
       "      <td>NaN</td>\n",
       "      <td>NaN</td>\n",
       "      <td>NaN</td>\n",
       "      <td>NaN</td>\n",
       "      <td>NaN</td>\n",
       "      <td>NaN</td>\n",
       "      <td>NaN</td>\n",
       "      <td>NaN</td>\n",
       "      <td>NaN</td>\n",
       "      <td>NaN</td>\n",
       "    </tr>\n",
       "    <tr>\n",
       "      <th>25%</th>\n",
       "      <td>6091.500000</td>\n",
       "      <td>NaN</td>\n",
       "      <td>NaN</td>\n",
       "      <td>0.000000</td>\n",
       "      <td>NaN</td>\n",
       "      <td>NaN</td>\n",
       "      <td>NaN</td>\n",
       "      <td>NaN</td>\n",
       "      <td>NaN</td>\n",
       "      <td>NaN</td>\n",
       "      <td>...</td>\n",
       "      <td>NaN</td>\n",
       "      <td>NaN</td>\n",
       "      <td>NaN</td>\n",
       "      <td>NaN</td>\n",
       "      <td>NaN</td>\n",
       "      <td>NaN</td>\n",
       "      <td>NaN</td>\n",
       "      <td>NaN</td>\n",
       "      <td>NaN</td>\n",
       "      <td>NaN</td>\n",
       "    </tr>\n",
       "    <tr>\n",
       "      <th>50%</th>\n",
       "      <td>12181.000000</td>\n",
       "      <td>NaN</td>\n",
       "      <td>NaN</td>\n",
       "      <td>1.000000</td>\n",
       "      <td>NaN</td>\n",
       "      <td>NaN</td>\n",
       "      <td>NaN</td>\n",
       "      <td>NaN</td>\n",
       "      <td>NaN</td>\n",
       "      <td>NaN</td>\n",
       "      <td>...</td>\n",
       "      <td>NaN</td>\n",
       "      <td>NaN</td>\n",
       "      <td>NaN</td>\n",
       "      <td>NaN</td>\n",
       "      <td>NaN</td>\n",
       "      <td>NaN</td>\n",
       "      <td>NaN</td>\n",
       "      <td>NaN</td>\n",
       "      <td>NaN</td>\n",
       "      <td>NaN</td>\n",
       "    </tr>\n",
       "    <tr>\n",
       "      <th>75%</th>\n",
       "      <td>18270.500000</td>\n",
       "      <td>NaN</td>\n",
       "      <td>NaN</td>\n",
       "      <td>1.000000</td>\n",
       "      <td>NaN</td>\n",
       "      <td>NaN</td>\n",
       "      <td>NaN</td>\n",
       "      <td>NaN</td>\n",
       "      <td>NaN</td>\n",
       "      <td>NaN</td>\n",
       "      <td>...</td>\n",
       "      <td>NaN</td>\n",
       "      <td>NaN</td>\n",
       "      <td>NaN</td>\n",
       "      <td>NaN</td>\n",
       "      <td>NaN</td>\n",
       "      <td>NaN</td>\n",
       "      <td>NaN</td>\n",
       "      <td>NaN</td>\n",
       "      <td>NaN</td>\n",
       "      <td>NaN</td>\n",
       "    </tr>\n",
       "    <tr>\n",
       "      <th>max</th>\n",
       "      <td>24360.000000</td>\n",
       "      <td>NaN</td>\n",
       "      <td>NaN</td>\n",
       "      <td>1.000000</td>\n",
       "      <td>NaN</td>\n",
       "      <td>NaN</td>\n",
       "      <td>NaN</td>\n",
       "      <td>NaN</td>\n",
       "      <td>NaN</td>\n",
       "      <td>NaN</td>\n",
       "      <td>...</td>\n",
       "      <td>NaN</td>\n",
       "      <td>NaN</td>\n",
       "      <td>NaN</td>\n",
       "      <td>NaN</td>\n",
       "      <td>NaN</td>\n",
       "      <td>NaN</td>\n",
       "      <td>NaN</td>\n",
       "      <td>NaN</td>\n",
       "      <td>NaN</td>\n",
       "      <td>NaN</td>\n",
       "    </tr>\n",
       "  </tbody>\n",
       "</table>\n",
       "<p>11 rows × 22 columns</p>\n",
       "</div>"
      ],
      "text/plain": [
       "                  id     title  \\\n",
       "count   24359.000000     24359   \n",
       "unique           NaN     24070   \n",
       "top              NaN  no title   \n",
       "freq             NaN       104   \n",
       "mean    12180.887803       NaN   \n",
       "std      7032.154475       NaN   \n",
       "min         1.000000       NaN   \n",
       "25%      6091.500000       NaN   \n",
       "50%     12181.000000       NaN   \n",
       "75%     18270.500000       NaN   \n",
       "max     24360.000000       NaN   \n",
       "\n",
       "                                                     text         label  \\\n",
       "count                                               24355  24347.000000   \n",
       "unique                                              24354           NaN   \n",
       "top     In its 109-year history, only one F.B.I. direc...           NaN   \n",
       "freq                                                    2           NaN   \n",
       "mean                                                  NaN      0.544051   \n",
       "std                                                   NaN      0.498066   \n",
       "min                                                   NaN      0.000000   \n",
       "25%                                                   NaN      0.000000   \n",
       "50%                                                   NaN      1.000000   \n",
       "75%                                                   NaN      1.000000   \n",
       "max                                                   NaN      1.000000   \n",
       "\n",
       "        Unnamed: 4  Unnamed: 5  Unnamed: 6  Unnamed: 7  Unnamed: 8  \\\n",
       "count          0.0         0.0         0.0         0.0         0.0   \n",
       "unique         NaN         NaN         NaN         NaN         NaN   \n",
       "top            NaN         NaN         NaN         NaN         NaN   \n",
       "freq           NaN         NaN         NaN         NaN         NaN   \n",
       "mean           NaN         NaN         NaN         NaN         NaN   \n",
       "std            NaN         NaN         NaN         NaN         NaN   \n",
       "min            NaN         NaN         NaN         NaN         NaN   \n",
       "25%            NaN         NaN         NaN         NaN         NaN   \n",
       "50%            NaN         NaN         NaN         NaN         NaN   \n",
       "75%            NaN         NaN         NaN         NaN         NaN   \n",
       "max            NaN         NaN         NaN         NaN         NaN   \n",
       "\n",
       "        Unnamed: 9  ...  Unnamed: 12  Unnamed: 13  Unnamed: 14  Unnamed: 15  \\\n",
       "count          0.0  ...          0.0          0.0          0.0          0.0   \n",
       "unique         NaN  ...          NaN          NaN          NaN          NaN   \n",
       "top            NaN  ...          NaN          NaN          NaN          NaN   \n",
       "freq           NaN  ...          NaN          NaN          NaN          NaN   \n",
       "mean           NaN  ...          NaN          NaN          NaN          NaN   \n",
       "std            NaN  ...          NaN          NaN          NaN          NaN   \n",
       "min            NaN  ...          NaN          NaN          NaN          NaN   \n",
       "25%            NaN  ...          NaN          NaN          NaN          NaN   \n",
       "50%            NaN  ...          NaN          NaN          NaN          NaN   \n",
       "75%            NaN  ...          NaN          NaN          NaN          NaN   \n",
       "max            NaN  ...          NaN          NaN          NaN          NaN   \n",
       "\n",
       "        Unnamed: 16  Unnamed: 17  Unnamed: 18  Unnamed: 19  Unnamed: 20  \\\n",
       "count           0.0          0.0          0.0          0.0          0.0   \n",
       "unique          NaN          NaN          NaN          NaN          NaN   \n",
       "top             NaN          NaN          NaN          NaN          NaN   \n",
       "freq            NaN          NaN          NaN          NaN          NaN   \n",
       "mean            NaN          NaN          NaN          NaN          NaN   \n",
       "std             NaN          NaN          NaN          NaN          NaN   \n",
       "min             NaN          NaN          NaN          NaN          NaN   \n",
       "25%             NaN          NaN          NaN          NaN          NaN   \n",
       "50%             NaN          NaN          NaN          NaN          NaN   \n",
       "75%             NaN          NaN          NaN          NaN          NaN   \n",
       "max             NaN          NaN          NaN          NaN          NaN   \n",
       "\n",
       "        Unnamed: 21  \n",
       "count           0.0  \n",
       "unique          NaN  \n",
       "top             NaN  \n",
       "freq            NaN  \n",
       "mean            NaN  \n",
       "std             NaN  \n",
       "min             NaN  \n",
       "25%             NaN  \n",
       "50%             NaN  \n",
       "75%             NaN  \n",
       "max             NaN  \n",
       "\n",
       "[11 rows x 22 columns]"
      ]
     },
     "metadata": {},
     "output_type": "display_data"
    },
    {
     "name": "stdout",
     "output_type": "stream",
     "text": [
      "id                 0\n",
      "title              0\n",
      "text               4\n",
      "label             12\n",
      "Unnamed: 4     24359\n",
      "Unnamed: 5     24359\n",
      "Unnamed: 6     24359\n",
      "Unnamed: 7     24359\n",
      "Unnamed: 8     24359\n",
      "Unnamed: 9     24359\n",
      "Unnamed: 10    24359\n",
      "Unnamed: 11    24359\n",
      "Unnamed: 12    24359\n",
      "Unnamed: 13    24359\n",
      "Unnamed: 14    24359\n",
      "Unnamed: 15    24359\n",
      "Unnamed: 16    24359\n",
      "Unnamed: 17    24359\n",
      "Unnamed: 18    24359\n",
      "Unnamed: 19    24359\n",
      "Unnamed: 20    24359\n",
      "Unnamed: 21    24359\n",
      "dtype: int64\n",
      "\n",
      "Столбцы до проверки 'Unnamed:' столбцов:\n",
      "Index(['id', 'title', 'text', 'label', 'Unnamed: 4', 'Unnamed: 5',\n",
      "       'Unnamed: 6', 'Unnamed: 7', 'Unnamed: 8', 'Unnamed: 9', 'Unnamed: 10',\n",
      "       'Unnamed: 11', 'Unnamed: 12', 'Unnamed: 13', 'Unnamed: 14',\n",
      "       'Unnamed: 15', 'Unnamed: 16', 'Unnamed: 17', 'Unnamed: 18',\n",
      "       'Unnamed: 19', 'Unnamed: 20', 'Unnamed: 21'],\n",
      "      dtype='object')\n"
     ]
    }
   ],
   "source": [
    "display(train_df.head()) \n",
    "\n",
    "train_df.info()\n",
    "\n",
    "display(train_df.describe(include='all'))\n",
    "\n",
    "print(train_df.isnull().sum())\n",
    "\n",
    "# Проверка и удаление лишних столбцов 'Unnamed: X'\n",
    "print(\"\\nСтолбцы до проверки 'Unnamed:' столбцов:\")\n",
    "print(train_df.columns)\n"
   ]
  },
  {
   "cell_type": "code",
   "execution_count": 4,
   "id": "08b1ec2e",
   "metadata": {},
   "outputs": [
    {
     "name": "stdout",
     "output_type": "stream",
     "text": [
      "Index(['id', 'title', 'text', 'label'], dtype='object')\n",
      "\n",
      "Распределение целевой переменной 'label':\n",
      "label\n",
      "1.0    54.40506\n",
      "0.0    45.59494\n",
      "Name: proportion, dtype: float64\n"
     ]
    },
    {
     "data": {
      "image/png": "[encoded data removed]",
      "text/plain": [
       "<Figure size 600x400 with 1 Axes>"
      ]
     },
     "metadata": {},
     "output_type": "display_data"
    }
   ],
   "source": [
    "\n",
    "unnamed_cols_train = [col for col in train_df.columns if 'Unnamed:' in col]\n",
    "if unnamed_cols_train:\n",
    "    train_df = train_df.drop(columns=unnamed_cols_train, errors='ignore') # errors='ignore' на случай если уже удалены\n",
    "    print(train_df.columns)\n",
    "else:\n",
    "    print(\"Лишних столбцов 'Unnamed:' в train_df не обнаружено.\")\n",
    "\n",
    "\n",
    "# Распределение целевой переменной 'label'\n",
    "print(\"\\nРаспределение целевой переменной 'label':\")\n",
    "\n",
    "label_distribution = train_df['label'].value_counts(normalize=True) * 100\n",
    "print(label_distribution)\n",
    "\n",
    "# Визуализация распределения классов\n",
    "plt.figure(figsize=(6, 4))\n",
    "sns.countplot(x='label', data=train_df)\n",
    "plt.title('Распределение классов в train_df (0 - Fake, 1 - Real)')\n",
    "plt.xlabel('Метка')\n",
    "plt.ylabel('Количество')\n",
    "plt.xticks([0, 1], ['Fake (0)', 'Real (1)']) # Более понятные метки на оси X\n",
    "plt.show()\n",
    "\n",
    "\n"
   ]
  },
  {
   "cell_type": "code",
   "execution_count": 5,
   "id": "0e8d86b6",
   "metadata": {},
   "outputs": [
    {
     "data": {
      "text/html": [
       "<div>\n",
       "<style scoped>\n",
       "    .dataframe tbody tr th:only-of-type {\n",
       "        vertical-align: middle;\n",
       "    }\n",
       "\n",
       "    .dataframe tbody tr th {\n",
       "        vertical-align: top;\n",
       "    }\n",
       "\n",
       "    .dataframe thead th {\n",
       "        text-align: right;\n",
       "    }\n",
       "</style>\n",
       "<table border=\"1\" class=\"dataframe\">\n",
       "  <thead>\n",
       "    <tr style=\"text-align: right;\">\n",
       "      <th></th>\n",
       "      <th>id</th>\n",
       "      <th>title</th>\n",
       "      <th>text</th>\n",
       "      <th>label</th>\n",
       "    </tr>\n",
       "  </thead>\n",
       "  <tbody>\n",
       "    <tr>\n",
       "      <th>0</th>\n",
       "      <td>1</td>\n",
       "      <td>Regional African body says ready to work close...</td>\n",
       "      <td>JOHANNESBURG (Reuters) - The Southern African ...</td>\n",
       "      <td>1.0</td>\n",
       "    </tr>\n",
       "    <tr>\n",
       "      <th>1</th>\n",
       "      <td>2</td>\n",
       "      <td>New Report Says Trump Destroyed Scaramucci’s ...</td>\n",
       "      <td>Donald Trump s new pick for Communications Dir...</td>\n",
       "      <td>0.0</td>\n",
       "    </tr>\n",
       "    <tr>\n",
       "      <th>2</th>\n",
       "      <td>3</td>\n",
       "      <td>Hamas chief in Gaza says Palestinian unity dea...</td>\n",
       "      <td>GAZA (Reuters) - Palestinian Islamist group Ha...</td>\n",
       "      <td>1.0</td>\n",
       "    </tr>\n",
       "    <tr>\n",
       "      <th>3</th>\n",
       "      <td>4</td>\n",
       "      <td>Police fire tear gas at Congo opposition leade...</td>\n",
       "      <td>KINSHASA (Reuters) - Police fired tear gas to ...</td>\n",
       "      <td>1.0</td>\n",
       "    </tr>\n",
       "    <tr>\n",
       "      <th>4</th>\n",
       "      <td>5</td>\n",
       "      <td>PRESIDENT TRUMP Hits Back At Activist Judge On...</td>\n",
       "      <td>Judge Orrick in California ruled against Presi...</td>\n",
       "      <td>0.0</td>\n",
       "    </tr>\n",
       "  </tbody>\n",
       "</table>\n",
       "</div>"
      ],
      "text/plain": [
       "   id                                              title  \\\n",
       "0   1  Regional African body says ready to work close...   \n",
       "1   2   New Report Says Trump Destroyed Scaramucci’s ...   \n",
       "2   3  Hamas chief in Gaza says Palestinian unity dea...   \n",
       "3   4  Police fire tear gas at Congo opposition leade...   \n",
       "4   5  PRESIDENT TRUMP Hits Back At Activist Judge On...   \n",
       "\n",
       "                                                text  label  \n",
       "0  JOHANNESBURG (Reuters) - The Southern African ...    1.0  \n",
       "1  Donald Trump s new pick for Communications Dir...    0.0  \n",
       "2  GAZA (Reuters) - Palestinian Islamist group Ha...    1.0  \n",
       "3  KINSHASA (Reuters) - Police fired tear gas to ...    1.0  \n",
       "4  Judge Orrick in California ruled against Presi...    0.0  "
      ]
     },
     "execution_count": 5,
     "metadata": {},
     "output_type": "execute_result"
    }
   ],
   "source": [
    "train_df.head()"
   ]
  },
  {
   "cell_type": "code",
   "execution_count": 6,
   "id": "c6fa7d09",
   "metadata": {},
   "outputs": [
    {
     "name": "stdout",
     "output_type": "stream",
     "text": [
      "--- Удаление строк с NaN в 'label' из train_df ---\n",
      "Размер train_df до удаления NaN в 'label': (24359, 4)\n",
      "Количество NaN в 'label' до удаления: 12\n",
      "\n",
      "Размер train_df после удаления NaN в 'label': (24347, 4)\n",
      "Количество NaN в 'label' после удаления: 0\n",
      "\n",
      "Пропуски в train_df после удаления строк с NaN в 'label':\n",
      "id       0\n",
      "title    0\n",
      "text     0\n",
      "label    0\n",
      "dtype: int64\n",
      "\n",
      "Первые 5 строк train_df с новыми признаками:\n"
     ]
    },
    {
     "data": {
      "text/html": [
       "<div>\n",
       "<style scoped>\n",
       "    .dataframe tbody tr th:only-of-type {\n",
       "        vertical-align: middle;\n",
       "    }\n",
       "\n",
       "    .dataframe tbody tr th {\n",
       "        vertical-align: top;\n",
       "    }\n",
       "\n",
       "    .dataframe thead th {\n",
       "        text-align: right;\n",
       "    }\n",
       "</style>\n",
       "<table border=\"1\" class=\"dataframe\">\n",
       "  <thead>\n",
       "    <tr style=\"text-align: right;\">\n",
       "      <th></th>\n",
       "      <th>id</th>\n",
       "      <th>title</th>\n",
       "      <th>text</th>\n",
       "      <th>label</th>\n",
       "      <th>title_len</th>\n",
       "      <th>text_len</th>\n",
       "      <th>title_word_count</th>\n",
       "      <th>text_word_count</th>\n",
       "    </tr>\n",
       "  </thead>\n",
       "  <tbody>\n",
       "    <tr>\n",
       "      <th>0</th>\n",
       "      <td>1</td>\n",
       "      <td>Regional African body says ready to work close...</td>\n",
       "      <td>JOHANNESBURG (Reuters) - The Southern African ...</td>\n",
       "      <td>1.0</td>\n",
       "      <td>74</td>\n",
       "      <td>487</td>\n",
       "      <td>11</td>\n",
       "      <td>71</td>\n",
       "    </tr>\n",
       "    <tr>\n",
       "      <th>1</th>\n",
       "      <td>2</td>\n",
       "      <td>New Report Says Trump Destroyed Scaramucci’s ...</td>\n",
       "      <td>Donald Trump s new pick for Communications Dir...</td>\n",
       "      <td>0.0</td>\n",
       "      <td>54</td>\n",
       "      <td>2664</td>\n",
       "      <td>7</td>\n",
       "      <td>487</td>\n",
       "    </tr>\n",
       "    <tr>\n",
       "      <th>2</th>\n",
       "      <td>3</td>\n",
       "      <td>Hamas chief in Gaza says Palestinian unity dea...</td>\n",
       "      <td>GAZA (Reuters) - Palestinian Islamist group Ha...</td>\n",
       "      <td>1.0</td>\n",
       "      <td>61</td>\n",
       "      <td>2260</td>\n",
       "      <td>10</td>\n",
       "      <td>367</td>\n",
       "    </tr>\n",
       "    <tr>\n",
       "      <th>3</th>\n",
       "      <td>4</td>\n",
       "      <td>Police fire tear gas at Congo opposition leade...</td>\n",
       "      <td>KINSHASA (Reuters) - Police fired tear gas to ...</td>\n",
       "      <td>1.0</td>\n",
       "      <td>60</td>\n",
       "      <td>822</td>\n",
       "      <td>9</td>\n",
       "      <td>133</td>\n",
       "    </tr>\n",
       "    <tr>\n",
       "      <th>4</th>\n",
       "      <td>5</td>\n",
       "      <td>PRESIDENT TRUMP Hits Back At Activist Judge On...</td>\n",
       "      <td>Judge Orrick in California ruled against Presi...</td>\n",
       "      <td>0.0</td>\n",
       "      <td>93</td>\n",
       "      <td>3012</td>\n",
       "      <td>13</td>\n",
       "      <td>467</td>\n",
       "    </tr>\n",
       "  </tbody>\n",
       "</table>\n",
       "</div>"
      ],
      "text/plain": [
       "   id                                              title  \\\n",
       "0   1  Regional African body says ready to work close...   \n",
       "1   2   New Report Says Trump Destroyed Scaramucci’s ...   \n",
       "2   3  Hamas chief in Gaza says Palestinian unity dea...   \n",
       "3   4  Police fire tear gas at Congo opposition leade...   \n",
       "4   5  PRESIDENT TRUMP Hits Back At Activist Judge On...   \n",
       "\n",
       "                                                text  label  title_len  \\\n",
       "0  JOHANNESBURG (Reuters) - The Southern African ...    1.0         74   \n",
       "1  Donald Trump s new pick for Communications Dir...    0.0         54   \n",
       "2  GAZA (Reuters) - Palestinian Islamist group Ha...    1.0         61   \n",
       "3  KINSHASA (Reuters) - Police fired tear gas to ...    1.0         60   \n",
       "4  Judge Orrick in California ruled against Presi...    0.0         93   \n",
       "\n",
       "   text_len  title_word_count  text_word_count  \n",
       "0       487                11               71  \n",
       "1      2664                 7              487  \n",
       "2      2260                10              367  \n",
       "3       822                 9              133  \n",
       "4      3012                13              467  "
      ]
     },
     "metadata": {},
     "output_type": "display_data"
    },
    {
     "name": "stdout",
     "output_type": "stream",
     "text": [
      "\n",
      "Первые 5 строк test_df с новыми признаками:\n"
     ]
    },
    {
     "data": {
      "text/html": [
       "<div>\n",
       "<style scoped>\n",
       "    .dataframe tbody tr th:only-of-type {\n",
       "        vertical-align: middle;\n",
       "    }\n",
       "\n",
       "    .dataframe tbody tr th {\n",
       "        vertical-align: top;\n",
       "    }\n",
       "\n",
       "    .dataframe thead th {\n",
       "        text-align: right;\n",
       "    }\n",
       "</style>\n",
       "<table border=\"1\" class=\"dataframe\">\n",
       "  <thead>\n",
       "    <tr style=\"text-align: right;\">\n",
       "      <th></th>\n",
       "      <th>id</th>\n",
       "      <th>title</th>\n",
       "      <th>text</th>\n",
       "      <th>Unnamed: 4</th>\n",
       "      <th>Unnamed: 5</th>\n",
       "      <th>Unnamed: 6</th>\n",
       "      <th>Unnamed: 7</th>\n",
       "      <th>Unnamed: 8</th>\n",
       "      <th>Unnamed: 9</th>\n",
       "      <th>Unnamed: 10</th>\n",
       "      <th>...</th>\n",
       "      <th>Unnamed: 16</th>\n",
       "      <th>Unnamed: 17</th>\n",
       "      <th>Unnamed: 18</th>\n",
       "      <th>Unnamed: 19</th>\n",
       "      <th>Unnamed: 20</th>\n",
       "      <th>Unnamed: 21</th>\n",
       "      <th>title_len</th>\n",
       "      <th>text_len</th>\n",
       "      <th>title_word_count</th>\n",
       "      <th>text_word_count</th>\n",
       "    </tr>\n",
       "  </thead>\n",
       "  <tbody>\n",
       "    <tr>\n",
       "      <th>0</th>\n",
       "      <td>1</td>\n",
       "      <td>Angola's ruling MPLA wins election with 61 per...</td>\n",
       "      <td>LUANDA (Reuters) - Angola s ruling MPLA party ...</td>\n",
       "      <td>NaN</td>\n",
       "      <td>NaN</td>\n",
       "      <td>NaN</td>\n",
       "      <td>NaN</td>\n",
       "      <td>NaN</td>\n",
       "      <td>NaN</td>\n",
       "      <td>NaN</td>\n",
       "      <td>...</td>\n",
       "      <td>NaN</td>\n",
       "      <td>NaN</td>\n",
       "      <td>NaN</td>\n",
       "      <td>NaN</td>\n",
       "      <td>NaN</td>\n",
       "      <td>NaN</td>\n",
       "      <td>80</td>\n",
       "      <td>2608</td>\n",
       "      <td>12</td>\n",
       "      <td>425</td>\n",
       "    </tr>\n",
       "    <tr>\n",
       "      <th>1</th>\n",
       "      <td>2</td>\n",
       "      <td>Trump's defeat raises questions about his jets...</td>\n",
       "      <td>DES MOINES, Iowa (Reuters) - Republican Donald...</td>\n",
       "      <td>NaN</td>\n",
       "      <td>NaN</td>\n",
       "      <td>NaN</td>\n",
       "      <td>NaN</td>\n",
       "      <td>NaN</td>\n",
       "      <td>NaN</td>\n",
       "      <td>NaN</td>\n",
       "      <td>...</td>\n",
       "      <td>NaN</td>\n",
       "      <td>NaN</td>\n",
       "      <td>NaN</td>\n",
       "      <td>NaN</td>\n",
       "      <td>NaN</td>\n",
       "      <td>NaN</td>\n",
       "      <td>61</td>\n",
       "      <td>4602</td>\n",
       "      <td>8</td>\n",
       "      <td>797</td>\n",
       "    </tr>\n",
       "    <tr>\n",
       "      <th>2</th>\n",
       "      <td>3</td>\n",
       "      <td>U.S. Interior chief recommends shrinking Utah'...</td>\n",
       "      <td>WASHINGTON (Reuters) - U.S. Interior Secretary...</td>\n",
       "      <td>NaN</td>\n",
       "      <td>NaN</td>\n",
       "      <td>NaN</td>\n",
       "      <td>NaN</td>\n",
       "      <td>NaN</td>\n",
       "      <td>NaN</td>\n",
       "      <td>NaN</td>\n",
       "      <td>...</td>\n",
       "      <td>NaN</td>\n",
       "      <td>NaN</td>\n",
       "      <td>NaN</td>\n",
       "      <td>NaN</td>\n",
       "      <td>NaN</td>\n",
       "      <td>NaN</td>\n",
       "      <td>67</td>\n",
       "      <td>3572</td>\n",
       "      <td>9</td>\n",
       "      <td>570</td>\n",
       "    </tr>\n",
       "    <tr>\n",
       "      <th>3</th>\n",
       "      <td>4</td>\n",
       "      <td>Morocco arrests six suspected Islamic State mi...</td>\n",
       "      <td>RABAT (Reuters) - Moroccan authorities said on...</td>\n",
       "      <td>NaN</td>\n",
       "      <td>NaN</td>\n",
       "      <td>NaN</td>\n",
       "      <td>NaN</td>\n",
       "      <td>NaN</td>\n",
       "      <td>NaN</td>\n",
       "      <td>NaN</td>\n",
       "      <td>...</td>\n",
       "      <td>NaN</td>\n",
       "      <td>NaN</td>\n",
       "      <td>NaN</td>\n",
       "      <td>NaN</td>\n",
       "      <td>NaN</td>\n",
       "      <td>NaN</td>\n",
       "      <td>53</td>\n",
       "      <td>629</td>\n",
       "      <td>7</td>\n",
       "      <td>99</td>\n",
       "    </tr>\n",
       "    <tr>\n",
       "      <th>4</th>\n",
       "      <td>5</td>\n",
       "      <td>Illinois governor orders special session on sc...</td>\n",
       "      <td>CHICAGO (Reuters) - Illinois Governor Bruce Ra...</td>\n",
       "      <td>NaN</td>\n",
       "      <td>NaN</td>\n",
       "      <td>NaN</td>\n",
       "      <td>NaN</td>\n",
       "      <td>NaN</td>\n",
       "      <td>NaN</td>\n",
       "      <td>NaN</td>\n",
       "      <td>...</td>\n",
       "      <td>NaN</td>\n",
       "      <td>NaN</td>\n",
       "      <td>NaN</td>\n",
       "      <td>NaN</td>\n",
       "      <td>NaN</td>\n",
       "      <td>NaN</td>\n",
       "      <td>58</td>\n",
       "      <td>2543</td>\n",
       "      <td>8</td>\n",
       "      <td>410</td>\n",
       "    </tr>\n",
       "  </tbody>\n",
       "</table>\n",
       "<p>5 rows × 25 columns</p>\n",
       "</div>"
      ],
      "text/plain": [
       "   id                                              title  \\\n",
       "0   1  Angola's ruling MPLA wins election with 61 per...   \n",
       "1   2  Trump's defeat raises questions about his jets...   \n",
       "2   3  U.S. Interior chief recommends shrinking Utah'...   \n",
       "3   4  Morocco arrests six suspected Islamic State mi...   \n",
       "4   5  Illinois governor orders special session on sc...   \n",
       "\n",
       "                                                text  Unnamed: 4  Unnamed: 5  \\\n",
       "0  LUANDA (Reuters) - Angola s ruling MPLA party ...         NaN         NaN   \n",
       "1  DES MOINES, Iowa (Reuters) - Republican Donald...         NaN         NaN   \n",
       "2  WASHINGTON (Reuters) - U.S. Interior Secretary...         NaN         NaN   \n",
       "3  RABAT (Reuters) - Moroccan authorities said on...         NaN         NaN   \n",
       "4  CHICAGO (Reuters) - Illinois Governor Bruce Ra...         NaN         NaN   \n",
       "\n",
       "   Unnamed: 6  Unnamed: 7  Unnamed: 8  Unnamed: 9  Unnamed: 10  ...  \\\n",
       "0         NaN         NaN         NaN         NaN          NaN  ...   \n",
       "1         NaN         NaN         NaN         NaN          NaN  ...   \n",
       "2         NaN         NaN         NaN         NaN          NaN  ...   \n",
       "3         NaN         NaN         NaN         NaN          NaN  ...   \n",
       "4         NaN         NaN         NaN         NaN          NaN  ...   \n",
       "\n",
       "   Unnamed: 16  Unnamed: 17  Unnamed: 18  Unnamed: 19  Unnamed: 20  \\\n",
       "0          NaN          NaN          NaN          NaN          NaN   \n",
       "1          NaN          NaN          NaN          NaN          NaN   \n",
       "2          NaN          NaN          NaN          NaN          NaN   \n",
       "3          NaN          NaN          NaN          NaN          NaN   \n",
       "4          NaN          NaN          NaN          NaN          NaN   \n",
       "\n",
       "   Unnamed: 21  title_len  text_len  title_word_count  text_word_count  \n",
       "0          NaN         80      2608                12              425  \n",
       "1          NaN         61      4602                 8              797  \n",
       "2          NaN         67      3572                 9              570  \n",
       "3          NaN         53       629                 7               99  \n",
       "4          NaN         58      2543                 8              410  \n",
       "\n",
       "[5 rows x 25 columns]"
      ]
     },
     "metadata": {},
     "output_type": "display_data"
    },
    {
     "name": "stdout",
     "output_type": "stream",
     "text": [
      "\n",
      "Описательная статистика новых признаков в train_df:\n"
     ]
    },
    {
     "data": {
      "text/html": [
       "<div>\n",
       "<style scoped>\n",
       "    .dataframe tbody tr th:only-of-type {\n",
       "        vertical-align: middle;\n",
       "    }\n",
       "\n",
       "    .dataframe tbody tr th {\n",
       "        vertical-align: top;\n",
       "    }\n",
       "\n",
       "    .dataframe thead th {\n",
       "        text-align: right;\n",
       "    }\n",
       "</style>\n",
       "<table border=\"1\" class=\"dataframe\">\n",
       "  <thead>\n",
       "    <tr style=\"text-align: right;\">\n",
       "      <th></th>\n",
       "      <th>title_len</th>\n",
       "      <th>text_len</th>\n",
       "      <th>title_word_count</th>\n",
       "      <th>text_word_count</th>\n",
       "    </tr>\n",
       "  </thead>\n",
       "  <tbody>\n",
       "    <tr>\n",
       "      <th>count</th>\n",
       "      <td>24347.000000</td>\n",
       "      <td>24347.000000</td>\n",
       "      <td>24347.000000</td>\n",
       "      <td>24347.000000</td>\n",
       "    </tr>\n",
       "    <tr>\n",
       "      <th>mean</th>\n",
       "      <td>75.903684</td>\n",
       "      <td>2491.122685</td>\n",
       "      <td>11.838830</td>\n",
       "      <td>409.243192</td>\n",
       "    </tr>\n",
       "    <tr>\n",
       "      <th>std</th>\n",
       "      <td>23.072247</td>\n",
       "      <td>2011.752436</td>\n",
       "      <td>3.783183</td>\n",
       "      <td>329.639750</td>\n",
       "    </tr>\n",
       "    <tr>\n",
       "      <th>min</th>\n",
       "      <td>2.000000</td>\n",
       "      <td>1.000000</td>\n",
       "      <td>1.000000</td>\n",
       "      <td>0.000000</td>\n",
       "    </tr>\n",
       "    <tr>\n",
       "      <th>25%</th>\n",
       "      <td>62.000000</td>\n",
       "      <td>1300.500000</td>\n",
       "      <td>9.000000</td>\n",
       "      <td>213.000000</td>\n",
       "    </tr>\n",
       "    <tr>\n",
       "      <th>50%</th>\n",
       "      <td>71.000000</td>\n",
       "      <td>2224.000000</td>\n",
       "      <td>11.000000</td>\n",
       "      <td>369.000000</td>\n",
       "    </tr>\n",
       "    <tr>\n",
       "      <th>75%</th>\n",
       "      <td>86.000000</td>\n",
       "      <td>3129.000000</td>\n",
       "      <td>14.000000</td>\n",
       "      <td>516.000000</td>\n",
       "    </tr>\n",
       "    <tr>\n",
       "      <th>max</th>\n",
       "      <td>443.000000</td>\n",
       "      <td>32759.000000</td>\n",
       "      <td>67.000000</td>\n",
       "      <td>5828.000000</td>\n",
       "    </tr>\n",
       "  </tbody>\n",
       "</table>\n",
       "</div>"
      ],
      "text/plain": [
       "          title_len      text_len  title_word_count  text_word_count\n",
       "count  24347.000000  24347.000000      24347.000000     24347.000000\n",
       "mean      75.903684   2491.122685         11.838830       409.243192\n",
       "std       23.072247   2011.752436          3.783183       329.639750\n",
       "min        2.000000      1.000000          1.000000         0.000000\n",
       "25%       62.000000   1300.500000          9.000000       213.000000\n",
       "50%       71.000000   2224.000000         11.000000       369.000000\n",
       "75%       86.000000   3129.000000         14.000000       516.000000\n",
       "max      443.000000  32759.000000         67.000000      5828.000000"
      ]
     },
     "metadata": {},
     "output_type": "display_data"
    },
    {
     "data": {
      "image/png": "[encoded data removed]",
      "text/plain": [
       "<Figure size 1500x1000 with 4 Axes>"
      ]
     },
     "metadata": {},
     "output_type": "display_data"
    },
    {
     "name": "stdout",
     "output_type": "stream",
     "text": [
      "\n",
      "Корреляция новых признаков с 'label':\n",
      "label               1.000000\n",
      "text_len           -0.034888\n",
      "text_word_count    -0.051306\n",
      "title_len          -0.543129\n",
      "title_word_count   -0.548499\n",
      "Name: label, dtype: float64\n"
     ]
    }
   ],
   "source": [
    "print(\"--- Удаление строк с NaN в 'label' из train_df ---\")\n",
    "print(f\"Размер train_df до удаления NaN в 'label': {train_df.shape}\")\n",
    "print(f\"Количество NaN в 'label' до удаления: {train_df['label'].isnull().sum()}\")\n",
    "\n",
    "# Удаляем строки, где 'label' является NaN\n",
    "train_df.dropna(subset=['label'], inplace=True)\n",
    "\n",
    "print(f\"\\nРазмер train_df после удаления NaN в 'label': {train_df.shape}\")\n",
    "print(f\"Количество NaN в 'label' после удаления: {train_df['label'].isnull().sum()}\")\n",
    "\n",
    "# Проверим еще раз пропуски во всем train_df\n",
    "print(\"\\nПропуски в train_df после удаления строк с NaN в 'label':\")\n",
    "print(train_df.isnull().sum())\n",
    "\n",
    "\n",
    "# 1. Длина заголовка (количество символов)\n",
    "if 'title' in train_df.columns:\n",
    "    train_df['title_len'] = train_df['title'].astype(str).apply(len)\n",
    "if 'title' in test_df.columns:\n",
    "    test_df['title_len'] = test_df['title'].astype(str).apply(len)\n",
    "\n",
    "# 2. Длина текста статьи (количество символов)\n",
    "if 'text' in train_df.columns:\n",
    "    train_df['text_len'] = train_df['text'].astype(str).apply(len)\n",
    "if 'text' in test_df.columns:\n",
    "    test_df['text_len'] = test_df['text'].astype(str).apply(len)\n",
    "\n",
    "# 3. Количество слов в заголовке\n",
    "if 'title' in train_df.columns:\n",
    "    train_df['title_word_count'] = train_df['title'].astype(str).apply(lambda x: len(x.split()))\n",
    "if 'title' in test_df.columns:\n",
    "    test_df['title_word_count'] = test_df['title'].astype(str).apply(lambda x: len(x.split()))\n",
    "\n",
    "# 4. Количество слов в тексте статьи\n",
    "if 'text' in train_df.columns:\n",
    "    train_df['text_word_count'] = train_df['text'].astype(str).apply(lambda x: len(x.split()))\n",
    "if 'text' in test_df.columns:\n",
    "    test_df['text_word_count'] = test_df['text'].astype(str).apply(lambda x: len(x.split()))\n",
    "\n",
    "print(\"\\nПервые 5 строк train_df с новыми признаками:\")\n",
    "display(train_df.head())\n",
    "\n",
    "print(\"\\nПервые 5 строк test_df с новыми признаками:\")\n",
    "display(test_df.head())\n",
    "\n",
    "print(\"\\nОписательная статистика новых признаков в train_df:\")\n",
    "display(train_df[['title_len', 'text_len', 'title_word_count', 'text_word_count']].describe())\n",
    "\n",
    "# Визуализация распределения новых признаков для разных классов\n",
    "if 'label' in train_df.columns:\n",
    "    features_to_plot = ['title_len', 'text_len', 'title_word_count', 'text_word_count']\n",
    "    plt.figure(figsize=(15, 10))\n",
    "    for i, feature in enumerate(features_to_plot):\n",
    "        if feature in train_df.columns:\n",
    "            plt.subplot(2, 2, i + 1)\n",
    "            sns.histplot(data=train_df, x=feature, hue='label', kde=True, element=\"step\", stat=\"density\", common_norm=False)\n",
    "            plt.title(f'Распределение {feature} в зависимости от label')\n",
    "    plt.tight_layout()\n",
    "    plt.show()\n",
    "\n",
    "    # Посмотрим на корреляцию новых признаков с целевой переменной\n",
    "    # Для этого 'label' должен быть числовым (у нас он уже такой, но на всякий случай)\n",
    "    train_df['label'] = pd.to_numeric(train_df['label'], errors='coerce') # errors='coerce' превратит нечисловые в NaN\n",
    "    # Убедимся, что нет новых NaN после coerce, если вдруг label был не чисто 0/1\n",
    "    if train_df['label'].isnull().any():\n",
    "        print(\"ВНИМАНИЕ: Появились NaN в 'label' после pd.to_numeric. Проверьте исходные значения 'label'.\")\n",
    "        # Здесь можно добавить код для обработки этой ситуации, если она возникнет\n",
    "    else:\n",
    "        # Рассчитываем корреляцию только для числовых столбцов\n",
    "        numerical_cols_for_corr = ['title_len', 'text_len', 'title_word_count', 'text_word_count', 'label']\n",
    "        # Убедимся, что все эти столбцы существуют\n",
    "        existing_numerical_cols = [col for col in numerical_cols_for_corr if col in train_df.columns]\n",
    "\n",
    "        if len(existing_numerical_cols) > 1 : # Нужно хотя бы два столбца для корреляции\n",
    "            correlations = train_df[existing_numerical_cols].corr()['label'].sort_values(ascending=False)\n",
    "            print(\"\\nКорреляция новых признаков с 'label':\")\n",
    "            print(correlations)\n",
    "else:\n",
    "    print(\"Столбец 'label' отсутствует, не можем построить графики и рассчитать корреляции.\")"
   ]
  },
  {
   "cell_type": "code",
   "execution_count": 7,
   "id": "4e159d8c",
   "metadata": {},
   "outputs": [
    {
     "data": {
      "text/html": [
       "<div>\n",
       "<style scoped>\n",
       "    .dataframe tbody tr th:only-of-type {\n",
       "        vertical-align: middle;\n",
       "    }\n",
       "\n",
       "    .dataframe tbody tr th {\n",
       "        vertical-align: top;\n",
       "    }\n",
       "\n",
       "    .dataframe thead th {\n",
       "        text-align: right;\n",
       "    }\n",
       "</style>\n",
       "<table border=\"1\" class=\"dataframe\">\n",
       "  <thead>\n",
       "    <tr style=\"text-align: right;\">\n",
       "      <th></th>\n",
       "      <th>id</th>\n",
       "      <th>title</th>\n",
       "      <th>text</th>\n",
       "      <th>label</th>\n",
       "      <th>title_len</th>\n",
       "      <th>text_len</th>\n",
       "      <th>title_word_count</th>\n",
       "      <th>text_word_count</th>\n",
       "    </tr>\n",
       "  </thead>\n",
       "  <tbody>\n",
       "    <tr>\n",
       "      <th>0</th>\n",
       "      <td>1</td>\n",
       "      <td>Regional African body says ready to work close...</td>\n",
       "      <td>JOHANNESBURG (Reuters) - The Southern African ...</td>\n",
       "      <td>1.0</td>\n",
       "      <td>74</td>\n",
       "      <td>487</td>\n",
       "      <td>11</td>\n",
       "      <td>71</td>\n",
       "    </tr>\n",
       "    <tr>\n",
       "      <th>1</th>\n",
       "      <td>2</td>\n",
       "      <td>New Report Says Trump Destroyed Scaramucci’s ...</td>\n",
       "      <td>Donald Trump s new pick for Communications Dir...</td>\n",
       "      <td>0.0</td>\n",
       "      <td>54</td>\n",
       "      <td>2664</td>\n",
       "      <td>7</td>\n",
       "      <td>487</td>\n",
       "    </tr>\n",
       "    <tr>\n",
       "      <th>2</th>\n",
       "      <td>3</td>\n",
       "      <td>Hamas chief in Gaza says Palestinian unity dea...</td>\n",
       "      <td>GAZA (Reuters) - Palestinian Islamist group Ha...</td>\n",
       "      <td>1.0</td>\n",
       "      <td>61</td>\n",
       "      <td>2260</td>\n",
       "      <td>10</td>\n",
       "      <td>367</td>\n",
       "    </tr>\n",
       "    <tr>\n",
       "      <th>3</th>\n",
       "      <td>4</td>\n",
       "      <td>Police fire tear gas at Congo opposition leade...</td>\n",
       "      <td>KINSHASA (Reuters) - Police fired tear gas to ...</td>\n",
       "      <td>1.0</td>\n",
       "      <td>60</td>\n",
       "      <td>822</td>\n",
       "      <td>9</td>\n",
       "      <td>133</td>\n",
       "    </tr>\n",
       "    <tr>\n",
       "      <th>4</th>\n",
       "      <td>5</td>\n",
       "      <td>PRESIDENT TRUMP Hits Back At Activist Judge On...</td>\n",
       "      <td>Judge Orrick in California ruled against Presi...</td>\n",
       "      <td>0.0</td>\n",
       "      <td>93</td>\n",
       "      <td>3012</td>\n",
       "      <td>13</td>\n",
       "      <td>467</td>\n",
       "    </tr>\n",
       "  </tbody>\n",
       "</table>\n",
       "</div>"
      ],
      "text/plain": [
       "   id                                              title  \\\n",
       "0   1  Regional African body says ready to work close...   \n",
       "1   2   New Report Says Trump Destroyed Scaramucci’s ...   \n",
       "2   3  Hamas chief in Gaza says Palestinian unity dea...   \n",
       "3   4  Police fire tear gas at Congo opposition leade...   \n",
       "4   5  PRESIDENT TRUMP Hits Back At Activist Judge On...   \n",
       "\n",
       "                                                text  label  title_len  \\\n",
       "0  JOHANNESBURG (Reuters) - The Southern African ...    1.0         74   \n",
       "1  Donald Trump s new pick for Communications Dir...    0.0         54   \n",
       "2  GAZA (Reuters) - Palestinian Islamist group Ha...    1.0         61   \n",
       "3  KINSHASA (Reuters) - Police fired tear gas to ...    1.0         60   \n",
       "4  Judge Orrick in California ruled against Presi...    0.0         93   \n",
       "\n",
       "   text_len  title_word_count  text_word_count  \n",
       "0       487                11               71  \n",
       "1      2664                 7              487  \n",
       "2      2260                10              367  \n",
       "3       822                 9              133  \n",
       "4      3012                13              467  "
      ]
     },
     "execution_count": 7,
     "metadata": {},
     "output_type": "execute_result"
    }
   ],
   "source": [
    "train_df.head()"
   ]
  },
  {
   "cell_type": "code",
   "execution_count": 8,
   "id": "c1fe76ee",
   "metadata": {},
   "outputs": [
    {
     "name": "stderr",
     "output_type": "stream",
     "text": [
      "[nltk_data] Downloading package stopwords to\n",
      "[nltk_data]     /Users/alicee/nltk_data...\n",
      "[nltk_data]   Package stopwords is already up-to-date!\n",
      "[nltk_data] Downloading package punkt to /Users/alicee/nltk_data...\n",
      "[nltk_data]   Package punkt is already up-to-date!\n",
      "[nltk_data] Downloading package wordnet to /Users/alicee/nltk_data...\n",
      "[nltk_data]   Package wordnet is already up-to-date!\n",
      "[nltk_data] Downloading package punkt_tab to\n",
      "[nltk_data]     /Users/alicee/nltk_data...\n",
      "[nltk_data]   Package punkt_tab is already up-to-date!\n"
     ]
    }
   ],
   "source": [
    "import nltk\n",
    "from nltk.corpus import stopwords\n",
    "from nltk.stem import PorterStemmer \n",
    "from nltk.stem import WordNetLemmatizer\n",
    "from sklearn.feature_extraction.text import TfidfVectorizer\n",
    "import re\n",
    "\n",
    "\n",
    "nltk.download('stopwords')\n",
    "nltk.download('punkt') # для токенизации\n",
    "nltk.download('wordnet') # для лемматизации, если будешь использовать WordNetLemmatizer\n",
    "nltk.download('punkt_tab')\n",
    "\n",
    "# Инициализация стеммера/лемматизатора и стоп-слов\n",
    "stop_words = set(stopwords.words('english'))\n",
    "stemmer = PorterStemmer()\n",
    "lemmatizer = WordNetLemmatizer() # Альтернатива стеммеру\n"
   ]
  },
  {
   "cell_type": "code",
   "execution_count": 9,
   "id": "62a6d92f",
   "metadata": {},
   "outputs": [
    {
     "name": "stdout",
     "output_type": "stream",
     "text": [
      "Начало предобработки текста для train_df['title']...\n",
      "Предобработка train_df['title'] завершена.\n",
      "\n",
      "Начало предобработки текста для test_df['title']...\n",
      "Предобработка test_df['title'] завершена.\n",
      "\n",
      "Начало предобработки текста для train_df['text']...\n",
      "Предобработка train_df['text'] завершена.\n",
      "\n",
      "Начало предобработки текста для test_df['text']...\n",
      "Предобработка test_df['text'] завершена.\n",
      "\n",
      "Примеры обработанного текста:\n",
      "Оригинальный заголовок: Regional African body says ready to work closely with Zimbabwe's Mnangagwa\n",
      "Обработанный заголовок: regional african body say ready work closely zimbabwe mnangagwa\n",
      "Оригинальный текст (начало): JOHANNESBURG (Reuters) - The Southern African Development Community (SADC), an intergovernmental organization, said on Friday that it was ready to work closely with Zimbabwe s incoming leader Emmerson...\n",
      "Обработанный текст (начало): johannesburg reuters southern african development community sadc intergovernmental organization said friday ready work closely zimbabwe incoming leader emmerson mnangagwa government mnangagwa due swor...\n",
      "\n",
      "Обучение TF-IDF на train_df['title_processed'] и трансформация...\n",
      "Трансформация test_df['title_processed'] с помощью обученного TF-IDF...\n",
      "Размерность TF-IDF признаков для заголовков (train): (24347, 12000)\n",
      "Размерность TF-IDF признаков для заголовков (test): (16229, 12000)\n",
      "\n",
      "Обучение TF-IDF на train_df['text_processed'] и трансформация...\n",
      "Трансформация test_df['text_processed'] с помощью обученного TF-IDF...\n",
      "Размерность TF-IDF признаков для текстов (train): (24347, 20000)\n",
      "Размерность TF-IDF признаков для текстов (test): (16229, 20000)\n"
     ]
    }
   ],
   "source": [
    "\n",
    "def preprocess_text(text):\n",
    "    text = str(text).lower() # Приведение к нижнему регистру\n",
    "    text = re.sub(r'\\d+', '', text) # Удаление цифр\n",
    "    text = re.sub(r'[^\\w\\s]', '', text) # Удаление пунктуации (оставляем только буквы, цифры и пробелы)\n",
    "                                        # Цифры уже удалены, так что в основном удаляет пунктуацию\n",
    "    text = re.sub(r'\\s+', ' ', text).strip() # Удаление лишних пробелов\n",
    "\n",
    "    tokens = nltk.word_tokenize(text) # Токенизация\n",
    "    \n",
    "    # Стемминг/лемматизация и удаление стоп-слов\n",
    "    # Выбери один из вариантов: стемминг или лемматизация\n",
    "    # Стемминг:\n",
    "    #processed_tokens = [stemmer.stem(word) for word in tokens if word not in stop_words and len(word) > 2]\n",
    "    # Лемматизация (может быть медленнее, но часто дает более осмысленные \"корни\"):\n",
    "    processed_tokens = [lemmatizer.lemmatize(word) for word in tokens if word not in stop_words and len(word) > 2]\n",
    "    \n",
    "    return \" \".join(processed_tokens)\n",
    "\n",
    "# Применение предобработки к текстовым колонкам\n",
    "# Это может занять некоторое время, особенно для колонки 'text'\n",
    "print(\"Начало предобработки текста для train_df['title']...\")\n",
    "train_df['title_processed'] = train_df['title'].apply(preprocess_text)\n",
    "print(\"Предобработка train_df['title'] завершена.\")\n",
    "\n",
    "print(\"\\nНачало предобработки текста для test_df['title']...\")\n",
    "test_df['title_processed'] = test_df['title'].apply(preprocess_text)\n",
    "print(\"Предобработка test_df['title'] завершена.\")\n",
    "\n",
    "print(\"\\nНачало предобработки текста для train_df['text']...\")\n",
    "train_df['text_processed'] = train_df['text'].apply(preprocess_text)\n",
    "print(\"Предобработка train_df['text'] завершена.\")\n",
    "\n",
    "print(\"\\nНачало предобработки текста для test_df['text']...\")\n",
    "test_df['text_processed'] = test_df['text'].apply(preprocess_text)\n",
    "print(\"Предобработка test_df['text'] завершена.\")\n",
    "\n",
    "print(\"\\nПримеры обработанного текста:\")\n",
    "if not train_df.empty:\n",
    "    print(\"Оригинальный заголовок:\", train_df['title'].iloc[0])\n",
    "    print(\"Обработанный заголовок:\", train_df['title_processed'].iloc[0])\n",
    "    print(\"Оригинальный текст (начало):\", train_df['text'].iloc[0][:200] + \"...\")\n",
    "    print(\"Обработанный текст (начало):\", train_df['text_processed'].iloc[0][:200] + \"...\")\n",
    "\n",
    "# TF-IDF Векторизация\n",
    "# Будем создавать отдельные векторайзеры для title и text,\n",
    "# так как у них могут быть разные словари и важность слов.\n",
    "\n",
    "# TF-IDF для заголовков\n",
    "# max_features ограничивает количество признаков (самых частых слов)\n",
    "# ngram_range=(1, 2) будет учитывать биграммы (пары слов) вместе с отдельными словами\n",
    "tfidf_title_vectorizer = TfidfVectorizer(max_features=12000, ngram_range=(1,2)) # Можно настроить max_features\n",
    "\n",
    "print(\"\\nОбучение TF-IDF на train_df['title_processed'] и трансформация...\")\n",
    "X_train_title_tfidf = tfidf_title_vectorizer.fit_transform(train_df['title_processed'])\n",
    "print(\"Трансформация test_df['title_processed'] с помощью обученного TF-IDF...\")\n",
    "X_test_title_tfidf = tfidf_title_vectorizer.transform(test_df['title_processed'])\n",
    "print(f\"Размерность TF-IDF признаков для заголовков (train): {X_train_title_tfidf.shape}\")\n",
    "print(f\"Размерность TF-IDF признаков для заголовков (test): {X_test_title_tfidf.shape}\")\n",
    "\n",
    "# TF-IDF для текстов статей\n",
    "# Для текстов можно взять больше max_features, так как там больше уникальных слов.\n",
    "tfidf_text_vectorizer = TfidfVectorizer(max_features=20000, ngram_range=(1,2)) # Можно настроить max_features\n",
    "\n",
    "print(\"\\nОбучение TF-IDF на train_df['text_processed'] и трансформация...\")\n",
    "X_train_text_tfidf = tfidf_text_vectorizer.fit_transform(train_df['text_processed'])\n",
    "print(\"Трансформация test_df['text_processed'] с помощью обученного TF-IDF...\")\n",
    "X_test_text_tfidf = tfidf_text_vectorizer.transform(test_df['text_processed'])\n",
    "print(f\"Размерность TF-IDF признаков для текстов (train): {X_train_text_tfidf.shape}\")\n",
    "print(f\"Размерность TF-IDF признаков для текстов (test): {X_test_text_tfidf.shape}\")\n",
    "\n",
    "# Теперь у нас есть:\n",
    "# 1. X_train_title_tfidf, X_test_title_tfidf - TF-IDF признаки для заголовков (разреженные матрицы)\n",
    "# 2. X_train_text_tfidf, X_test_text_tfidf - TF-IDF признаки для текстов (разреженные матрицы)\n",
    "# 3. Числовые признаки, созданные ранее в train_df и test_df (title_len, text_len, etc.)\n",
    "\n",
    "# Следующим шагом будет объединение всех этих признаков в единую матрицу для обучения модели."
   ]
  },
  {
   "cell_type": "code",
   "execution_count": 10,
   "id": "3bd4c4f3",
   "metadata": {},
   "outputs": [],
   "source": [
    "from scipy.sparse import hstack # Для горизонтального стекинга разреженных матриц\n",
    "from sklearn.preprocessing import StandardScaler # Для масштабирования числовых признаков\n"
   ]
  },
  {
   "cell_type": "code",
   "execution_count": 11,
   "id": "b2c78f9b",
   "metadata": {},
   "outputs": [
    {
     "name": "stdout",
     "output_type": "stream",
     "text": [
      "Размерность числовых признаков (train): (24347, 4)\n",
      "Размерность числовых признаков (test): (16229, 4)\n"
     ]
    }
   ],
   "source": [
    "# 1. Выделение числовых признаков из train_df и test_df\n",
    "numerical_features_cols = ['title_len', 'text_len', 'title_word_count', 'text_word_count']\n",
    "\n",
    "# Убедимся, что столбцы существуют, прежде чем их извлекать\n",
    "existing_numerical_cols_train = [col for col in numerical_features_cols if col in train_df.columns]\n",
    "existing_numerical_cols_test = [col for col in numerical_features_cols if col in test_df.columns]\n",
    "\n",
    "if not existing_numerical_cols_train or not existing_numerical_cols_test:\n",
    "    print(\"ВНИМАНИЕ: Не все числовые признаки найдены\")\n",
    "else:\n",
    "    X_train_numerical = train_df[existing_numerical_cols_train].values\n",
    "    X_test_numerical = test_df[existing_numerical_cols_test].values\n",
    "\n",
    "print(f\"Размерность числовых признаков (train): {X_train_numerical.shape}\")\n",
    "print(f\"Размерность числовых признаков (test): {X_test_numerical.shape}\")\n",
    "\n"
   ]
  },
  {
   "cell_type": "code",
   "execution_count": 12,
   "id": "bfdfaae9",
   "metadata": {},
   "outputs": [
    {
     "name": "stdout",
     "output_type": "stream",
     "text": [
      "Числовые признаки масштабированы с помощью StandardScaler.\n"
     ]
    }
   ],
   "source": [
    "# 2. Масштабирование числовых признаков\n",
    "# Это важно, так как TF-IDF значения обычно в диапазоне [0,1], а длины могут быть большими.\n",
    "# Модели, чувствительные к масштабу (например, SVM, Logistic Regression), выигрывают от этого.\n",
    "# Для деревьев и бустингов это менее критично, но не повредит.\n",
    "if X_train_numerical.shape[1] > 0: # Масштабируем, только если есть числовые признаки\n",
    "    scaler = StandardScaler()\n",
    "    X_train_numerical_scaled = scaler.fit_transform(X_train_numerical)\n",
    "    X_test_numerical_scaled = scaler.transform(X_test_numerical)\n",
    "    print(\"Числовые признаки масштабированы с помощью StandardScaler.\")\n",
    "\n",
    "\n"
   ]
  },
  {
   "cell_type": "code",
   "execution_count": 13,
   "id": "45815822",
   "metadata": {},
   "outputs": [
    {
     "name": "stdout",
     "output_type": "stream",
     "text": [
      "\n",
      "Объединение признаков...\n",
      "Shape X_train_title_tfidf: (24347, 12000)\n",
      "Shape X_train_text_tfidf: (24347, 20000)\n",
      "Shape X_train_numerical_scaled: (24347, 4)\n",
      "Признаки для ТРЕНИРОВОЧНОГО набора успешно объединены.\n",
      "Признаки для ТЕСТОВОГО набора успешно объединены.\n",
      "Итоговая размерность матрицы признаков для обучения (X_train_full): (24347, 32004)\n",
      "Итоговая размерность матрицы признаков для теста (X_test_full): (16229, 32004)\n",
      "\n",
      "Целевая переменная y_train подготовлена. Размер: (24347,)\n",
      "Распределение классов в y_train:\n",
      "label\n",
      "1    0.544051\n",
      "0    0.455949\n",
      "Name: proportion, dtype: float64\n"
     ]
    }
   ],
   "source": [
    "\n",
    "# 3. Объединение всех признаков\n",
    "# TF-IDF матрицы (X_train_title_tfidf, X_train_text_tfidf) являются разреженными (scipy.sparse).\n",
    "# Масштабированные числовые признаки (X_train_numerical_scaled) - это плотные numpy массивы.\n",
    "# hstack из scipy.sparse умеет корректно объединять разреженные и плотные матрицы (плотные будут преобразованы в разреженные).\n",
    "\n",
    "print(\"\\nОбъединение признаков...\")\n",
    "# Сначала убедимся, что все компоненты существуют и имеют правильные первые размерности (количество строк)\n",
    "print(f\"Shape X_train_title_tfidf: {X_train_title_tfidf.shape}\")\n",
    "print(f\"Shape X_train_text_tfidf: {X_train_text_tfidf.shape}\")\n",
    "print(f\"Shape X_train_numerical_scaled: {X_train_numerical_scaled.shape}\")\n",
    "\n",
    "\n",
    "# Проверка совпадения количества строк перед объединением\n",
    "if X_train_title_tfidf.shape[0] == X_train_text_tfidf.shape[0] and \\\n",
    "   X_train_title_tfidf.shape[0] == X_train_numerical_scaled.shape[0]:\n",
    "    X_train_full = hstack([X_train_title_tfidf, X_train_text_tfidf, X_train_numerical_scaled])\n",
    "    print(\"Признаки для ТРЕНИРОВОЧНОГО набора успешно объединены.\")\n",
    "else:\n",
    "    print(\"ОШИБКА: Не совпадает количество строк в компонентах признаков для ТРЕНИРОВОЧНОГО набора!\")\n",
    "\n",
    "\n",
    "if X_test_title_tfidf.shape[0] == X_test_text_tfidf.shape[0] and \\\n",
    "   X_test_title_tfidf.shape[0] == X_test_numerical_scaled.shape[0]:\n",
    "    X_test_full = hstack([X_test_title_tfidf, X_test_text_tfidf, X_test_numerical_scaled])\n",
    "    print(\"Признаки для ТЕСТОВОГО набора успешно объединены.\")\n",
    "else:\n",
    "    print(\"ОШИБКА: Не совпадает количество строк в компонентах признаков для ТЕСТОВОГО набора!\")\n",
    "\n",
    "\n",
    "if 'X_train_full' in locals() and X_train_full is not None:\n",
    "    print(f\"Итоговая размерность матрицы признаков для обучения (X_train_full): {X_train_full.shape}\")\n",
    "if 'X_test_full' in locals() and X_test_full is not None:\n",
    "    print(f\"Итоговая размерность матрицы признаков для теста (X_test_full): {X_test_full.shape}\")\n",
    "\n",
    "# 4. Подготовка целевой переменной\n",
    "if 'label' in train_df.columns:\n",
    "    y_train = train_df['label'].astype(int) # Убедимся, что это int (0 или 1)\n",
    "    print(f\"\\nЦелевая переменная y_train подготовлена. Размер: {y_train.shape}\")\n",
    "    print(f\"Распределение классов в y_train:\\n{y_train.value_counts(normalize=True)}\")\n",
    "else:\n",
    "    print(\"ОШИБКА: Столбец 'label' не найден в train_df. Невозможно подготовить y_train.\")\n",
    "    y_train = None # или выбросить исключение\n",
    "\n",
    "# Теперь X_train_full и y_train готовы для обучения модели,\n",
    "# а X_test_full - для предсказания."
   ]
  },
  {
   "cell_type": "code",
   "execution_count": 14,
   "id": "2f842416",
   "metadata": {},
   "outputs": [],
   "source": [
    "from sklearn.model_selection import StratifiedKFold, cross_val_score, GridSearchCV\n",
    "from sklearn.linear_model import LogisticRegression\n",
    "from sklearn.svm import LinearSVC\n",
    "from sklearn.naive_bayes import MultinomialNB\n",
    "from sklearn.ensemble import RandomForestClassifier\n",
    "from sklearn.metrics import f1_score, classification_report # confusion_matrix пока уберем, чтобы не загромождать вывод CV\n",
    "import lightgbm as lgb\n",
    "import time\n",
    "\n",
    "\n",
    "# Настроим кросс-валидацию\n",
    "N_SPLITS = 5\n",
    "skf = StratifiedKFold(n_splits=N_SPLITS, shuffle=True, random_state=42)\n",
    "\n",
    "# Словарь для хранения результатов CV\n",
    "cv_results = {}\n"
   ]
  },
  {
   "cell_type": "code",
   "execution_count": 15,
   "id": "ff71ed9d",
   "metadata": {},
   "outputs": [
    {
     "name": "stdout",
     "output_type": "stream",
     "text": [
      "--- 1. Обучение и оценка Logistic Regression ---\n",
      "Лучшие параметры для Logistic Regression: {'C': 10.0, 'solver': 'liblinear'}\n",
      "Лучший средний F1-macro на CV для Logistic Regression: 0.9778\n",
      "Время обучения и CV: 6.24 сек.\n",
      "\n"
     ]
    }
   ],
   "source": [
    "\n",
    "# --- 1. Logistic Regression ---\n",
    "print(\"--- 1. Обучение и оценка Logistic Regression ---\")\n",
    "start_time = time.time()\n",
    "# Параметры для GridSearchCV (можно расширить)\n",
    "param_grid_log_reg = {\n",
    "    'C': [0.1, 1.0, 10.0],\n",
    "    'solver': ['liblinear'] # 'saga' тоже вариант, но может быть медленнее\n",
    "}\n",
    "# Используем GridSearchCV для простого подбора C\n",
    "# В реальном проекте можно использовать RandomizedSearchCV для большего числа параметров\n",
    "grid_log_reg = GridSearchCV(LogisticRegression(random_state=42, class_weight='balanced', max_iter=1000),\n",
    "                            param_grid_log_reg, cv=skf, scoring='f1_macro', n_jobs=-1) # n_jobs=-1 для использования всех ядер\n",
    "grid_log_reg.fit(X_train_full, y_train)\n",
    "log_reg_model = grid_log_reg.best_estimator_ # Лучшая модель после GridSearchCV\n",
    "log_reg_cv_score = grid_log_reg.best_score_ # Лучший средний F1-macro на CV\n",
    "\n",
    "cv_results['Logistic Regression'] = log_reg_cv_score\n",
    "print(f\"Лучшие параметры для Logistic Regression: {grid_log_reg.best_params_}\")\n",
    "print(f\"Лучший средний F1-macro на CV для Logistic Regression: {log_reg_cv_score:.4f}\")\n",
    "print(f\"Время обучения и CV: {time.time() - start_time:.2f} сек.\\n\")\n",
    "# log_reg_model уже обучена на всем X_train_full внутри GridSearchCV с refit=True (по умолчанию)\n"
   ]
  },
  {
   "cell_type": "code",
   "execution_count": 16,
   "id": "a70c001d",
   "metadata": {},
   "outputs": [
    {
     "name": "stdout",
     "output_type": "stream",
     "text": [
      "--- 2. Обучение и оценка LinearSVC ---\n"
     ]
    },
    {
     "name": "stderr",
     "output_type": "stream",
     "text": [
      "/opt/miniconda3/lib/python3.12/site-packages/sklearn/svm/_base.py:1249: ConvergenceWarning: Liblinear failed to converge, increase the number of iterations.\n",
      "  warnings.warn(\n",
      "/opt/miniconda3/lib/python3.12/site-packages/sklearn/svm/_base.py:1249: ConvergenceWarning: Liblinear failed to converge, increase the number of iterations.\n",
      "  warnings.warn(\n",
      "/opt/miniconda3/lib/python3.12/site-packages/sklearn/svm/_base.py:1249: ConvergenceWarning: Liblinear failed to converge, increase the number of iterations.\n",
      "  warnings.warn(\n",
      "/opt/miniconda3/lib/python3.12/site-packages/sklearn/svm/_base.py:1249: ConvergenceWarning: Liblinear failed to converge, increase the number of iterations.\n",
      "  warnings.warn(\n",
      "/opt/miniconda3/lib/python3.12/site-packages/sklearn/svm/_base.py:1249: ConvergenceWarning: Liblinear failed to converge, increase the number of iterations.\n",
      "  warnings.warn(\n",
      "/opt/miniconda3/lib/python3.12/site-packages/sklearn/svm/_base.py:1249: ConvergenceWarning: Liblinear failed to converge, increase the number of iterations.\n",
      "  warnings.warn(\n",
      "/opt/miniconda3/lib/python3.12/site-packages/sklearn/svm/_base.py:1249: ConvergenceWarning: Liblinear failed to converge, increase the number of iterations.\n",
      "  warnings.warn(\n",
      "/opt/miniconda3/lib/python3.12/site-packages/sklearn/svm/_base.py:1249: ConvergenceWarning: Liblinear failed to converge, increase the number of iterations.\n",
      "  warnings.warn(\n",
      "/opt/miniconda3/lib/python3.12/site-packages/sklearn/svm/_base.py:1249: ConvergenceWarning: Liblinear failed to converge, increase the number of iterations.\n",
      "  warnings.warn(\n",
      "/opt/miniconda3/lib/python3.12/site-packages/sklearn/svm/_base.py:1249: ConvergenceWarning: Liblinear failed to converge, increase the number of iterations.\n",
      "  warnings.warn(\n"
     ]
    },
    {
     "name": "stdout",
     "output_type": "stream",
     "text": [
      "Лучшие параметры для LinearSVC: {'C': 1.0}\n",
      "Лучший средний F1-macro на CV для LinearSVC: 0.9791\n",
      "Время обучения и CV: 17.73 сек.\n",
      "\n"
     ]
    },
    {
     "name": "stderr",
     "output_type": "stream",
     "text": [
      "/opt/miniconda3/lib/python3.12/site-packages/sklearn/svm/_base.py:1249: ConvergenceWarning: Liblinear failed to converge, increase the number of iterations.\n",
      "  warnings.warn(\n"
     ]
    }
   ],
   "source": [
    "\n",
    "# --- 2. LinearSVC ---\n",
    "print(\"--- 2. Обучение и оценка LinearSVC ---\")\n",
    "start_time = time.time()\n",
    "param_grid_svc = {\n",
    "    'C': [0.01, 0.1, 1.0, 10.0]\n",
    "}\n",
    "grid_svc = GridSearchCV(LinearSVC(random_state=42, class_weight='balanced', dual='auto', max_iter=2000), # dual='auto' может быть быстрее\n",
    "                        param_grid_svc, cv=skf, scoring='f1_macro', n_jobs=-1)\n",
    "grid_svc.fit(X_train_full, y_train)\n",
    "svc_model = grid_svc.best_estimator_\n",
    "svc_cv_score = grid_svc.best_score_\n",
    "\n",
    "cv_results['LinearSVC'] = svc_cv_score\n",
    "print(f\"Лучшие параметры для LinearSVC: {grid_svc.best_params_}\")\n",
    "print(f\"Лучший средний F1-macro на CV для LinearSVC: {svc_cv_score:.4f}\")\n",
    "print(f\"Время обучения и CV: {time.time() - start_time:.2f} сек.\\n\")"
   ]
  },
  {
   "cell_type": "code",
   "execution_count": 17,
   "id": "9d618b3a",
   "metadata": {},
   "outputs": [
    {
     "name": "stdout",
     "output_type": "stream",
     "text": [
      "--- 3. Обучение и оценка Multinomial Naive Bayes (только на TF-IDF признаках) ---\n",
      "Лучшие параметры для MultinomialNB: {'alpha': 0.01}\n",
      "Лучший средний F1-macro на CV для MultinomialNB: 0.9460\n",
      "Время обучения и CV: 0.25 сек.\n",
      "\n"
     ]
    }
   ],
   "source": [
    "\n",
    "# --- 3. Multinomial Naive Bayes ---\n",
    "# MultinomialNB не принимает отрицательные значения, а наши числовые признаки были масштабированы\n",
    "# StandardScaler'ом и могут содержать отрицательные значения.\n",
    "# TF-IDF по своей природе не отрицательны.\n",
    "# Варианты:\n",
    "# 1. Использовать MinMaxScaler для числовых признаков (0 до 1).\n",
    "# 2. Использовать Naive Bayes только на TF-IDF признаках.\n",
    "# 3. Не использовать Naive Bayes или использовать GaussianNB для числовых и MultinomialNB для TF-IDF, а затем ансамблировать (сложнее).\n",
    "\n",
    "# Давайте для простоты пока используем его только на TF-IDF признаках.\n",
    "# Сначала объединим только TF-IDF\n",
    "X_train_tfidf_only = hstack([X_train_title_tfidf, X_train_text_tfidf])\n",
    "# X_test_tfidf_only = hstack([X_test_title_tfidf, X_test_text_tfidf]) # Понадобится для предсказания\n",
    "\n",
    "print(\"--- 3. Обучение и оценка Multinomial Naive Bayes (только на TF-IDF признаках) ---\")\n",
    "start_time = time.time()\n",
    "param_grid_mnb = {\n",
    "    'alpha': [0.01, 0.1, 0.5, 1.0] # Параметр сглаживания Лапласа\n",
    "}\n",
    "grid_mnb = GridSearchCV(MultinomialNB(), param_grid_mnb, cv=skf, scoring='f1_macro', n_jobs=-1)\n",
    "grid_mnb.fit(X_train_tfidf_only, y_train) # Обучаем на TF-IDF\n",
    "mnb_model = grid_mnb.best_estimator_\n",
    "mnb_cv_score = grid_mnb.best_score_\n",
    "\n",
    "cv_results['MultinomialNB (TF-IDF only)'] = mnb_cv_score\n",
    "print(f\"Лучшие параметры для MultinomialNB: {grid_mnb.best_params_}\")\n",
    "print(f\"Лучший средний F1-macro на CV для MultinomialNB: {mnb_cv_score:.4f}\")\n",
    "print(f\"Время обучения и CV: {time.time() - start_time:.2f} сек.\\n\")\n",
    "# mnb_model обучена на X_train_tfidf_only\n",
    "\n"
   ]
  },
  {
   "cell_type": "code",
   "execution_count": 18,
   "id": "b5f0f4b8",
   "metadata": {},
   "outputs": [
    {
     "name": "stdout",
     "output_type": "stream",
     "text": [
      "--- 4. Обучение и оценка RandomForest Classifier ---\n",
      "Fitting 5 folds for each of 6 candidates, totalling 30 fits\n",
      "Лучшие параметры для RandomForest: {'max_depth': None, 'n_estimators': 200}\n",
      "Лучший средний F1-macro на CV для RandomForest: 0.9790\n",
      "Время обучения и CV: 40.17 сек.\n",
      "\n"
     ]
    }
   ],
   "source": [
    "# --- 4. RandomForest Classifier ---\n",
    "print(\"--- 4. Обучение и оценка RandomForest Classifier ---\")\n",
    "start_time = time.time()\n",
    "# RandomForest может быть медленным на данных с таким числом признаков.\n",
    "# Ограничим n_estimators и max_depth для первого прогона или используем небольшую подвыборку признаков.\n",
    "# Для простоты, используем его на полном наборе, но с небольшим количеством деревьев.\n",
    "# В GridSearchCV можно добавить больше параметров (max_depth, min_samples_split, min_samples_leaf)\n",
    "param_grid_rf = {\n",
    "    'n_estimators': [100, 200], # Можно начать со 100\n",
    "    'max_depth': [None, 20, 50], # None - до полной глубины\n",
    "    # 'min_samples_split': [2, 5],\n",
    "    # 'min_samples_leaf': [1, 3]\n",
    "}\n",
    "grid_rf = GridSearchCV(RandomForestClassifier(random_state=42, class_weight='balanced', n_jobs=-1),\n",
    "                       param_grid_rf, cv=skf, scoring='f1_macro', verbose=1) # verbose=1 для отслеживания прогресса\n",
    "grid_rf.fit(X_train_full, y_train)\n",
    "rf_model = grid_rf.best_estimator_\n",
    "rf_cv_score = grid_rf.best_score_\n",
    "\n",
    "cv_results['RandomForest'] = rf_cv_score\n",
    "print(f\"Лучшие параметры для RandomForest: {grid_rf.best_params_}\")\n",
    "print(f\"Лучший средний F1-macro на CV для RandomForest: {rf_cv_score:.4f}\")\n",
    "print(f\"Время обучения и CV: {time.time() - start_time:.2f} сек.\\n\")\n"
   ]
  },
  {
   "cell_type": "code",
   "execution_count": 19,
   "id": "db599751",
   "metadata": {},
   "outputs": [
    {
     "name": "stdout",
     "output_type": "stream",
     "text": [
      "--- 5. Обучение и оценка LightGBM (с RandomizedSearchCV) ---\n",
      "Начинаем RandomizedSearchCV для LightGBM с 25 итерациями...\n",
      "Fitting 5 folds for each of 25 candidates, totalling 125 fits\n"
     ]
    },
    {
     "name": "stderr",
     "output_type": "stream",
     "text": [
      "/opt/miniconda3/lib/python3.12/site-packages/sklearn/utils/validation.py:2739: UserWarning: X does not have valid feature names, but LGBMClassifier was fitted with feature names\n",
      "  warnings.warn(\n"
     ]
    },
    {
     "name": "stdout",
     "output_type": "stream",
     "text": [
      "[CV] END colsample_bytree=0.996884623716487, learning_rate=0.06557333586649448, max_depth=10, n_estimators=221, num_leaves=63, reg_alpha=0.023062425041415757, reg_lambda=0.5247746602583891, subsample=0.7599443886861021; total time= 6.8min\n"
     ]
    },
    {
     "name": "stderr",
     "output_type": "stream",
     "text": [
      "/opt/miniconda3/lib/python3.12/site-packages/sklearn/utils/validation.py:2739: UserWarning: X does not have valid feature names, but LGBMClassifier was fitted with feature names\n",
      "  warnings.warn(\n"
     ]
    },
    {
     "name": "stdout",
     "output_type": "stream",
     "text": [
      "[CV] END colsample_bytree=0.996884623716487, learning_rate=0.06557333586649448, max_depth=10, n_estimators=221, num_leaves=63, reg_alpha=0.023062425041415757, reg_lambda=0.5247746602583891, subsample=0.7599443886861021; total time= 7.0min\n"
     ]
    },
    {
     "name": "stderr",
     "output_type": "stream",
     "text": [
      "/opt/miniconda3/lib/python3.12/site-packages/sklearn/utils/validation.py:2739: UserWarning: X does not have valid feature names, but LGBMClassifier was fitted with feature names\n",
      "  warnings.warn(\n"
     ]
    },
    {
     "name": "stdout",
     "output_type": "stream",
     "text": [
      "[CV] END colsample_bytree=0.9464704583099741, learning_rate=0.06410035105688879, max_depth=15, n_estimators=861, num_leaves=21, reg_alpha=0.7219987722668247, reg_lambda=0.9385527090157502, subsample=0.6003115063364057; total time= 7.5min\n"
     ]
    },
    {
     "name": "stderr",
     "output_type": "stream",
     "text": [
      "/opt/miniconda3/lib/python3.12/site-packages/sklearn/utils/validation.py:2739: UserWarning: X does not have valid feature names, but LGBMClassifier was fitted with feature names\n",
      "  warnings.warn(\n"
     ]
    },
    {
     "name": "stdout",
     "output_type": "stream",
     "text": [
      "[CV] END colsample_bytree=0.9464704583099741, learning_rate=0.06410035105688879, max_depth=15, n_estimators=861, num_leaves=21, reg_alpha=0.7219987722668247, reg_lambda=0.9385527090157502, subsample=0.6003115063364057; total time= 7.6min\n"
     ]
    },
    {
     "name": "stderr",
     "output_type": "stream",
     "text": [
      "/opt/miniconda3/lib/python3.12/site-packages/sklearn/utils/validation.py:2739: UserWarning: X does not have valid feature names, but LGBMClassifier was fitted with feature names\n",
      "  warnings.warn(\n"
     ]
    },
    {
     "name": "stdout",
     "output_type": "stream",
     "text": [
      "[CV] END colsample_bytree=0.9464704583099741, learning_rate=0.06410035105688879, max_depth=15, n_estimators=861, num_leaves=21, reg_alpha=0.7219987722668247, reg_lambda=0.9385527090157502, subsample=0.6003115063364057; total time= 7.7min\n"
     ]
    },
    {
     "name": "stderr",
     "output_type": "stream",
     "text": [
      "/opt/miniconda3/lib/python3.12/site-packages/sklearn/utils/validation.py:2739: UserWarning: X does not have valid feature names, but LGBMClassifier was fitted with feature names\n",
      "  warnings.warn(\n"
     ]
    },
    {
     "name": "stdout",
     "output_type": "stream",
     "text": [
      "[CV] END colsample_bytree=0.9464704583099741, learning_rate=0.06410035105688879, max_depth=15, n_estimators=861, num_leaves=21, reg_alpha=0.7219987722668247, reg_lambda=0.9385527090157502, subsample=0.6003115063364057; total time= 7.7min\n"
     ]
    },
    {
     "name": "stderr",
     "output_type": "stream",
     "text": [
      "/opt/miniconda3/lib/python3.12/site-packages/sklearn/utils/validation.py:2739: UserWarning: X does not have valid feature names, but LGBMClassifier was fitted with feature names\n",
      "  warnings.warn(\n"
     ]
    },
    {
     "name": "stdout",
     "output_type": "stream",
     "text": [
      "[CV] END colsample_bytree=0.9464704583099741, learning_rate=0.06410035105688879, max_depth=15, n_estimators=861, num_leaves=21, reg_alpha=0.7219987722668247, reg_lambda=0.9385527090157502, subsample=0.6003115063364057; total time= 7.9min\n"
     ]
    },
    {
     "name": "stderr",
     "output_type": "stream",
     "text": [
      "/opt/miniconda3/lib/python3.12/site-packages/sklearn/utils/validation.py:2739: UserWarning: X does not have valid feature names, but LGBMClassifier was fitted with feature names\n",
      "  warnings.warn(\n"
     ]
    },
    {
     "name": "stdout",
     "output_type": "stream",
     "text": [
      "[CV] END colsample_bytree=0.749816047538945, learning_rate=0.09556428757689245, max_depth=15, n_estimators=271, num_leaves=40, reg_alpha=0.15601864044243652, reg_lambda=0.15599452033620265, subsample=0.6232334448672797; total time= 7.9min\n"
     ]
    },
    {
     "name": "stderr",
     "output_type": "stream",
     "text": [
      "/opt/miniconda3/lib/python3.12/site-packages/sklearn/utils/validation.py:2739: UserWarning: X does not have valid feature names, but LGBMClassifier was fitted with feature names\n",
      "  warnings.warn(\n"
     ]
    },
    {
     "name": "stdout",
     "output_type": "stream",
     "text": [
      "[CV] END colsample_bytree=0.749816047538945, learning_rate=0.09556428757689245, max_depth=15, n_estimators=271, num_leaves=40, reg_alpha=0.15601864044243652, reg_lambda=0.15599452033620265, subsample=0.6232334448672797; total time= 7.9min\n"
     ]
    },
    {
     "name": "stderr",
     "output_type": "stream",
     "text": [
      "/opt/miniconda3/lib/python3.12/site-packages/sklearn/utils/validation.py:2739: UserWarning: X does not have valid feature names, but LGBMClassifier was fitted with feature names\n",
      "  warnings.warn(\n"
     ]
    },
    {
     "name": "stdout",
     "output_type": "stream",
     "text": [
      "[CV] END colsample_bytree=0.749816047538945, learning_rate=0.09556428757689245, max_depth=15, n_estimators=271, num_leaves=40, reg_alpha=0.15601864044243652, reg_lambda=0.15599452033620265, subsample=0.6232334448672797; total time= 7.9min\n"
     ]
    },
    {
     "name": "stderr",
     "output_type": "stream",
     "text": [
      "/opt/miniconda3/lib/python3.12/site-packages/sklearn/utils/validation.py:2739: UserWarning: X does not have valid feature names, but LGBMClassifier was fitted with feature names\n",
      "  warnings.warn(\n"
     ]
    },
    {
     "name": "stdout",
     "output_type": "stream",
     "text": [
      "[CV] END colsample_bytree=0.749816047538945, learning_rate=0.09556428757689245, max_depth=15, n_estimators=271, num_leaves=40, reg_alpha=0.15601864044243652, reg_lambda=0.15599452033620265, subsample=0.6232334448672797; total time= 7.9min\n"
     ]
    },
    {
     "name": "stderr",
     "output_type": "stream",
     "text": [
      "/opt/miniconda3/lib/python3.12/site-packages/sklearn/utils/validation.py:2739: UserWarning: X does not have valid feature names, but LGBMClassifier was fitted with feature names\n",
      "  warnings.warn(\n"
     ]
    },
    {
     "name": "stdout",
     "output_type": "stream",
     "text": [
      "[CV] END colsample_bytree=0.749816047538945, learning_rate=0.09556428757689245, max_depth=15, n_estimators=271, num_leaves=40, reg_alpha=0.15601864044243652, reg_lambda=0.15599452033620265, subsample=0.6232334448672797; total time= 8.0min\n"
     ]
    },
    {
     "name": "stderr",
     "output_type": "stream",
     "text": [
      "/opt/miniconda3/lib/python3.12/site-packages/sklearn/utils/validation.py:2739: UserWarning: X does not have valid feature names, but LGBMClassifier was fitted with feature names\n",
      "  warnings.warn(\n"
     ]
    },
    {
     "name": "stdout",
     "output_type": "stream",
     "text": [
      "[CV] END colsample_bytree=0.996884623716487, learning_rate=0.06557333586649448, max_depth=10, n_estimators=221, num_leaves=63, reg_alpha=0.023062425041415757, reg_lambda=0.5247746602583891, subsample=0.7599443886861021; total time= 4.5min\n"
     ]
    },
    {
     "name": "stderr",
     "output_type": "stream",
     "text": [
      "/opt/miniconda3/lib/python3.12/site-packages/sklearn/utils/validation.py:2739: UserWarning: X does not have valid feature names, but LGBMClassifier was fitted with feature names\n",
      "  warnings.warn(\n"
     ]
    },
    {
     "name": "stdout",
     "output_type": "stream",
     "text": [
      "[CV] END colsample_bytree=0.996884623716487, learning_rate=0.06557333586649448, max_depth=10, n_estimators=221, num_leaves=63, reg_alpha=0.023062425041415757, reg_lambda=0.5247746602583891, subsample=0.7599443886861021; total time= 4.6min\n"
     ]
    },
    {
     "name": "stderr",
     "output_type": "stream",
     "text": [
      "/opt/miniconda3/lib/python3.12/site-packages/sklearn/utils/validation.py:2739: UserWarning: X does not have valid feature names, but LGBMClassifier was fitted with feature names\n",
      "  warnings.warn(\n"
     ]
    },
    {
     "name": "stdout",
     "output_type": "stream",
     "text": [
      "[CV] END colsample_bytree=0.6186662652854461, learning_rate=0.09763799669573131, max_depth=15, n_estimators=766, num_leaves=22, reg_alpha=0.8599404067363206, reg_lambda=0.6803075385877797, subsample=0.7801997007878172; total time= 4.6min\n"
     ]
    },
    {
     "name": "stderr",
     "output_type": "stream",
     "text": [
      "/opt/miniconda3/lib/python3.12/site-packages/sklearn/utils/validation.py:2739: UserWarning: X does not have valid feature names, but LGBMClassifier was fitted with feature names\n",
      "  warnings.warn(\n"
     ]
    },
    {
     "name": "stdout",
     "output_type": "stream",
     "text": [
      "[CV] END colsample_bytree=0.6186662652854461, learning_rate=0.09763799669573131, max_depth=15, n_estimators=766, num_leaves=22, reg_alpha=0.8599404067363206, reg_lambda=0.6803075385877797, subsample=0.7801997007878172; total time= 4.9min\n"
     ]
    },
    {
     "name": "stderr",
     "output_type": "stream",
     "text": [
      "/opt/miniconda3/lib/python3.12/site-packages/sklearn/utils/validation.py:2739: UserWarning: X does not have valid feature names, but LGBMClassifier was fitted with feature names\n",
      "  warnings.warn(\n"
     ]
    },
    {
     "name": "stdout",
     "output_type": "stream",
     "text": [
      "[CV] END colsample_bytree=0.996884623716487, learning_rate=0.06557333586649448, max_depth=10, n_estimators=221, num_leaves=63, reg_alpha=0.023062425041415757, reg_lambda=0.5247746602583891, subsample=0.7599443886861021; total time= 5.0min\n"
     ]
    },
    {
     "name": "stderr",
     "output_type": "stream",
     "text": [
      "/opt/miniconda3/lib/python3.12/site-packages/sklearn/utils/validation.py:2739: UserWarning: X does not have valid feature names, but LGBMClassifier was fitted with feature names\n",
      "  warnings.warn(\n"
     ]
    },
    {
     "name": "stdout",
     "output_type": "stream",
     "text": [
      "[CV] END colsample_bytree=0.6186662652854461, learning_rate=0.09763799669573131, max_depth=15, n_estimators=766, num_leaves=22, reg_alpha=0.8599404067363206, reg_lambda=0.6803075385877797, subsample=0.7801997007878172; total time= 5.0min\n"
     ]
    },
    {
     "name": "stderr",
     "output_type": "stream",
     "text": [
      "/opt/miniconda3/lib/python3.12/site-packages/sklearn/utils/validation.py:2739: UserWarning: X does not have valid feature names, but LGBMClassifier was fitted with feature names\n",
      "  warnings.warn(\n"
     ]
    },
    {
     "name": "stdout",
     "output_type": "stream",
     "text": [
      "[CV] END colsample_bytree=0.6186662652854461, learning_rate=0.09763799669573131, max_depth=15, n_estimators=766, num_leaves=22, reg_alpha=0.8599404067363206, reg_lambda=0.6803075385877797, subsample=0.7801997007878172; total time= 5.4min\n"
     ]
    },
    {
     "name": "stderr",
     "output_type": "stream",
     "text": [
      "/opt/miniconda3/lib/python3.12/site-packages/sklearn/utils/validation.py:2739: UserWarning: X does not have valid feature names, but LGBMClassifier was fitted with feature names\n",
      "  warnings.warn(\n"
     ]
    },
    {
     "name": "stdout",
     "output_type": "stream",
     "text": [
      "[CV] END colsample_bytree=0.6186662652854461, learning_rate=0.09763799669573131, max_depth=15, n_estimators=766, num_leaves=22, reg_alpha=0.8599404067363206, reg_lambda=0.6803075385877797, subsample=0.7801997007878172; total time= 5.5min\n"
     ]
    },
    {
     "name": "stderr",
     "output_type": "stream",
     "text": [
      "/opt/miniconda3/lib/python3.12/site-packages/sklearn/utils/validation.py:2739: UserWarning: X does not have valid feature names, but LGBMClassifier was fitted with feature names\n",
      "  warnings.warn(\n"
     ]
    },
    {
     "name": "stdout",
     "output_type": "stream",
     "text": [
      "[CV] END colsample_bytree=0.6053059844639466, learning_rate=0.09479815801163674, max_depth=10, n_estimators=976, num_leaves=45, reg_alpha=0.09767211400638387, reg_lambda=0.6842330265121569, subsample=0.7760609974958406; total time=13.3min\n"
     ]
    },
    {
     "name": "stderr",
     "output_type": "stream",
     "text": [
      "/opt/miniconda3/lib/python3.12/site-packages/sklearn/utils/validation.py:2739: UserWarning: X does not have valid feature names, but LGBMClassifier was fitted with feature names\n",
      "  warnings.warn(\n"
     ]
    },
    {
     "name": "stdout",
     "output_type": "stream",
     "text": [
      "[CV] END colsample_bytree=0.6053059844639466, learning_rate=0.09479815801163674, max_depth=10, n_estimators=976, num_leaves=45, reg_alpha=0.09767211400638387, reg_lambda=0.6842330265121569, subsample=0.7760609974958406; total time=13.7min\n"
     ]
    },
    {
     "name": "stderr",
     "output_type": "stream",
     "text": [
      "/opt/miniconda3/lib/python3.12/site-packages/sklearn/utils/validation.py:2739: UserWarning: X does not have valid feature names, but LGBMClassifier was fitted with feature names\n",
      "  warnings.warn(\n"
     ]
    },
    {
     "name": "stdout",
     "output_type": "stream",
     "text": [
      "[CV] END colsample_bytree=0.6053059844639466, learning_rate=0.09479815801163674, max_depth=10, n_estimators=976, num_leaves=45, reg_alpha=0.09767211400638387, reg_lambda=0.6842330265121569, subsample=0.7760609974958406; total time=14.0min\n"
     ]
    },
    {
     "name": "stderr",
     "output_type": "stream",
     "text": [
      "/opt/miniconda3/lib/python3.12/site-packages/sklearn/utils/validation.py:2739: UserWarning: X does not have valid feature names, but LGBMClassifier was fitted with feature names\n",
      "  warnings.warn(\n"
     ]
    },
    {
     "name": "stdout",
     "output_type": "stream",
     "text": [
      "[CV] END colsample_bytree=0.6053059844639466, learning_rate=0.09479815801163674, max_depth=10, n_estimators=976, num_leaves=45, reg_alpha=0.09767211400638387, reg_lambda=0.6842330265121569, subsample=0.7760609974958406; total time=14.0min\n"
     ]
    },
    {
     "name": "stderr",
     "output_type": "stream",
     "text": [
      "/opt/miniconda3/lib/python3.12/site-packages/sklearn/utils/validation.py:2739: UserWarning: X does not have valid feature names, but LGBMClassifier was fitted with feature names\n",
      "  warnings.warn(\n"
     ]
    },
    {
     "name": "stdout",
     "output_type": "stream",
     "text": [
      "[CV] END colsample_bytree=0.6488152939379115, learning_rate=0.05456592191001432, max_depth=15, n_estimators=405, num_leaves=36, reg_alpha=0.2587799816000169, reg_lambda=0.662522284353982, subsample=0.7246844304357644; total time=10.5min\n"
     ]
    },
    {
     "name": "stderr",
     "output_type": "stream",
     "text": [
      "/opt/miniconda3/lib/python3.12/site-packages/sklearn/utils/validation.py:2739: UserWarning: X does not have valid feature names, but LGBMClassifier was fitted with feature names\n",
      "  warnings.warn(\n"
     ]
    },
    {
     "name": "stdout",
     "output_type": "stream",
     "text": [
      "[CV] END colsample_bytree=0.8080272084711243, learning_rate=0.05920392514089517, max_depth=25, n_estimators=902, num_leaves=37, reg_alpha=0.7751328233611146, reg_lambda=0.9394989415641891, subsample=0.9579309401710595; total time= 9.9min\n"
     ]
    },
    {
     "name": "stderr",
     "output_type": "stream",
     "text": [
      "/opt/miniconda3/lib/python3.12/site-packages/sklearn/utils/validation.py:2739: UserWarning: X does not have valid feature names, but LGBMClassifier was fitted with feature names\n",
      "  warnings.warn(\n"
     ]
    },
    {
     "name": "stdout",
     "output_type": "stream",
     "text": [
      "[CV] END colsample_bytree=0.8080272084711243, learning_rate=0.05920392514089517, max_depth=25, n_estimators=902, num_leaves=37, reg_alpha=0.7751328233611146, reg_lambda=0.9394989415641891, subsample=0.9579309401710595; total time=10.3min\n"
     ]
    },
    {
     "name": "stderr",
     "output_type": "stream",
     "text": [
      "/opt/miniconda3/lib/python3.12/site-packages/sklearn/utils/validation.py:2739: UserWarning: X does not have valid feature names, but LGBMClassifier was fitted with feature names\n",
      "  warnings.warn(\n"
     ]
    },
    {
     "name": "stdout",
     "output_type": "stream",
     "text": [
      "[CV] END colsample_bytree=0.6488152939379115, learning_rate=0.05456592191001432, max_depth=15, n_estimators=405, num_leaves=36, reg_alpha=0.2587799816000169, reg_lambda=0.662522284353982, subsample=0.7246844304357644; total time=11.2min\n"
     ]
    },
    {
     "name": "stderr",
     "output_type": "stream",
     "text": [
      "/opt/miniconda3/lib/python3.12/site-packages/sklearn/utils/validation.py:2739: UserWarning: X does not have valid feature names, but LGBMClassifier was fitted with feature names\n",
      "  warnings.warn(\n",
      "/opt/miniconda3/lib/python3.12/site-packages/sklearn/utils/validation.py:2739: UserWarning: X does not have valid feature names, but LGBMClassifier was fitted with feature names\n",
      "  warnings.warn(\n"
     ]
    },
    {
     "name": "stdout",
     "output_type": "stream",
     "text": [
      "[CV] END colsample_bytree=0.6053059844639466, learning_rate=0.09479815801163674, max_depth=10, n_estimators=976, num_leaves=45, reg_alpha=0.09767211400638387, reg_lambda=0.6842330265121569, subsample=0.7760609974958406; total time=12.9min\n",
      "[CV] END colsample_bytree=0.6488152939379115, learning_rate=0.05456592191001432, max_depth=15, n_estimators=405, num_leaves=36, reg_alpha=0.2587799816000169, reg_lambda=0.662522284353982, subsample=0.7246844304357644; total time=11.9min\n"
     ]
    },
    {
     "name": "stderr",
     "output_type": "stream",
     "text": [
      "/opt/miniconda3/lib/python3.12/site-packages/sklearn/utils/validation.py:2739: UserWarning: X does not have valid feature names, but LGBMClassifier was fitted with feature names\n",
      "  warnings.warn(\n"
     ]
    },
    {
     "name": "stdout",
     "output_type": "stream",
     "text": [
      "[CV] END colsample_bytree=0.6488152939379115, learning_rate=0.05456592191001432, max_depth=15, n_estimators=405, num_leaves=36, reg_alpha=0.2587799816000169, reg_lambda=0.662522284353982, subsample=0.7246844304357644; total time=11.7min\n"
     ]
    },
    {
     "name": "stderr",
     "output_type": "stream",
     "text": [
      "/opt/miniconda3/lib/python3.12/site-packages/sklearn/utils/validation.py:2739: UserWarning: X does not have valid feature names, but LGBMClassifier was fitted with feature names\n",
      "  warnings.warn(\n"
     ]
    },
    {
     "name": "stdout",
     "output_type": "stream",
     "text": [
      "[CV] END colsample_bytree=0.6488152939379115, learning_rate=0.05456592191001432, max_depth=15, n_estimators=405, num_leaves=36, reg_alpha=0.2587799816000169, reg_lambda=0.662522284353982, subsample=0.7246844304357644; total time=11.6min\n"
     ]
    },
    {
     "name": "stderr",
     "output_type": "stream",
     "text": [
      "/opt/miniconda3/lib/python3.12/site-packages/sklearn/utils/validation.py:2739: UserWarning: X does not have valid feature names, but LGBMClassifier was fitted with feature names\n",
      "  warnings.warn(\n"
     ]
    },
    {
     "name": "stdout",
     "output_type": "stream",
     "text": [
      "[CV] END colsample_bytree=0.8391599915244341, learning_rate=0.09296868115208051, max_depth=20, n_estimators=901, num_leaves=59, reg_alpha=0.8445338486781514, reg_lambda=0.7473201101373809, subsample=0.815876852955632; total time= 7.2min\n"
     ]
    },
    {
     "name": "stderr",
     "output_type": "stream",
     "text": [
      "/opt/miniconda3/lib/python3.12/site-packages/sklearn/utils/validation.py:2739: UserWarning: X does not have valid feature names, but LGBMClassifier was fitted with feature names\n",
      "  warnings.warn(\n"
     ]
    },
    {
     "name": "stdout",
     "output_type": "stream",
     "text": [
      "[CV] END colsample_bytree=0.8391599915244341, learning_rate=0.09296868115208051, max_depth=20, n_estimators=901, num_leaves=59, reg_alpha=0.8445338486781514, reg_lambda=0.7473201101373809, subsample=0.815876852955632; total time= 7.6min\n"
     ]
    },
    {
     "name": "stderr",
     "output_type": "stream",
     "text": [
      "/opt/miniconda3/lib/python3.12/site-packages/sklearn/utils/validation.py:2739: UserWarning: X does not have valid feature names, but LGBMClassifier was fitted with feature names\n",
      "  warnings.warn(\n"
     ]
    },
    {
     "name": "stdout",
     "output_type": "stream",
     "text": [
      "[CV] END colsample_bytree=0.8080272084711243, learning_rate=0.05920392514089517, max_depth=25, n_estimators=902, num_leaves=37, reg_alpha=0.7751328233611146, reg_lambda=0.9394989415641891, subsample=0.9579309401710595; total time= 9.3min\n"
     ]
    },
    {
     "name": "stderr",
     "output_type": "stream",
     "text": [
      "/opt/miniconda3/lib/python3.12/site-packages/sklearn/utils/validation.py:2739: UserWarning: X does not have valid feature names, but LGBMClassifier was fitted with feature names\n",
      "  warnings.warn(\n"
     ]
    },
    {
     "name": "stdout",
     "output_type": "stream",
     "text": [
      "[CV] END colsample_bytree=0.8391599915244341, learning_rate=0.09296868115208051, max_depth=20, n_estimators=901, num_leaves=59, reg_alpha=0.8445338486781514, reg_lambda=0.7473201101373809, subsample=0.815876852955632; total time= 7.5min\n"
     ]
    },
    {
     "name": "stderr",
     "output_type": "stream",
     "text": [
      "/opt/miniconda3/lib/python3.12/site-packages/sklearn/utils/validation.py:2739: UserWarning: X does not have valid feature names, but LGBMClassifier was fitted with feature names\n",
      "  warnings.warn(\n"
     ]
    },
    {
     "name": "stdout",
     "output_type": "stream",
     "text": [
      "[CV] END colsample_bytree=0.8080272084711243, learning_rate=0.05920392514089517, max_depth=25, n_estimators=902, num_leaves=37, reg_alpha=0.7751328233611146, reg_lambda=0.9394989415641891, subsample=0.9579309401710595; total time= 9.4min\n"
     ]
    },
    {
     "name": "stderr",
     "output_type": "stream",
     "text": [
      "/opt/miniconda3/lib/python3.12/site-packages/sklearn/utils/validation.py:2739: UserWarning: X does not have valid feature names, but LGBMClassifier was fitted with feature names\n",
      "  warnings.warn(\n"
     ]
    },
    {
     "name": "stdout",
     "output_type": "stream",
     "text": [
      "[CV] END colsample_bytree=0.8391599915244341, learning_rate=0.09296868115208051, max_depth=20, n_estimators=901, num_leaves=59, reg_alpha=0.8445338486781514, reg_lambda=0.7473201101373809, subsample=0.815876852955632; total time= 7.5min\n"
     ]
    },
    {
     "name": "stderr",
     "output_type": "stream",
     "text": [
      "/opt/miniconda3/lib/python3.12/site-packages/sklearn/utils/validation.py:2739: UserWarning: X does not have valid feature names, but LGBMClassifier was fitted with feature names\n",
      "  warnings.warn(\n"
     ]
    },
    {
     "name": "stdout",
     "output_type": "stream",
     "text": [
      "[CV] END colsample_bytree=0.8391599915244341, learning_rate=0.09296868115208051, max_depth=20, n_estimators=901, num_leaves=59, reg_alpha=0.8445338486781514, reg_lambda=0.7473201101373809, subsample=0.815876852955632; total time= 7.4min\n"
     ]
    },
    {
     "name": "stderr",
     "output_type": "stream",
     "text": [
      "/opt/miniconda3/lib/python3.12/site-packages/sklearn/utils/validation.py:2739: UserWarning: X does not have valid feature names, but LGBMClassifier was fitted with feature names\n",
      "  warnings.warn(\n"
     ]
    },
    {
     "name": "stdout",
     "output_type": "stream",
     "text": [
      "[CV] END colsample_bytree=0.8080272084711243, learning_rate=0.05920392514089517, max_depth=25, n_estimators=902, num_leaves=37, reg_alpha=0.7751328233611146, reg_lambda=0.9394989415641891, subsample=0.9579309401710595; total time= 9.5min\n"
     ]
    },
    {
     "name": "stderr",
     "output_type": "stream",
     "text": [
      "/opt/miniconda3/lib/python3.12/site-packages/sklearn/utils/validation.py:2739: UserWarning: X does not have valid feature names, but LGBMClassifier was fitted with feature names\n",
      "  warnings.warn(\n"
     ]
    },
    {
     "name": "stdout",
     "output_type": "stream",
     "text": [
      "[CV] END colsample_bytree=0.8347004662655393, learning_rate=0.09687297765377241, max_depth=20, n_estimators=579, num_leaves=64, reg_alpha=0.14092422497476265, reg_lambda=0.8021969807540397, subsample=0.6298202574719083; total time=11.2min\n"
     ]
    },
    {
     "name": "stderr",
     "output_type": "stream",
     "text": [
      "/opt/miniconda3/lib/python3.12/site-packages/sklearn/utils/validation.py:2739: UserWarning: X does not have valid feature names, but LGBMClassifier was fitted with feature names\n",
      "  warnings.warn(\n"
     ]
    },
    {
     "name": "stdout",
     "output_type": "stream",
     "text": [
      "[CV] END colsample_bytree=0.8347004662655393, learning_rate=0.09687297765377241, max_depth=20, n_estimators=579, num_leaves=64, reg_alpha=0.14092422497476265, reg_lambda=0.8021969807540397, subsample=0.6298202574719083; total time=11.3min\n"
     ]
    },
    {
     "name": "stderr",
     "output_type": "stream",
     "text": [
      "/opt/miniconda3/lib/python3.12/site-packages/sklearn/utils/validation.py:2739: UserWarning: X does not have valid feature names, but LGBMClassifier was fitted with feature names\n",
      "  warnings.warn(\n"
     ]
    },
    {
     "name": "stdout",
     "output_type": "stream",
     "text": [
      "[CV] END colsample_bytree=0.8347004662655393, learning_rate=0.09687297765377241, max_depth=20, n_estimators=579, num_leaves=64, reg_alpha=0.14092422497476265, reg_lambda=0.8021969807540397, subsample=0.6298202574719083; total time=11.7min\n"
     ]
    },
    {
     "name": "stderr",
     "output_type": "stream",
     "text": [
      "/opt/miniconda3/lib/python3.12/site-packages/sklearn/utils/validation.py:2739: UserWarning: X does not have valid feature names, but LGBMClassifier was fitted with feature names\n",
      "  warnings.warn(\n"
     ]
    },
    {
     "name": "stdout",
     "output_type": "stream",
     "text": [
      "[CV] END colsample_bytree=0.8347004662655393, learning_rate=0.09687297765377241, max_depth=20, n_estimators=579, num_leaves=64, reg_alpha=0.14092422497476265, reg_lambda=0.8021969807540397, subsample=0.6298202574719083; total time=11.8min\n"
     ]
    },
    {
     "name": "stderr",
     "output_type": "stream",
     "text": [
      "/opt/miniconda3/lib/python3.12/site-packages/sklearn/utils/validation.py:2739: UserWarning: X does not have valid feature names, but LGBMClassifier was fitted with feature names\n",
      "  warnings.warn(\n"
     ]
    },
    {
     "name": "stdout",
     "output_type": "stream",
     "text": [
      "[CV] END colsample_bytree=0.9160702162124823, learning_rate=0.06453639773029102, max_depth=10, n_estimators=430, num_leaves=60, reg_alpha=0.9149596755437808, reg_lambda=0.8500385777897993, subsample=0.7797802696552814; total time= 9.2min\n"
     ]
    },
    {
     "name": "stderr",
     "output_type": "stream",
     "text": [
      "/opt/miniconda3/lib/python3.12/site-packages/sklearn/utils/validation.py:2739: UserWarning: X does not have valid feature names, but LGBMClassifier was fitted with feature names\n",
      "  warnings.warn(\n"
     ]
    },
    {
     "name": "stdout",
     "output_type": "stream",
     "text": [
      "[CV] END colsample_bytree=0.8347004662655393, learning_rate=0.09687297765377241, max_depth=20, n_estimators=579, num_leaves=64, reg_alpha=0.14092422497476265, reg_lambda=0.8021969807540397, subsample=0.6298202574719083; total time=11.6min\n"
     ]
    },
    {
     "name": "stderr",
     "output_type": "stream",
     "text": [
      "/opt/miniconda3/lib/python3.12/site-packages/sklearn/utils/validation.py:2739: UserWarning: X does not have valid feature names, but LGBMClassifier was fitted with feature names\n",
      "  warnings.warn(\n"
     ]
    },
    {
     "name": "stdout",
     "output_type": "stream",
     "text": [
      "[CV] END colsample_bytree=0.9160702162124823, learning_rate=0.06453639773029102, max_depth=10, n_estimators=430, num_leaves=60, reg_alpha=0.9149596755437808, reg_lambda=0.8500385777897993, subsample=0.7797802696552814; total time= 9.9min\n"
     ]
    },
    {
     "name": "stderr",
     "output_type": "stream",
     "text": [
      "/opt/miniconda3/lib/python3.12/site-packages/sklearn/utils/validation.py:2739: UserWarning: X does not have valid feature names, but LGBMClassifier was fitted with feature names\n",
      "  warnings.warn(\n"
     ]
    },
    {
     "name": "stdout",
     "output_type": "stream",
     "text": [
      "[CV] END colsample_bytree=0.9160702162124823, learning_rate=0.06453639773029102, max_depth=10, n_estimators=430, num_leaves=60, reg_alpha=0.9149596755437808, reg_lambda=0.8500385777897993, subsample=0.7797802696552814; total time= 9.3min\n"
     ]
    },
    {
     "name": "stderr",
     "output_type": "stream",
     "text": [
      "/opt/miniconda3/lib/python3.12/site-packages/sklearn/utils/validation.py:2739: UserWarning: X does not have valid feature names, but LGBMClassifier was fitted with feature names\n",
      "  warnings.warn(\n"
     ]
    },
    {
     "name": "stdout",
     "output_type": "stream",
     "text": [
      "[CV] END colsample_bytree=0.9160702162124823, learning_rate=0.06453639773029102, max_depth=10, n_estimators=430, num_leaves=60, reg_alpha=0.9149596755437808, reg_lambda=0.8500385777897993, subsample=0.7797802696552814; total time= 9.4min\n"
     ]
    },
    {
     "name": "stderr",
     "output_type": "stream",
     "text": [
      "/opt/miniconda3/lib/python3.12/site-packages/sklearn/utils/validation.py:2739: UserWarning: X does not have valid feature names, but LGBMClassifier was fitted with feature names\n",
      "  warnings.warn(\n"
     ]
    },
    {
     "name": "stdout",
     "output_type": "stream",
     "text": [
      "[CV] END colsample_bytree=0.9160702162124823, learning_rate=0.06453639773029102, max_depth=10, n_estimators=430, num_leaves=60, reg_alpha=0.9149596755437808, reg_lambda=0.8500385777897993, subsample=0.7797802696552814; total time= 9.8min\n"
     ]
    },
    {
     "name": "stderr",
     "output_type": "stream",
     "text": [
      "/opt/miniconda3/lib/python3.12/site-packages/sklearn/utils/validation.py:2739: UserWarning: X does not have valid feature names, but LGBMClassifier was fitted with feature names\n",
      "  warnings.warn(\n"
     ]
    },
    {
     "name": "stdout",
     "output_type": "stream",
     "text": [
      "[CV] END colsample_bytree=0.9947547746402069, learning_rate=0.07950202923669916, max_depth=20, n_estimators=847, num_leaves=43, reg_alpha=0.014079822715084456, reg_lambda=0.19884240408880516, subsample=0.88453678109946; total time=16.5min\n"
     ]
    },
    {
     "name": "stderr",
     "output_type": "stream",
     "text": [
      "/opt/miniconda3/lib/python3.12/site-packages/sklearn/utils/validation.py:2739: UserWarning: X does not have valid feature names, but LGBMClassifier was fitted with feature names\n",
      "  warnings.warn(\n"
     ]
    },
    {
     "name": "stdout",
     "output_type": "stream",
     "text": [
      "[CV] END colsample_bytree=0.9947547746402069, learning_rate=0.07950202923669916, max_depth=20, n_estimators=847, num_leaves=43, reg_alpha=0.014079822715084456, reg_lambda=0.19884240408880516, subsample=0.88453678109946; total time=16.3min\n"
     ]
    },
    {
     "name": "stderr",
     "output_type": "stream",
     "text": [
      "/opt/miniconda3/lib/python3.12/site-packages/sklearn/utils/validation.py:2739: UserWarning: X does not have valid feature names, but LGBMClassifier was fitted with feature names\n",
      "  warnings.warn(\n"
     ]
    },
    {
     "name": "stdout",
     "output_type": "stream",
     "text": [
      "[CV] END colsample_bytree=0.9947547746402069, learning_rate=0.07950202923669916, max_depth=20, n_estimators=847, num_leaves=43, reg_alpha=0.014079822715084456, reg_lambda=0.19884240408880516, subsample=0.88453678109946; total time=16.6min\n"
     ]
    },
    {
     "name": "stderr",
     "output_type": "stream",
     "text": [
      "/opt/miniconda3/lib/python3.12/site-packages/sklearn/utils/validation.py:2739: UserWarning: X does not have valid feature names, but LGBMClassifier was fitted with feature names\n",
      "  warnings.warn(\n"
     ]
    },
    {
     "name": "stdout",
     "output_type": "stream",
     "text": [
      "[CV] END colsample_bytree=0.9947547746402069, learning_rate=0.07950202923669916, max_depth=20, n_estimators=847, num_leaves=43, reg_alpha=0.014079822715084456, reg_lambda=0.19884240408880516, subsample=0.88453678109946; total time=16.7min\n"
     ]
    },
    {
     "name": "stderr",
     "output_type": "stream",
     "text": [
      "/opt/miniconda3/lib/python3.12/site-packages/sklearn/utils/validation.py:2739: UserWarning: X does not have valid feature names, but LGBMClassifier was fitted with feature names\n",
      "  warnings.warn(\n"
     ]
    },
    {
     "name": "stdout",
     "output_type": "stream",
     "text": [
      "[CV] END colsample_bytree=0.9947547746402069, learning_rate=0.07950202923669916, max_depth=20, n_estimators=847, num_leaves=43, reg_alpha=0.014079822715084456, reg_lambda=0.19884240408880516, subsample=0.88453678109946; total time=17.0min\n"
     ]
    },
    {
     "name": "stderr",
     "output_type": "stream",
     "text": [
      "/opt/miniconda3/lib/python3.12/site-packages/sklearn/utils/validation.py:2739: UserWarning: X does not have valid feature names, but LGBMClassifier was fitted with feature names\n",
      "  warnings.warn(\n"
     ]
    },
    {
     "name": "stdout",
     "output_type": "stream",
     "text": [
      "[CV] END colsample_bytree=0.6381640465961645, learning_rate=0.043373642697843974, max_depth=25, n_estimators=298, num_leaves=63, reg_alpha=0.6375574713552131, reg_lambda=0.8872127425763265, subsample=0.7888859700647797; total time=12.7min\n"
     ]
    },
    {
     "name": "stderr",
     "output_type": "stream",
     "text": [
      "/opt/miniconda3/lib/python3.12/site-packages/sklearn/utils/validation.py:2739: UserWarning: X does not have valid feature names, but LGBMClassifier was fitted with feature names\n",
      "  warnings.warn(\n"
     ]
    },
    {
     "name": "stdout",
     "output_type": "stream",
     "text": [
      "[CV] END colsample_bytree=0.6478376983753207, learning_rate=0.07419203085006955, max_depth=-1, n_estimators=204, num_leaves=45, reg_alpha=0.23598491974895575, reg_lambda=0.25606832276132396, subsample=0.6161734358153725; total time= 6.3min\n"
     ]
    },
    {
     "name": "stderr",
     "output_type": "stream",
     "text": [
      "/opt/miniconda3/lib/python3.12/site-packages/sklearn/utils/validation.py:2739: UserWarning: X does not have valid feature names, but LGBMClassifier was fitted with feature names\n",
      "  warnings.warn(\n"
     ]
    },
    {
     "name": "stdout",
     "output_type": "stream",
     "text": [
      "[CV] END colsample_bytree=0.6478376983753207, learning_rate=0.07419203085006955, max_depth=-1, n_estimators=204, num_leaves=45, reg_alpha=0.23598491974895575, reg_lambda=0.25606832276132396, subsample=0.6161734358153725; total time= 6.6min\n"
     ]
    },
    {
     "name": "stderr",
     "output_type": "stream",
     "text": [
      "/opt/miniconda3/lib/python3.12/site-packages/sklearn/utils/validation.py:2739: UserWarning: X does not have valid feature names, but LGBMClassifier was fitted with feature names\n",
      "  warnings.warn(\n"
     ]
    },
    {
     "name": "stdout",
     "output_type": "stream",
     "text": [
      "[CV] END colsample_bytree=0.6478376983753207, learning_rate=0.07419203085006955, max_depth=-1, n_estimators=204, num_leaves=45, reg_alpha=0.23598491974895575, reg_lambda=0.25606832276132396, subsample=0.6161734358153725; total time= 6.5min\n"
     ]
    },
    {
     "name": "stderr",
     "output_type": "stream",
     "text": [
      "/opt/miniconda3/lib/python3.12/site-packages/sklearn/utils/validation.py:2739: UserWarning: X does not have valid feature names, but LGBMClassifier was fitted with feature names\n",
      "  warnings.warn(\n"
     ]
    },
    {
     "name": "stdout",
     "output_type": "stream",
     "text": [
      "[CV] END colsample_bytree=0.6381640465961645, learning_rate=0.043373642697843974, max_depth=25, n_estimators=298, num_leaves=63, reg_alpha=0.6375574713552131, reg_lambda=0.8872127425763265, subsample=0.7888859700647797; total time=12.4min\n"
     ]
    },
    {
     "name": "stderr",
     "output_type": "stream",
     "text": [
      "/opt/miniconda3/lib/python3.12/site-packages/sklearn/utils/validation.py:2739: UserWarning: X does not have valid feature names, but LGBMClassifier was fitted with feature names\n",
      "  warnings.warn(\n"
     ]
    },
    {
     "name": "stdout",
     "output_type": "stream",
     "text": [
      "[CV] END colsample_bytree=0.6478376983753207, learning_rate=0.07419203085006955, max_depth=-1, n_estimators=204, num_leaves=45, reg_alpha=0.23598491974895575, reg_lambda=0.25606832276132396, subsample=0.6161734358153725; total time= 6.4min\n"
     ]
    },
    {
     "name": "stderr",
     "output_type": "stream",
     "text": [
      "/opt/miniconda3/lib/python3.12/site-packages/sklearn/utils/validation.py:2739: UserWarning: X does not have valid feature names, but LGBMClassifier was fitted with feature names\n",
      "  warnings.warn(\n"
     ]
    },
    {
     "name": "stdout",
     "output_type": "stream",
     "text": [
      "[CV] END colsample_bytree=0.6381640465961645, learning_rate=0.043373642697843974, max_depth=25, n_estimators=298, num_leaves=63, reg_alpha=0.6375574713552131, reg_lambda=0.8872127425763265, subsample=0.7888859700647797; total time=12.4min\n"
     ]
    },
    {
     "name": "stderr",
     "output_type": "stream",
     "text": [
      "/opt/miniconda3/lib/python3.12/site-packages/sklearn/utils/validation.py:2739: UserWarning: X does not have valid feature names, but LGBMClassifier was fitted with feature names\n",
      "  warnings.warn(\n"
     ]
    },
    {
     "name": "stdout",
     "output_type": "stream",
     "text": [
      "[CV] END colsample_bytree=0.6381640465961645, learning_rate=0.043373642697843974, max_depth=25, n_estimators=298, num_leaves=63, reg_alpha=0.6375574713552131, reg_lambda=0.8872127425763265, subsample=0.7888859700647797; total time=12.5min\n"
     ]
    },
    {
     "name": "stderr",
     "output_type": "stream",
     "text": [
      "/opt/miniconda3/lib/python3.12/site-packages/sklearn/utils/validation.py:2739: UserWarning: X does not have valid feature names, but LGBMClassifier was fitted with feature names\n",
      "  warnings.warn(\n"
     ]
    },
    {
     "name": "stdout",
     "output_type": "stream",
     "text": [
      "[CV] END colsample_bytree=0.6478376983753207, learning_rate=0.07419203085006955, max_depth=-1, n_estimators=204, num_leaves=45, reg_alpha=0.23598491974895575, reg_lambda=0.25606832276132396, subsample=0.6161734358153725; total time= 6.5min\n"
     ]
    },
    {
     "name": "stderr",
     "output_type": "stream",
     "text": [
      "/opt/miniconda3/lib/python3.12/site-packages/sklearn/utils/validation.py:2739: UserWarning: X does not have valid feature names, but LGBMClassifier was fitted with feature names\n",
      "  warnings.warn(\n"
     ]
    },
    {
     "name": "stdout",
     "output_type": "stream",
     "text": [
      "[CV] END colsample_bytree=0.6381640465961645, learning_rate=0.043373642697843974, max_depth=25, n_estimators=298, num_leaves=63, reg_alpha=0.6375574713552131, reg_lambda=0.8872127425763265, subsample=0.7888859700647797; total time=12.4min\n"
     ]
    },
    {
     "name": "stderr",
     "output_type": "stream",
     "text": [
      "/opt/miniconda3/lib/python3.12/site-packages/sklearn/utils/validation.py:2739: UserWarning: X does not have valid feature names, but LGBMClassifier was fitted with feature names\n",
      "  warnings.warn(\n"
     ]
    },
    {
     "name": "stdout",
     "output_type": "stream",
     "text": [
      "[CV] END colsample_bytree=0.8779139732158818, learning_rate=0.08924210551137318, max_depth=10, n_estimators=756, num_leaves=25, reg_alpha=0.45653457048291024, reg_lambda=0.2184404372168336, subsample=0.7666039791481465; total time= 3.8min\n"
     ]
    },
    {
     "name": "stderr",
     "output_type": "stream",
     "text": [
      "/opt/miniconda3/lib/python3.12/site-packages/sklearn/utils/validation.py:2739: UserWarning: X does not have valid feature names, but LGBMClassifier was fitted with feature names\n",
      "  warnings.warn(\n"
     ]
    },
    {
     "name": "stdout",
     "output_type": "stream",
     "text": [
      "[CV] END colsample_bytree=0.8779139732158818, learning_rate=0.08924210551137318, max_depth=10, n_estimators=756, num_leaves=25, reg_alpha=0.45653457048291024, reg_lambda=0.2184404372168336, subsample=0.7666039791481465; total time= 2.9min\n"
     ]
    },
    {
     "name": "stderr",
     "output_type": "stream",
     "text": [
      "/opt/miniconda3/lib/python3.12/site-packages/sklearn/utils/validation.py:2739: UserWarning: X does not have valid feature names, but LGBMClassifier was fitted with feature names\n",
      "  warnings.warn(\n"
     ]
    },
    {
     "name": "stdout",
     "output_type": "stream",
     "text": [
      "[CV] END colsample_bytree=0.8779139732158818, learning_rate=0.08924210551137318, max_depth=10, n_estimators=756, num_leaves=25, reg_alpha=0.45653457048291024, reg_lambda=0.2184404372168336, subsample=0.7666039791481465; total time= 3.4min\n"
     ]
    },
    {
     "name": "stderr",
     "output_type": "stream",
     "text": [
      "/opt/miniconda3/lib/python3.12/site-packages/sklearn/utils/validation.py:2739: UserWarning: X does not have valid feature names, but LGBMClassifier was fitted with feature names\n",
      "  warnings.warn(\n"
     ]
    },
    {
     "name": "stdout",
     "output_type": "stream",
     "text": [
      "[CV] END colsample_bytree=0.8779139732158818, learning_rate=0.08924210551137318, max_depth=10, n_estimators=756, num_leaves=25, reg_alpha=0.45653457048291024, reg_lambda=0.2184404372168336, subsample=0.7666039791481465; total time= 3.3min\n"
     ]
    },
    {
     "name": "stderr",
     "output_type": "stream",
     "text": [
      "/opt/miniconda3/lib/python3.12/site-packages/sklearn/utils/validation.py:2739: UserWarning: X does not have valid feature names, but LGBMClassifier was fitted with feature names\n",
      "  warnings.warn(\n"
     ]
    },
    {
     "name": "stdout",
     "output_type": "stream",
     "text": [
      "[CV] END colsample_bytree=0.8779139732158818, learning_rate=0.08924210551137318, max_depth=10, n_estimators=756, num_leaves=25, reg_alpha=0.45653457048291024, reg_lambda=0.2184404372168336, subsample=0.7666039791481465; total time= 2.9min\n"
     ]
    },
    {
     "name": "stderr",
     "output_type": "stream",
     "text": [
      "/opt/miniconda3/lib/python3.12/site-packages/sklearn/utils/validation.py:2739: UserWarning: X does not have valid feature names, but LGBMClassifier was fitted with feature names\n",
      "  warnings.warn(\n"
     ]
    },
    {
     "name": "stdout",
     "output_type": "stream",
     "text": [
      "[CV] END colsample_bytree=0.8842651558743149, learning_rate=0.01998017387306482, max_depth=20, n_estimators=660, num_leaves=51, reg_alpha=0.6364104112637804, reg_lambda=0.3143559810763267, subsample=0.8034282764658811; total time=23.0min\n"
     ]
    },
    {
     "name": "stderr",
     "output_type": "stream",
     "text": [
      "/opt/miniconda3/lib/python3.12/site-packages/sklearn/utils/validation.py:2739: UserWarning: X does not have valid feature names, but LGBMClassifier was fitted with feature names\n",
      "  warnings.warn(\n"
     ]
    },
    {
     "name": "stdout",
     "output_type": "stream",
     "text": [
      "[CV] END colsample_bytree=0.8842651558743149, learning_rate=0.01998017387306482, max_depth=20, n_estimators=660, num_leaves=51, reg_alpha=0.6364104112637804, reg_lambda=0.3143559810763267, subsample=0.8034282764658811; total time=22.9min\n"
     ]
    },
    {
     "name": "stderr",
     "output_type": "stream",
     "text": [
      "/opt/miniconda3/lib/python3.12/site-packages/sklearn/utils/validation.py:2739: UserWarning: X does not have valid feature names, but LGBMClassifier was fitted with feature names\n",
      "  warnings.warn(\n"
     ]
    },
    {
     "name": "stdout",
     "output_type": "stream",
     "text": [
      "[CV] END colsample_bytree=0.8842651558743149, learning_rate=0.01998017387306482, max_depth=20, n_estimators=660, num_leaves=51, reg_alpha=0.6364104112637804, reg_lambda=0.3143559810763267, subsample=0.8034282764658811; total time=23.0min\n"
     ]
    },
    {
     "name": "stderr",
     "output_type": "stream",
     "text": [
      "/opt/miniconda3/lib/python3.12/site-packages/sklearn/utils/validation.py:2739: UserWarning: X does not have valid feature names, but LGBMClassifier was fitted with feature names\n",
      "  warnings.warn(\n"
     ]
    },
    {
     "name": "stdout",
     "output_type": "stream",
     "text": [
      "[CV] END colsample_bytree=0.8842651558743149, learning_rate=0.01998017387306482, max_depth=20, n_estimators=660, num_leaves=51, reg_alpha=0.6364104112637804, reg_lambda=0.3143559810763267, subsample=0.8034282764658811; total time=23.0min\n"
     ]
    },
    {
     "name": "stderr",
     "output_type": "stream",
     "text": [
      "/opt/miniconda3/lib/python3.12/site-packages/sklearn/utils/validation.py:2739: UserWarning: X does not have valid feature names, but LGBMClassifier was fitted with feature names\n",
      "  warnings.warn(\n"
     ]
    },
    {
     "name": "stdout",
     "output_type": "stream",
     "text": [
      "[CV] END colsample_bytree=0.8842651558743149, learning_rate=0.01998017387306482, max_depth=20, n_estimators=660, num_leaves=51, reg_alpha=0.6364104112637804, reg_lambda=0.3143559810763267, subsample=0.8034282764658811; total time=23.1min\n"
     ]
    },
    {
     "name": "stderr",
     "output_type": "stream",
     "text": [
      "/opt/miniconda3/lib/python3.12/site-packages/sklearn/utils/validation.py:2739: UserWarning: X does not have valid feature names, but LGBMClassifier was fitted with feature names\n",
      "  warnings.warn(\n"
     ]
    },
    {
     "name": "stdout",
     "output_type": "stream",
     "text": [
      "[CV] END colsample_bytree=0.9533121035675474, learning_rate=0.03919105189047466, max_depth=20, n_estimators=672, num_leaves=58, reg_alpha=0.906828441545754, reg_lambda=0.2721322493846353, subsample=0.8590760482165449; total time=13.0min\n"
     ]
    },
    {
     "name": "stderr",
     "output_type": "stream",
     "text": [
      "/opt/miniconda3/lib/python3.12/site-packages/sklearn/utils/validation.py:2739: UserWarning: X does not have valid feature names, but LGBMClassifier was fitted with feature names\n",
      "  warnings.warn(\n"
     ]
    },
    {
     "name": "stdout",
     "output_type": "stream",
     "text": [
      "[CV] END colsample_bytree=0.9533121035675474, learning_rate=0.03919105189047466, max_depth=20, n_estimators=672, num_leaves=58, reg_alpha=0.906828441545754, reg_lambda=0.2721322493846353, subsample=0.8590760482165449; total time=13.6min\n"
     ]
    },
    {
     "name": "stderr",
     "output_type": "stream",
     "text": [
      "/opt/miniconda3/lib/python3.12/site-packages/sklearn/utils/validation.py:2739: UserWarning: X does not have valid feature names, but LGBMClassifier was fitted with feature names\n",
      "  warnings.warn(\n"
     ]
    },
    {
     "name": "stdout",
     "output_type": "stream",
     "text": [
      "[CV] END colsample_bytree=0.6002081507981263, learning_rate=0.041731197070075214, max_depth=15, n_estimators=558, num_leaves=25, reg_alpha=0.5107473025775657, reg_lambda=0.417411003148779, subsample=0.6888431241882921; total time= 3.3min\n"
     ]
    },
    {
     "name": "stderr",
     "output_type": "stream",
     "text": [
      "/opt/miniconda3/lib/python3.12/site-packages/sklearn/utils/validation.py:2739: UserWarning: X does not have valid feature names, but LGBMClassifier was fitted with feature names\n",
      "  warnings.warn(\n"
     ]
    },
    {
     "name": "stdout",
     "output_type": "stream",
     "text": [
      "[CV] END colsample_bytree=0.6002081507981263, learning_rate=0.041731197070075214, max_depth=15, n_estimators=558, num_leaves=25, reg_alpha=0.5107473025775657, reg_lambda=0.417411003148779, subsample=0.6888431241882921; total time= 3.6min\n"
     ]
    },
    {
     "name": "stderr",
     "output_type": "stream",
     "text": [
      "/opt/miniconda3/lib/python3.12/site-packages/sklearn/utils/validation.py:2739: UserWarning: X does not have valid feature names, but LGBMClassifier was fitted with feature names\n",
      "  warnings.warn(\n"
     ]
    },
    {
     "name": "stdout",
     "output_type": "stream",
     "text": [
      "[CV] END colsample_bytree=0.9630265895704372, learning_rate=0.032436300623398744, max_depth=25, n_estimators=854, num_leaves=62, reg_alpha=0.2030612247347694, reg_lambda=0.942853570557981, subsample=0.8395461865954144; total time=28.3min\n"
     ]
    },
    {
     "name": "stderr",
     "output_type": "stream",
     "text": [
      "/opt/miniconda3/lib/python3.12/site-packages/sklearn/utils/validation.py:2739: UserWarning: X does not have valid feature names, but LGBMClassifier was fitted with feature names\n",
      "  warnings.warn(\n"
     ]
    },
    {
     "name": "stdout",
     "output_type": "stream",
     "text": [
      "[CV] END colsample_bytree=0.9630265895704372, learning_rate=0.032436300623398744, max_depth=25, n_estimators=854, num_leaves=62, reg_alpha=0.2030612247347694, reg_lambda=0.942853570557981, subsample=0.8395461865954144; total time=28.0min\n"
     ]
    },
    {
     "name": "stderr",
     "output_type": "stream",
     "text": [
      "/opt/miniconda3/lib/python3.12/site-packages/sklearn/utils/validation.py:2739: UserWarning: X does not have valid feature names, but LGBMClassifier was fitted with feature names\n",
      "  warnings.warn(\n"
     ]
    },
    {
     "name": "stdout",
     "output_type": "stream",
     "text": [
      "[CV] END colsample_bytree=0.6002081507981263, learning_rate=0.041731197070075214, max_depth=15, n_estimators=558, num_leaves=25, reg_alpha=0.5107473025775657, reg_lambda=0.417411003148779, subsample=0.6888431241882921; total time= 4.0min\n"
     ]
    },
    {
     "name": "stderr",
     "output_type": "stream",
     "text": [
      "/opt/miniconda3/lib/python3.12/site-packages/sklearn/utils/validation.py:2739: UserWarning: X does not have valid feature names, but LGBMClassifier was fitted with feature names\n",
      "  warnings.warn(\n"
     ]
    },
    {
     "name": "stdout",
     "output_type": "stream",
     "text": [
      "[CV] END colsample_bytree=0.6002081507981263, learning_rate=0.041731197070075214, max_depth=15, n_estimators=558, num_leaves=25, reg_alpha=0.5107473025775657, reg_lambda=0.417411003148779, subsample=0.6888431241882921; total time= 4.2min\n"
     ]
    },
    {
     "name": "stderr",
     "output_type": "stream",
     "text": [
      "/opt/miniconda3/lib/python3.12/site-packages/sklearn/utils/validation.py:2739: UserWarning: X does not have valid feature names, but LGBMClassifier was fitted with feature names\n",
      "  warnings.warn(\n"
     ]
    },
    {
     "name": "stdout",
     "output_type": "stream",
     "text": [
      "[CV] END colsample_bytree=0.9630265895704372, learning_rate=0.032436300623398744, max_depth=25, n_estimators=854, num_leaves=62, reg_alpha=0.2030612247347694, reg_lambda=0.942853570557981, subsample=0.8395461865954144; total time=27.9min\n"
     ]
    },
    {
     "name": "stderr",
     "output_type": "stream",
     "text": [
      "/opt/miniconda3/lib/python3.12/site-packages/sklearn/utils/validation.py:2739: UserWarning: X does not have valid feature names, but LGBMClassifier was fitted with feature names\n",
      "  warnings.warn(\n"
     ]
    },
    {
     "name": "stdout",
     "output_type": "stream",
     "text": [
      "[CV] END colsample_bytree=0.9630265895704372, learning_rate=0.032436300623398744, max_depth=25, n_estimators=854, num_leaves=62, reg_alpha=0.2030612247347694, reg_lambda=0.942853570557981, subsample=0.8395461865954144; total time=28.1min\n"
     ]
    },
    {
     "name": "stderr",
     "output_type": "stream",
     "text": [
      "/opt/miniconda3/lib/python3.12/site-packages/sklearn/utils/validation.py:2739: UserWarning: X does not have valid feature names, but LGBMClassifier was fitted with feature names\n",
      "  warnings.warn(\n"
     ]
    },
    {
     "name": "stdout",
     "output_type": "stream",
     "text": [
      "[CV] END colsample_bytree=0.9630265895704372, learning_rate=0.032436300623398744, max_depth=25, n_estimators=854, num_leaves=62, reg_alpha=0.2030612247347694, reg_lambda=0.942853570557981, subsample=0.8395461865954144; total time=28.4min\n"
     ]
    },
    {
     "name": "stderr",
     "output_type": "stream",
     "text": [
      "/opt/miniconda3/lib/python3.12/site-packages/sklearn/utils/validation.py:2739: UserWarning: X does not have valid feature names, but LGBMClassifier was fitted with feature names\n",
      "  warnings.warn(\n"
     ]
    },
    {
     "name": "stdout",
     "output_type": "stream",
     "text": [
      "[CV] END colsample_bytree=0.6002081507981263, learning_rate=0.041731197070075214, max_depth=15, n_estimators=558, num_leaves=25, reg_alpha=0.5107473025775657, reg_lambda=0.417411003148779, subsample=0.6888431241882921; total time= 4.1min\n"
     ]
    },
    {
     "name": "stderr",
     "output_type": "stream",
     "text": [
      "/opt/miniconda3/lib/python3.12/site-packages/sklearn/utils/validation.py:2739: UserWarning: X does not have valid feature names, but LGBMClassifier was fitted with feature names\n",
      "  warnings.warn(\n"
     ]
    },
    {
     "name": "stdout",
     "output_type": "stream",
     "text": [
      "[CV] END colsample_bytree=0.9533121035675474, learning_rate=0.03919105189047466, max_depth=20, n_estimators=672, num_leaves=58, reg_alpha=0.906828441545754, reg_lambda=0.2721322493846353, subsample=0.8590760482165449; total time=12.8min\n"
     ]
    },
    {
     "name": "stderr",
     "output_type": "stream",
     "text": [
      "/opt/miniconda3/lib/python3.12/site-packages/sklearn/utils/validation.py:2739: UserWarning: X does not have valid feature names, but LGBMClassifier was fitted with feature names\n",
      "  warnings.warn(\n"
     ]
    },
    {
     "name": "stdout",
     "output_type": "stream",
     "text": [
      "[CV] END colsample_bytree=0.9533121035675474, learning_rate=0.03919105189047466, max_depth=20, n_estimators=672, num_leaves=58, reg_alpha=0.906828441545754, reg_lambda=0.2721322493846353, subsample=0.8590760482165449; total time=13.1min\n"
     ]
    },
    {
     "name": "stderr",
     "output_type": "stream",
     "text": [
      "/opt/miniconda3/lib/python3.12/site-packages/sklearn/utils/validation.py:2739: UserWarning: X does not have valid feature names, but LGBMClassifier was fitted with feature names\n",
      "  warnings.warn(\n"
     ]
    },
    {
     "name": "stdout",
     "output_type": "stream",
     "text": [
      "[CV] END colsample_bytree=0.9533121035675474, learning_rate=0.03919105189047466, max_depth=20, n_estimators=672, num_leaves=58, reg_alpha=0.906828441545754, reg_lambda=0.2721322493846353, subsample=0.8590760482165449; total time=12.9min\n"
     ]
    },
    {
     "name": "stderr",
     "output_type": "stream",
     "text": [
      "/opt/miniconda3/lib/python3.12/site-packages/sklearn/utils/validation.py:2739: UserWarning: X does not have valid feature names, but LGBMClassifier was fitted with feature names\n",
      "  warnings.warn(\n"
     ]
    },
    {
     "name": "stdout",
     "output_type": "stream",
     "text": [
      "[CV] END colsample_bytree=0.9887128330883843, learning_rate=0.09662025654479, max_depth=10, n_estimators=586, num_leaves=68, reg_alpha=0.1480869299533999, reg_lambda=0.9977404850489419, subsample=0.706712405710114; total time=12.5min\n"
     ]
    },
    {
     "name": "stderr",
     "output_type": "stream",
     "text": [
      "/opt/miniconda3/lib/python3.12/site-packages/sklearn/utils/validation.py:2739: UserWarning: X does not have valid feature names, but LGBMClassifier was fitted with feature names\n",
      "  warnings.warn(\n"
     ]
    },
    {
     "name": "stdout",
     "output_type": "stream",
     "text": [
      "[CV] END colsample_bytree=0.9887128330883843, learning_rate=0.09662025654479, max_depth=10, n_estimators=586, num_leaves=68, reg_alpha=0.1480869299533999, reg_lambda=0.9977404850489419, subsample=0.706712405710114; total time=12.4min\n"
     ]
    },
    {
     "name": "stderr",
     "output_type": "stream",
     "text": [
      "/opt/miniconda3/lib/python3.12/site-packages/sklearn/utils/validation.py:2739: UserWarning: X does not have valid feature names, but LGBMClassifier was fitted with feature names\n",
      "  warnings.warn(\n"
     ]
    },
    {
     "name": "stdout",
     "output_type": "stream",
     "text": [
      "[CV] END colsample_bytree=0.9887128330883843, learning_rate=0.09662025654479, max_depth=10, n_estimators=586, num_leaves=68, reg_alpha=0.1480869299533999, reg_lambda=0.9977404850489419, subsample=0.706712405710114; total time=12.8min\n"
     ]
    },
    {
     "name": "stderr",
     "output_type": "stream",
     "text": [
      "/opt/miniconda3/lib/python3.12/site-packages/sklearn/utils/validation.py:2739: UserWarning: X does not have valid feature names, but LGBMClassifier was fitted with feature names\n",
      "  warnings.warn(\n"
     ]
    },
    {
     "name": "stdout",
     "output_type": "stream",
     "text": [
      "[CV] END colsample_bytree=0.9887128330883843, learning_rate=0.09662025654479, max_depth=10, n_estimators=586, num_leaves=68, reg_alpha=0.1480869299533999, reg_lambda=0.9977404850489419, subsample=0.706712405710114; total time=12.4min\n"
     ]
    },
    {
     "name": "stderr",
     "output_type": "stream",
     "text": [
      "/opt/miniconda3/lib/python3.12/site-packages/sklearn/utils/validation.py:2739: UserWarning: X does not have valid feature names, but LGBMClassifier was fitted with feature names\n",
      "  warnings.warn(\n"
     ]
    },
    {
     "name": "stdout",
     "output_type": "stream",
     "text": [
      "[CV] END colsample_bytree=0.6479461469334731, learning_rate=0.040385365426326515, max_depth=15, n_estimators=573, num_leaves=51, reg_alpha=0.5187906217433661, reg_lambda=0.7030189588951778, subsample=0.7454518409517176; total time=16.5min\n"
     ]
    },
    {
     "name": "stderr",
     "output_type": "stream",
     "text": [
      "/opt/miniconda3/lib/python3.12/site-packages/sklearn/utils/validation.py:2739: UserWarning: X does not have valid feature names, but LGBMClassifier was fitted with feature names\n",
      "  warnings.warn(\n"
     ]
    },
    {
     "name": "stdout",
     "output_type": "stream",
     "text": [
      "[CV] END colsample_bytree=0.9887128330883843, learning_rate=0.09662025654479, max_depth=10, n_estimators=586, num_leaves=68, reg_alpha=0.1480869299533999, reg_lambda=0.9977404850489419, subsample=0.706712405710114; total time=12.3min\n"
     ]
    },
    {
     "name": "stderr",
     "output_type": "stream",
     "text": [
      "/opt/miniconda3/lib/python3.12/site-packages/sklearn/utils/validation.py:2739: UserWarning: X does not have valid feature names, but LGBMClassifier was fitted with feature names\n",
      "  warnings.warn(\n"
     ]
    },
    {
     "name": "stdout",
     "output_type": "stream",
     "text": [
      "[CV] END colsample_bytree=0.9906459823330611, learning_rate=0.04699333119864082, max_depth=25, n_estimators=935, num_leaves=52, reg_alpha=0.6343513447013638, reg_lambda=0.6807054515547668, subsample=0.8123738333268545; total time=12.5min\n"
     ]
    },
    {
     "name": "stderr",
     "output_type": "stream",
     "text": [
      "/opt/miniconda3/lib/python3.12/site-packages/sklearn/utils/validation.py:2739: UserWarning: X does not have valid feature names, but LGBMClassifier was fitted with feature names\n",
      "  warnings.warn(\n"
     ]
    },
    {
     "name": "stdout",
     "output_type": "stream",
     "text": [
      "[CV] END colsample_bytree=0.6479461469334731, learning_rate=0.040385365426326515, max_depth=15, n_estimators=573, num_leaves=51, reg_alpha=0.5187906217433661, reg_lambda=0.7030189588951778, subsample=0.7454518409517176; total time=16.3min\n"
     ]
    },
    {
     "name": "stderr",
     "output_type": "stream",
     "text": [
      "/opt/miniconda3/lib/python3.12/site-packages/sklearn/utils/validation.py:2739: UserWarning: X does not have valid feature names, but LGBMClassifier was fitted with feature names\n",
      "  warnings.warn(\n"
     ]
    },
    {
     "name": "stdout",
     "output_type": "stream",
     "text": [
      "[CV] END colsample_bytree=0.9906459823330611, learning_rate=0.04699333119864082, max_depth=25, n_estimators=935, num_leaves=52, reg_alpha=0.6343513447013638, reg_lambda=0.6807054515547668, subsample=0.8123738333268545; total time=12.5min\n"
     ]
    },
    {
     "name": "stderr",
     "output_type": "stream",
     "text": [
      "/opt/miniconda3/lib/python3.12/site-packages/sklearn/utils/validation.py:2739: UserWarning: X does not have valid feature names, but LGBMClassifier was fitted with feature names\n",
      "  warnings.warn(\n"
     ]
    },
    {
     "name": "stdout",
     "output_type": "stream",
     "text": [
      "[CV] END colsample_bytree=0.6479461469334731, learning_rate=0.040385365426326515, max_depth=15, n_estimators=573, num_leaves=51, reg_alpha=0.5187906217433661, reg_lambda=0.7030189588951778, subsample=0.7454518409517176; total time=16.3min\n"
     ]
    },
    {
     "name": "stderr",
     "output_type": "stream",
     "text": [
      "/opt/miniconda3/lib/python3.12/site-packages/sklearn/utils/validation.py:2739: UserWarning: X does not have valid feature names, but LGBMClassifier was fitted with feature names\n",
      "  warnings.warn(\n"
     ]
    },
    {
     "name": "stdout",
     "output_type": "stream",
     "text": [
      "[CV] END colsample_bytree=0.6479461469334731, learning_rate=0.040385365426326515, max_depth=15, n_estimators=573, num_leaves=51, reg_alpha=0.5187906217433661, reg_lambda=0.7030189588951778, subsample=0.7454518409517176; total time=16.6min\n"
     ]
    },
    {
     "name": "stderr",
     "output_type": "stream",
     "text": [
      "/opt/miniconda3/lib/python3.12/site-packages/sklearn/utils/validation.py:2739: UserWarning: X does not have valid feature names, but LGBMClassifier was fitted with feature names\n",
      "  warnings.warn(\n"
     ]
    },
    {
     "name": "stdout",
     "output_type": "stream",
     "text": [
      "[CV] END colsample_bytree=0.6479461469334731, learning_rate=0.040385365426326515, max_depth=15, n_estimators=573, num_leaves=51, reg_alpha=0.5187906217433661, reg_lambda=0.7030189588951778, subsample=0.7454518409517176; total time=16.8min\n"
     ]
    },
    {
     "name": "stderr",
     "output_type": "stream",
     "text": [
      "/opt/miniconda3/lib/python3.12/site-packages/sklearn/utils/validation.py:2739: UserWarning: X does not have valid feature names, but LGBMClassifier was fitted with feature names\n",
      "  warnings.warn(\n"
     ]
    },
    {
     "name": "stdout",
     "output_type": "stream",
     "text": [
      "[CV] END colsample_bytree=0.7791132658292367, learning_rate=0.059760378016419514, max_depth=20, n_estimators=638, num_leaves=30, reg_alpha=0.36965445606140446, reg_lambda=0.24215993827742588, subsample=0.9212559025519583; total time= 3.6min\n"
     ]
    },
    {
     "name": "stderr",
     "output_type": "stream",
     "text": [
      "/opt/miniconda3/lib/python3.12/site-packages/sklearn/utils/validation.py:2739: UserWarning: X does not have valid feature names, but LGBMClassifier was fitted with feature names\n",
      "  warnings.warn(\n"
     ]
    },
    {
     "name": "stdout",
     "output_type": "stream",
     "text": [
      "[CV] END colsample_bytree=0.7791132658292367, learning_rate=0.059760378016419514, max_depth=20, n_estimators=638, num_leaves=30, reg_alpha=0.36965445606140446, reg_lambda=0.24215993827742588, subsample=0.9212559025519583; total time= 6.3min\n"
     ]
    },
    {
     "name": "stderr",
     "output_type": "stream",
     "text": [
      "/opt/miniconda3/lib/python3.12/site-packages/sklearn/utils/validation.py:2739: UserWarning: X does not have valid feature names, but LGBMClassifier was fitted with feature names\n",
      "  warnings.warn(\n"
     ]
    },
    {
     "name": "stdout",
     "output_type": "stream",
     "text": [
      "[CV] END colsample_bytree=0.7791132658292367, learning_rate=0.059760378016419514, max_depth=20, n_estimators=638, num_leaves=30, reg_alpha=0.36965445606140446, reg_lambda=0.24215993827742588, subsample=0.9212559025519583; total time= 5.3min\n"
     ]
    },
    {
     "name": "stderr",
     "output_type": "stream",
     "text": [
      "/opt/miniconda3/lib/python3.12/site-packages/sklearn/utils/validation.py:2739: UserWarning: X does not have valid feature names, but LGBMClassifier was fitted with feature names\n",
      "  warnings.warn(\n"
     ]
    },
    {
     "name": "stdout",
     "output_type": "stream",
     "text": [
      "[CV] END colsample_bytree=0.7791132658292367, learning_rate=0.059760378016419514, max_depth=20, n_estimators=638, num_leaves=30, reg_alpha=0.36965445606140446, reg_lambda=0.24215993827742588, subsample=0.9212559025519583; total time= 6.8min\n"
     ]
    },
    {
     "name": "stderr",
     "output_type": "stream",
     "text": [
      "/opt/miniconda3/lib/python3.12/site-packages/sklearn/utils/validation.py:2739: UserWarning: X does not have valid feature names, but LGBMClassifier was fitted with feature names\n",
      "  warnings.warn(\n"
     ]
    },
    {
     "name": "stdout",
     "output_type": "stream",
     "text": [
      "[CV] END colsample_bytree=0.7791132658292367, learning_rate=0.059760378016419514, max_depth=20, n_estimators=638, num_leaves=30, reg_alpha=0.36965445606140446, reg_lambda=0.24215993827742588, subsample=0.9212559025519583; total time= 5.8min\n"
     ]
    },
    {
     "name": "stderr",
     "output_type": "stream",
     "text": [
      "/opt/miniconda3/lib/python3.12/site-packages/sklearn/utils/validation.py:2739: UserWarning: X does not have valid feature names, but LGBMClassifier was fitted with feature names\n",
      "  warnings.warn(\n"
     ]
    },
    {
     "name": "stdout",
     "output_type": "stream",
     "text": [
      "[CV] END colsample_bytree=0.7881202537784153, learning_rate=0.09850808268053586, max_depth=15, n_estimators=710, num_leaves=67, reg_alpha=0.7983451249845511, reg_lambda=0.15071754396542947, subsample=0.8032795106962874; total time= 7.0min\n"
     ]
    },
    {
     "name": "stderr",
     "output_type": "stream",
     "text": [
      "/opt/miniconda3/lib/python3.12/site-packages/sklearn/utils/validation.py:2739: UserWarning: X does not have valid feature names, but LGBMClassifier was fitted with feature names\n",
      "  warnings.warn(\n"
     ]
    },
    {
     "name": "stdout",
     "output_type": "stream",
     "text": [
      "[CV] END colsample_bytree=0.7881202537784153, learning_rate=0.09850808268053586, max_depth=15, n_estimators=710, num_leaves=67, reg_alpha=0.7983451249845511, reg_lambda=0.15071754396542947, subsample=0.8032795106962874; total time= 7.3min\n"
     ]
    },
    {
     "name": "stderr",
     "output_type": "stream",
     "text": [
      "/opt/miniconda3/lib/python3.12/site-packages/sklearn/utils/validation.py:2739: UserWarning: X does not have valid feature names, but LGBMClassifier was fitted with feature names\n",
      "  warnings.warn(\n"
     ]
    },
    {
     "name": "stdout",
     "output_type": "stream",
     "text": [
      "[CV] END colsample_bytree=0.7881202537784153, learning_rate=0.09850808268053586, max_depth=15, n_estimators=710, num_leaves=67, reg_alpha=0.7983451249845511, reg_lambda=0.15071754396542947, subsample=0.8032795106962874; total time= 7.1min\n"
     ]
    },
    {
     "name": "stderr",
     "output_type": "stream",
     "text": [
      "/opt/miniconda3/lib/python3.12/site-packages/sklearn/utils/validation.py:2739: UserWarning: X does not have valid feature names, but LGBMClassifier was fitted with feature names\n",
      "  warnings.warn(\n"
     ]
    },
    {
     "name": "stdout",
     "output_type": "stream",
     "text": [
      "[CV] END colsample_bytree=0.7881202537784153, learning_rate=0.09850808268053586, max_depth=15, n_estimators=710, num_leaves=67, reg_alpha=0.7983451249845511, reg_lambda=0.15071754396542947, subsample=0.8032795106962874; total time= 7.0min\n"
     ]
    },
    {
     "name": "stderr",
     "output_type": "stream",
     "text": [
      "/opt/miniconda3/lib/python3.12/site-packages/sklearn/utils/validation.py:2739: UserWarning: X does not have valid feature names, but LGBMClassifier was fitted with feature names\n",
      "  warnings.warn(\n"
     ]
    },
    {
     "name": "stdout",
     "output_type": "stream",
     "text": [
      "[CV] END colsample_bytree=0.9906459823330611, learning_rate=0.04699333119864082, max_depth=25, n_estimators=935, num_leaves=52, reg_alpha=0.6343513447013638, reg_lambda=0.6807054515547668, subsample=0.8123738333268545; total time=12.7min\n"
     ]
    },
    {
     "name": "stderr",
     "output_type": "stream",
     "text": [
      "/opt/miniconda3/lib/python3.12/site-packages/sklearn/utils/validation.py:2739: UserWarning: X does not have valid feature names, but LGBMClassifier was fitted with feature names\n",
      "  warnings.warn(\n"
     ]
    },
    {
     "name": "stdout",
     "output_type": "stream",
     "text": [
      "[CV] END colsample_bytree=0.9906459823330611, learning_rate=0.04699333119864082, max_depth=25, n_estimators=935, num_leaves=52, reg_alpha=0.6343513447013638, reg_lambda=0.6807054515547668, subsample=0.8123738333268545; total time=12.9min\n"
     ]
    },
    {
     "name": "stderr",
     "output_type": "stream",
     "text": [
      "/opt/miniconda3/lib/python3.12/site-packages/sklearn/utils/validation.py:2739: UserWarning: X does not have valid feature names, but LGBMClassifier was fitted with feature names\n",
      "  warnings.warn(\n"
     ]
    },
    {
     "name": "stdout",
     "output_type": "stream",
     "text": [
      "[CV] END colsample_bytree=0.9906459823330611, learning_rate=0.04699333119864082, max_depth=25, n_estimators=935, num_leaves=52, reg_alpha=0.6343513447013638, reg_lambda=0.6807054515547668, subsample=0.8123738333268545; total time=13.2min\n"
     ]
    },
    {
     "name": "stderr",
     "output_type": "stream",
     "text": [
      "/opt/miniconda3/lib/python3.12/site-packages/sklearn/utils/validation.py:2739: UserWarning: X does not have valid feature names, but LGBMClassifier was fitted with feature names\n",
      "  warnings.warn(\n"
     ]
    },
    {
     "name": "stdout",
     "output_type": "stream",
     "text": [
      "[CV] END colsample_bytree=0.7881202537784153, learning_rate=0.09850808268053586, max_depth=15, n_estimators=710, num_leaves=67, reg_alpha=0.7983451249845511, reg_lambda=0.15071754396542947, subsample=0.8032795106962874; total time= 7.1min\n"
     ]
    },
    {
     "name": "stderr",
     "output_type": "stream",
     "text": [
      "/opt/miniconda3/lib/python3.12/site-packages/sklearn/utils/validation.py:2739: UserWarning: X does not have valid feature names, but LGBMClassifier was fitted with feature names\n",
      "  warnings.warn(\n"
     ]
    },
    {
     "name": "stdout",
     "output_type": "stream",
     "text": [
      "[CV] END colsample_bytree=0.8783251227163527, learning_rate=0.08725229243323478, max_depth=20, n_estimators=602, num_leaves=45, reg_alpha=0.512093058299281, reg_lambda=0.22649577519793795, subsample=0.8580691161637799; total time= 6.9min\n"
     ]
    },
    {
     "name": "stderr",
     "output_type": "stream",
     "text": [
      "/opt/miniconda3/lib/python3.12/site-packages/sklearn/utils/validation.py:2739: UserWarning: X does not have valid feature names, but LGBMClassifier was fitted with feature names\n",
      "  warnings.warn(\n"
     ]
    },
    {
     "name": "stdout",
     "output_type": "stream",
     "text": [
      "[CV] END colsample_bytree=0.8783251227163527, learning_rate=0.08725229243323478, max_depth=20, n_estimators=602, num_leaves=45, reg_alpha=0.512093058299281, reg_lambda=0.22649577519793795, subsample=0.8580691161637799; total time= 6.7min\n"
     ]
    },
    {
     "name": "stderr",
     "output_type": "stream",
     "text": [
      "/opt/miniconda3/lib/python3.12/site-packages/sklearn/utils/validation.py:2739: UserWarning: X does not have valid feature names, but LGBMClassifier was fitted with feature names\n",
      "  warnings.warn(\n"
     ]
    },
    {
     "name": "stdout",
     "output_type": "stream",
     "text": [
      "[CV] END colsample_bytree=0.8783251227163527, learning_rate=0.08725229243323478, max_depth=20, n_estimators=602, num_leaves=45, reg_alpha=0.512093058299281, reg_lambda=0.22649577519793795, subsample=0.8580691161637799; total time= 6.3min\n"
     ]
    },
    {
     "name": "stderr",
     "output_type": "stream",
     "text": [
      "/opt/miniconda3/lib/python3.12/site-packages/sklearn/utils/validation.py:2739: UserWarning: X does not have valid feature names, but LGBMClassifier was fitted with feature names\n",
      "  warnings.warn(\n"
     ]
    },
    {
     "name": "stdout",
     "output_type": "stream",
     "text": [
      "[CV] END colsample_bytree=0.8783251227163527, learning_rate=0.08725229243323478, max_depth=20, n_estimators=602, num_leaves=45, reg_alpha=0.512093058299281, reg_lambda=0.22649577519793795, subsample=0.8580691161637799; total time= 5.9min\n"
     ]
    },
    {
     "name": "stderr",
     "output_type": "stream",
     "text": [
      "/opt/miniconda3/lib/python3.12/site-packages/sklearn/utils/validation.py:2739: UserWarning: X does not have valid feature names, but LGBMClassifier was fitted with feature names\n",
      "  warnings.warn(\n"
     ]
    },
    {
     "name": "stdout",
     "output_type": "stream",
     "text": [
      "[CV] END colsample_bytree=0.6697465716019966, learning_rate=0.07218439642922193, max_depth=10, n_estimators=840, num_leaves=30, reg_alpha=0.3410663510502585, reg_lambda=0.11347352124058907, subsample=0.9698774473114251; total time= 3.9min\n"
     ]
    },
    {
     "name": "stderr",
     "output_type": "stream",
     "text": [
      "/opt/miniconda3/lib/python3.12/site-packages/sklearn/utils/validation.py:2739: UserWarning: X does not have valid feature names, but LGBMClassifier was fitted with feature names\n",
      "  warnings.warn(\n"
     ]
    },
    {
     "name": "stdout",
     "output_type": "stream",
     "text": [
      "[CV] END colsample_bytree=0.6697465716019966, learning_rate=0.07218439642922193, max_depth=10, n_estimators=840, num_leaves=30, reg_alpha=0.3410663510502585, reg_lambda=0.11347352124058907, subsample=0.9698774473114251; total time= 3.7min\n"
     ]
    },
    {
     "name": "stderr",
     "output_type": "stream",
     "text": [
      "/opt/miniconda3/lib/python3.12/site-packages/sklearn/utils/validation.py:2739: UserWarning: X does not have valid feature names, but LGBMClassifier was fitted with feature names\n",
      "  warnings.warn(\n"
     ]
    },
    {
     "name": "stdout",
     "output_type": "stream",
     "text": [
      "[CV] END colsample_bytree=0.8783251227163527, learning_rate=0.08725229243323478, max_depth=20, n_estimators=602, num_leaves=45, reg_alpha=0.512093058299281, reg_lambda=0.22649577519793795, subsample=0.8580691161637799; total time= 4.2min\n"
     ]
    },
    {
     "name": "stderr",
     "output_type": "stream",
     "text": [
      "/opt/miniconda3/lib/python3.12/site-packages/sklearn/utils/validation.py:2739: UserWarning: X does not have valid feature names, but LGBMClassifier was fitted with feature names\n",
      "  warnings.warn(\n"
     ]
    },
    {
     "name": "stdout",
     "output_type": "stream",
     "text": [
      "[CV] END colsample_bytree=0.6697465716019966, learning_rate=0.07218439642922193, max_depth=10, n_estimators=840, num_leaves=30, reg_alpha=0.3410663510502585, reg_lambda=0.11347352124058907, subsample=0.9698774473114251; total time= 3.7min\n"
     ]
    },
    {
     "name": "stderr",
     "output_type": "stream",
     "text": [
      "/opt/miniconda3/lib/python3.12/site-packages/sklearn/utils/validation.py:2739: UserWarning: X does not have valid feature names, but LGBMClassifier was fitted with feature names\n",
      "  warnings.warn(\n"
     ]
    },
    {
     "name": "stdout",
     "output_type": "stream",
     "text": [
      "[CV] END colsample_bytree=0.6697465716019966, learning_rate=0.07218439642922193, max_depth=10, n_estimators=840, num_leaves=30, reg_alpha=0.3410663510502585, reg_lambda=0.11347352124058907, subsample=0.9698774473114251; total time= 2.1min\n"
     ]
    },
    {
     "name": "stderr",
     "output_type": "stream",
     "text": [
      "/opt/miniconda3/lib/python3.12/site-packages/sklearn/utils/validation.py:2739: UserWarning: X does not have valid feature names, but LGBMClassifier was fitted with feature names\n",
      "  warnings.warn(\n"
     ]
    },
    {
     "name": "stdout",
     "output_type": "stream",
     "text": [
      "[CV] END colsample_bytree=0.6697465716019966, learning_rate=0.07218439642922193, max_depth=10, n_estimators=840, num_leaves=30, reg_alpha=0.3410663510502585, reg_lambda=0.11347352124058907, subsample=0.9698774473114251; total time= 1.7min\n",
      "\n",
      "Лучшие параметры для LightGBM (RandomizedSearchCV): {'colsample_bytree': 0.749816047538945, 'learning_rate': 0.09556428757689245, 'max_depth': 15, 'n_estimators': 271, 'num_leaves': 40, 'reg_alpha': 0.15601864044243652, 'reg_lambda': 0.15599452033620265, 'subsample': 0.6232334448672797}\n",
      "Лучший средний F1-macro на CV для LightGBM (RandomizedSearchCV): 0.9848\n",
      "Время обучения и RandomizedSearchCV: 6546.15 сек.\n",
      "\n",
      "\n",
      "\n",
      "--- Сводка F1-macro по кросс-валидации (обновленная) ---\n",
      "LightGBM (Randomized): Mean F1-macro = 0.9848\n",
      "LinearSVC: Mean F1-macro = 0.9791\n",
      "RandomForest: Mean F1-macro = 0.9790\n",
      "Logistic Regression: Mean F1-macro = 0.9778\n",
      "MultinomialNB (TF-IDF only): Mean F1-macro = 0.9460\n",
      "\n",
      "Текущая лучшая модель по CV: LightGBM (Randomized) с F1-macro = 0.9848\n"
     ]
    }
   ],
   "source": [
    "# --- 5. LightGBM Classifier (с RandomizedSearchCV) ---\n",
    "from sklearn.model_selection import RandomizedSearchCV\n",
    "from scipy.stats import randint, uniform # Для определения распределений параметров\n",
    "\n",
    "print(\"--- 5. Обучение и оценка LightGBM (с RandomizedSearchCV) ---\")\n",
    "start_time = time.time()\n",
    "\n",
    "# Определяем пространство параметров для RandomizedSearchCV\n",
    "# Используем распределения для более гибкого поиска\n",
    "param_dist_lgbm = {\n",
    "    'n_estimators': randint(200, 1000),       # от 200 до 999 деревьев\n",
    "    'learning_rate': uniform(0.01, 0.09),     # от 0.01 до 0.1 (0.01 + 0.09)\n",
    "    'num_leaves': randint(20, 70),            # от 20 до 69 листьев\n",
    "    'max_depth': [-1, 10, 15, 20, 25],        # -1 (без ограничения) или конкретные значения\n",
    "    'colsample_bytree': uniform(0.6, 0.4),    # доля признаков для каждого дерева (от 0.6 до 1.0)\n",
    "    'subsample': uniform(0.6, 0.4),           # доля объектов для каждого дерева (от 0.6 до 1.0)\n",
    "    'reg_alpha': uniform(0, 1),               # L1 регуляризация\n",
    "    'reg_lambda': uniform(0, 1)               # L2 регуляризация\n",
    "}\n",
    "\n",
    "N_ITER_LGBM = 25 # Количество итераций (комбинаций параметров) для RandomizedSearchCV\n",
    "                 # Увеличь, если есть время, для более тщательного поиска (например, 50-100)\n",
    "                 # Уменьши, если нужно еще быстрее (например, 10-15)\n",
    "\n",
    "# Инициализация RandomizedSearchCV\n",
    "# verbose=2 или 3 даст более детальный вывод о каждой итерации и фолде\n",
    "# verbose=1 покажет, какая итерация из N_ITER_LGBM сейчас выполняется\n",
    "random_search_lgbm = RandomizedSearchCV(\n",
    "    estimator=lgb.LGBMClassifier(random_state=42, class_weight='balanced', n_jobs=-1, verbose=-1), # verbose=-1 уберет логгирование самого LGBM\n",
    "    param_distributions=param_dist_lgbm,\n",
    "    n_iter=N_ITER_LGBM,\n",
    "    cv=skf, # Используем наш StratifiedKFold\n",
    "    scoring='f1_macro',\n",
    "    random_state=42,\n",
    "    n_jobs=-1, # Используем все ядра для CV внутри RandomizedSearchCV\n",
    "    verbose=2  # Уровень детализации вывода (0 - нет, 1 - итерации, 2 - +очки, 3 - +параметры фолда)\n",
    ")\n",
    "\n",
    "print(f\"Начинаем RandomizedSearchCV для LightGBM с {N_ITER_LGBM} итерациями...\")\n",
    "random_search_lgbm.fit(X_train_full, y_train)\n",
    "\n",
    "# Получение лучших результатов\n",
    "lgbm_model = random_search_lgbm.best_estimator_\n",
    "lgbm_cv_score = random_search_lgbm.best_score_\n",
    "lgbm_best_params = random_search_lgbm.best_params_\n",
    "\n",
    "# Сохраняем результат в общий словарь (если он существует, иначе создаем)\n",
    "if 'cv_results' not in locals():\n",
    "    cv_results = {}\n",
    "cv_results['LightGBM (Randomized)'] = lgbm_cv_score\n",
    "\n",
    "print(f\"\\nЛучшие параметры для LightGBM (RandomizedSearchCV): {lgbm_best_params}\")\n",
    "print(f\"Лучший средний F1-macro на CV для LightGBM (RandomizedSearchCV): {lgbm_cv_score:.4f}\")\n",
    "print(f\"Время обучения и RandomizedSearchCV: {time.time() - start_time:.2f} сек.\\n\")\n",
    "\n",
    "# Добавляем модель в словарь лучших моделей (если он существует)\n",
    "if 'best_models' not in locals():\n",
    "    best_models = {}\n",
    "best_models['LightGBM (Randomized)'] = lgbm_model\n",
    "\n",
    "# --- Обновленная сводка результатов CV (если остальные модели уже посчитаны) ---\n",
    "if len(cv_results) > 1: # Если есть и другие результаты кроме LGBM\n",
    "    print(\"\\n\\n--- Сводка F1-macro по кросс-валидации (обновленная) ---\")\n",
    "    sorted_cv_results_updated = sorted(cv_results.items(), key=lambda item: item[1], reverse=True)\n",
    "    for model_name, score in sorted_cv_results_updated:\n",
    "        print(f\"{model_name}: Mean F1-macro = {score:.4f}\")\n",
    "\n",
    "    best_overall_model_name_updated = sorted_cv_results_updated[0][0]\n",
    "    print(f\"\\nТекущая лучшая модель по CV: {best_overall_model_name_updated} с F1-macro = {sorted_cv_results_updated[0][1]:.4f}\")\n",
    "else:\n",
    "    print(\"\\nТолько LightGBM был оценен в этом блоке.\")"
   ]
  },
  {
   "cell_type": "code",
   "execution_count": 28,
   "id": "b3794dd4",
   "metadata": {},
   "outputs": [
    {
     "name": "stdout",
     "output_type": "stream",
     "text": [
      "\n",
      "\n",
      "--- Сводка F1-macro по кросс-валидации (после GridSearchCV) ---\n",
      "LightGBM (Randomized): Mean F1-macro = 0.9848\n",
      "LinearSVC: Mean F1-macro = 0.9791\n",
      "RandomForest: Mean F1-macro = 0.9790\n",
      "Logistic Regression: Mean F1-macro = 0.9778\n",
      "MultinomialNB (TF-IDF only): Mean F1-macro = 0.9460\n"
     ]
    }
   ],
   "source": [
    "# --- Сводка результатов CV ---\n",
    "print(\"\\n\\n--- Сводка F1-macro по кросс-валидации (после GridSearchCV) ---\")\n",
    "sorted_cv_results = sorted(cv_results.items(), key=lambda item: item[1], reverse=True)\n",
    "for model_name, score in sorted_cv_results:\n",
    "    print(f\"{model_name}: Mean F1-macro = {score:.4f}\")\n",
    "\n",
    "# Сохраним обученные лучшие модели для дальнейшего использования\n",
    "best_models = {\n",
    "    'Logistic Regression': log_reg_model,\n",
    "    'LinearSVC': svc_model,\n",
    "    'MultinomialNB (TF-IDF only)': mnb_model, # Помним, что эта модель обучена только на TF-IDF\n",
    "    'RandomForest': rf_model,\n",
    "    'LightGBM (Randomized)': lgbm_model\n",
    "}"
   ]
  },
  {
   "cell_type": "code",
   "execution_count": 29,
   "id": "8467d454",
   "metadata": {},
   "outputs": [
    {
     "name": "stdout",
     "output_type": "stream",
     "text": [
      "\n",
      "\n",
      "--- Финальная сводка F1-macro по кросс-валидации ---\n",
      "LightGBM (Randomized): Mean F1-macro = 0.9848\n",
      "LinearSVC: Mean F1-macro = 0.9791\n",
      "RandomForest: Mean F1-macro = 0.9790\n",
      "Logistic Regression: Mean F1-macro = 0.9778\n",
      "MultinomialNB (TF-IDF only): Mean F1-macro = 0.9460\n",
      "\n",
      "Определена лучшая модель по CV: LightGBM (Randomized) с F1-macro = 0.9848\n",
      "Модель 'LightGBM (Randomized)' НАЙДЕНА в словаре best_models.\n",
      "Тип объекта модели: <class 'lightgbm.sklearn.LGBMClassifier'>\n",
      "\n",
      "--- Проверка наличия необходимых переменных для сабмита ---\n",
      "Переменная 'X_test_full' найдена. Shape: (16229, 32004)\n",
      "Переменная 'test_df' найдена. Shape: (16229, 27)\n",
      "Переменная 'y_train' найдена. Shape: (24347,)\n",
      "Переменная 'X_train_full' найдена. Shape: (24347, 32004)\n",
      "Все ключевые переменные для сабмита присутствуют.\n"
     ]
    }
   ],
   "source": [
    "# Блок 8-А: Финальная сводка и проверка переменных (Перед сабмитом)\n",
    "\n",
    "print(\"\\n\\n--- Финальная сводка F1-macro по кросс-валидации ---\")\n",
    "if 'cv_results' in locals() and cv_results:\n",
    "    sorted_cv_results_final = sorted(cv_results.items(), key=lambda item: item[1], reverse=True)\n",
    "    for model_name, score in sorted_cv_results_final:\n",
    "        print(f\"{model_name}: Mean F1-macro = {score:.4f}\")\n",
    "\n",
    "    if sorted_cv_results_final:\n",
    "        best_overall_model_name_check = sorted_cv_results_final[0][0]\n",
    "        print(f\"\\nОпределена лучшая модель по CV: {best_overall_model_name_check} с F1-macro = {sorted_cv_results_final[0][1]:.4f}\")\n",
    "        \n",
    "        if 'best_models' in locals() and best_models:\n",
    "            if best_overall_model_name_check in best_models:\n",
    "                print(f\"Модель '{best_overall_model_name_check}' НАЙДЕНА в словаре best_models.\") # Изменил текст для ясности\n",
    "                print(f\"Тип объекта модели: {type(best_models[best_overall_model_name_check])}\")\n",
    "            else:\n",
    "                print(f\"ОШИБКА ПРОВЕРКИ: Модель '{best_overall_model_name_check}' НЕ НАЙДENA в словаре best_models!\")\n",
    "                print(\"Содержимое best_models.keys():\", list(best_models.keys()))\n",
    "        else:\n",
    "            print(\"ОШИБКА ПРОВЕРКИ: Словарь best_models не найден или пуст.\")\n",
    "    else:\n",
    "        print(\"Не удалось определить лучшую модель, cv_results пуст после сортировки.\")\n",
    "else:\n",
    "    print(\"ОШИБКА ПРОВЕРКИ: Словарь cv_results не найден или пуст.\")\n",
    "\n",
    "# Также убедимся, что необходимые данные для предсказания существуют\n",
    "required_data_vars = ['X_test_full', 'test_df', 'y_train', 'X_train_full'] # Добавил y_train, X_train_full для калибровки\n",
    "if 'cv_results' in locals() and cv_results: # Если MNB вообще рассматривался\n",
    "    # Проверяем, не является ли MNB лучшей моделью и нужны ли ему X_test_tfidf_only\n",
    "    if sorted(cv_results.items(), key=lambda item: item[1], reverse=True) and \\\n",
    "       sorted(cv_results.items(), key=lambda item: item[1], reverse=True)[0][0] == 'MultinomialNB (TF-IDF only)':\n",
    "        required_data_vars.extend(['X_test_title_tfidf', 'X_test_text_tfidf'])\n",
    "\n",
    "print(\"\\n--- Проверка наличия необходимых переменных для сабмита ---\")\n",
    "all_vars_found = True\n",
    "for var_name in required_data_vars:\n",
    "    if var_name not in locals():\n",
    "        print(f\"ОШИБКА ПРОВЕРКИ: Переменная '{var_name}' не найдена.\")\n",
    "        all_vars_found = False\n",
    "    else:\n",
    "        print(f\"Переменная '{var_name}' найдена.\", end=\" \")\n",
    "        data_var = locals()[var_name]\n",
    "        if hasattr(data_var, 'shape'):\n",
    "            print(f\"Shape: {data_var.shape}\")\n",
    "        elif isinstance(data_var, pd.DataFrame):\n",
    "            print(f\"DataFrame, info: \")\n",
    "            data_var.info(verbose=False, memory_usage=False)\n",
    "        else:\n",
    "            print(f\"Type: {type(data_var)}\")\n",
    "if not all_vars_found:\n",
    "    print(\"Не все необходимые переменные для сабмита найдены! Проверьте предыдущие блоки.\")\n",
    "else:\n",
    "    print(\"Все ключевые переменные для сабмита присутствуют.\")"
   ]
  },
  {
   "cell_type": "code",
   "execution_count": 31,
   "id": "1065f84d",
   "metadata": {},
   "outputs": [
    {
     "name": "stdout",
     "output_type": "stream",
     "text": [
      "\n",
      "\n",
      "--- 6. Подготовка файла для сабмита (с бинарными метками) ---\n",
      "Лучшая модель по CV: LightGBM (Randomized) с F1-macro = 0.9848\n",
      "Получены вероятности и преобразованы в классы с порогом 0.5.\n",
      "\n",
      "Файл для сабмита 'submission.csv' успешно создан с БИНАРНЫМИ метками.\n",
      "Первые 5 строк сабмишн файла:\n"
     ]
    },
    {
     "name": "stderr",
     "output_type": "stream",
     "text": [
      "/opt/miniconda3/lib/python3.12/site-packages/sklearn/utils/validation.py:2739: UserWarning: X does not have valid feature names, but LGBMClassifier was fitted with feature names\n",
      "  warnings.warn(\n",
      "/opt/miniconda3/lib/python3.12/site-packages/lightgbm/basic.py:1238: UserWarning: Converting data to scipy sparse matrix.\n",
      "  _log_warning(\"Converting data to scipy sparse matrix.\")\n"
     ]
    },
    {
     "data": {
      "text/html": [
       "<div>\n",
       "<style scoped>\n",
       "    .dataframe tbody tr th:only-of-type {\n",
       "        vertical-align: middle;\n",
       "    }\n",
       "\n",
       "    .dataframe tbody tr th {\n",
       "        vertical-align: top;\n",
       "    }\n",
       "\n",
       "    .dataframe thead th {\n",
       "        text-align: right;\n",
       "    }\n",
       "</style>\n",
       "<table border=\"1\" class=\"dataframe\">\n",
       "  <thead>\n",
       "    <tr style=\"text-align: right;\">\n",
       "      <th></th>\n",
       "      <th>id</th>\n",
       "      <th>label</th>\n",
       "    </tr>\n",
       "  </thead>\n",
       "  <tbody>\n",
       "    <tr>\n",
       "      <th>0</th>\n",
       "      <td>1</td>\n",
       "      <td>1</td>\n",
       "    </tr>\n",
       "    <tr>\n",
       "      <th>1</th>\n",
       "      <td>2</td>\n",
       "      <td>1</td>\n",
       "    </tr>\n",
       "    <tr>\n",
       "      <th>2</th>\n",
       "      <td>3</td>\n",
       "      <td>1</td>\n",
       "    </tr>\n",
       "    <tr>\n",
       "      <th>3</th>\n",
       "      <td>4</td>\n",
       "      <td>1</td>\n",
       "    </tr>\n",
       "    <tr>\n",
       "      <th>4</th>\n",
       "      <td>5</td>\n",
       "      <td>1</td>\n",
       "    </tr>\n",
       "  </tbody>\n",
       "</table>\n",
       "</div>"
      ],
      "text/plain": [
       "   id  label\n",
       "0   1      1\n",
       "1   2      1\n",
       "2   3      1\n",
       "3   4      1\n",
       "4   5      1"
      ]
     },
     "metadata": {},
     "output_type": "display_data"
    },
    {
     "name": "stdout",
     "output_type": "stream",
     "text": [
      "\n",
      "Распределение предсказанных меток в сабмишн файле:\n",
      "label\n",
      "1    0.528005\n",
      "0    0.471995\n",
      "Name: proportion, dtype: float64\n"
     ]
    }
   ],
   "source": [
    "# Блок 8: Генерация файла для сабмита (с бинарными метками)\n",
    "from sklearn.calibration import CalibratedClassifierCV\n",
    "from scipy.sparse import hstack \n",
    "\n",
    "print(\"\\n\\n--- 6. Подготовка файла для сабмита (с бинарными метками) ---\")\n",
    "\n",
    "# Убедимся, что cv_results и best_models существуют и заполнены\n",
    "if 'cv_results' not in locals() or not cv_results:\n",
    "    print(\"Словарь cv_results пуст или не существует. Запустите сначала блоки обучения моделей.\")\n",
    "elif 'best_models' not in locals() or not best_models:\n",
    "    print(\"Словарь best_models пуст или не существует. Запустите сначала блоки обучения моделей.\")\n",
    "else:\n",
    "    sorted_cv_results_final = sorted(cv_results.items(), key=lambda item: item[1], reverse=True)\n",
    "    \n",
    "    if not sorted_cv_results_final:\n",
    "        print(\"Не удалось отсортировать cv_results. Список пуст.\")\n",
    "    else:\n",
    "        best_overall_model_name = sorted_cv_results_final[0][0]\n",
    "        print(f\"Лучшая модель по CV: {best_overall_model_name} с F1-macro = {sorted_cv_results_final[0][1]:.4f}\")\n",
    "\n",
    "        if best_overall_model_name in best_models:\n",
    "            best_overall_model_instance = best_models[best_overall_model_name]\n",
    "\n",
    "            # Подготовка данных для предсказания в зависимости от модели\n",
    "            if best_overall_model_name == 'MultinomialNB (TF-IDF only)':\n",
    "                print(\"MultinomialNB был обучен только на TF-IDF признаках. Используем X_test_tfidf_only для предсказания.\")\n",
    "                if 'X_test_title_tfidf' in locals() and 'X_test_text_tfidf' in locals():\n",
    "                    X_test_data_for_submission = hstack([X_test_title_tfidf, X_test_text_tfidf])\n",
    "                else:\n",
    "                    print(\"ОШИБКА: X_test_title_tfidf или X_test_text_tfidf не найдены для MultinomialNB.\")\n",
    "                    X_test_data_for_submission = None\n",
    "            else:\n",
    "                X_test_data_for_submission = X_test_full\n",
    "\n",
    "            if X_test_data_for_submission is not None:\n",
    "                predicted_labels = None # Инициализируем\n",
    "\n",
    "                # --- Получение предсказанных КЛАССОВ (0 или 1) ---\n",
    "                # Вместо predict_proba, теперь будем использовать predict,\n",
    "                # или predict_proba + пороговое преобразование.\n",
    "                # Если модель уже возвращает классы через .predict(), это проще.\n",
    "\n",
    "                # Для моделей, которые имеют predict_proba (LGBM, LogisticRegression, RandomForest, откалиброванный SVC)\n",
    "                # мы можем сначала получить вероятности, а затем применить порог.\n",
    "                # Это дает возможность в будущем подобрать оптимальный порог, если 0.5 не лучший.\n",
    "                \n",
    "                PROBABILITY_THRESHOLD = 0.5 # Стандартный порог\n",
    "\n",
    "                if hasattr(best_overall_model_instance, \"predict_proba\"):\n",
    "                    probabilities = best_overall_model_instance.predict_proba(X_test_data_for_submission)[:, 1]\n",
    "                    predicted_labels = (probabilities >= PROBABILITY_THRESHOLD).astype(int)\n",
    "                    print(f\"Получены вероятности и преобразованы в классы с порогом {PROBABILITY_THRESHOLD}.\")\n",
    "                elif best_overall_model_name == 'LinearSVC' and hasattr(best_overall_model_instance, \"decision_function\"):\n",
    "                    print(f\"Модель {best_overall_model_name} требует калибровки или использования predict() напрямую.\")\n",
    "                    # LinearSVC (некалиброванный) напрямую предсказывает классы через .predict()\n",
    "                    # Его decision_function можно использовать с порогом 0 для получения классов.\n",
    "                    # Если мы его откалибровали ранее для predict_proba, то тот блок выше должен был сработать.\n",
    "                    # Для чистоты, если мы хотим именно классы от LinearSVC:\n",
    "                    # 1. Использовать откалиброванную модель (если она сохранена и доступна) и predict_proba + порог\n",
    "                    # 2. Использовать оригинальный LinearSVC и .predict()\n",
    "                    \n",
    "                    # Предположим, мы хотим использовать оригинальный (некалиброванный) LinearSVC, если predict_proba нет\n",
    "                    if hasattr(best_overall_model_instance, \"predict\"):\n",
    "                         predicted_labels = best_overall_model_instance.predict(X_test_data_for_submission)\n",
    "                         print(\"Использован метод predict() для LinearSVC.\")\n",
    "                    else: # Если и predict нет, то это странно\n",
    "                         print(f\"ОШИБКА: LinearSVC не имеет ни predict_proba, ни predict. Требуется калибровка для вероятностей или проверка модели.\")\n",
    "\n",
    "                elif hasattr(best_overall_model_instance, \"predict\"): # Для других моделей, у которых может не быть predict_proba\n",
    "                    predicted_labels = best_overall_model_instance.predict(X_test_data_for_submission)\n",
    "                    print(f\"Использован метод predict() для модели {best_overall_model_name}.\")\n",
    "                else:\n",
    "                    print(f\"ОШИБКА: Модель {best_overall_model_name} не имеет подходящего метода для предсказания классов (predict или predict_proba).\")\n",
    "\n",
    "                if predicted_labels is not None:\n",
    "                    # Создание DataFrame для сабмита\n",
    "                    submission_df = pd.DataFrame({\n",
    "                        'id': test_df['id'],\n",
    "                        'label': predicted_labels # Используем предсказанные классы\n",
    "                    })\n",
    "\n",
    "                    # Сохранение файла сабмита\n",
    "                    submission_filename = 'submission.csv'\n",
    "                    submission_df.to_csv(submission_filename, index=False)\n",
    "                    print(f\"\\nФайл для сабмита '{submission_filename}' успешно создан с БИНАРНЫМИ метками.\")\n",
    "                    print(\"Первые 5 строк сабмишн файла:\")\n",
    "                    display(submission_df.head())\n",
    "                    print(\"\\nРаспределение предсказанных меток в сабмишн файле:\")\n",
    "                    print(submission_df['label'].value_counts(normalize=True))\n",
    "                else:\n",
    "                    print(\"Не удалось сгенерировать предсказания классов для сабмита.\")\n",
    "            else:\n",
    "                print(\"Данные для предсказания (X_test_data_for_submission) не подготовлены.\")\n",
    "        else:\n",
    "            print(f\"ОШИБКА: Модель {best_overall_model_name} не найдена в словаре best_models.\")"
   ]
  }
 ],
 "metadata": {
  "kernelspec": {
   "display_name": "base",
   "language": "python",
   "name": "python3"
  },
  "language_info": {
   "codemirror_mode": {
    "name": "ipython",
    "version": 3
   },
   "file_extension": ".py",
   "mimetype": "text/x-python",
   "name": "python",
   "nbconvert_exporter": "python",
   "pygments_lexer": "ipython3",
   "version": "3.12.2"
  }
 },
 "nbformat": 4,
 "nbformat_minor": 5
}
